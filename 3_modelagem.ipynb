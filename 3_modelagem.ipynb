{
 "cells": [
  {
   "cell_type": "markdown",
   "id": "419d0e1a-7d96-4665-b517-f52adfcbf3bd",
   "metadata": {},
   "source": [
    "# 1 - Importar libs e carregar os DataFrames"
   ]
  },
  {
   "cell_type": "code",
   "execution_count": 3,
   "id": "0ec224d3-cbd2-48d3-be7f-4b217debff53",
   "metadata": {},
   "outputs": [],
   "source": [
    "import seaborn as sns\n",
    "import numpy as np\n",
    "import pandas as pd\n",
    "import matplotlib.pyplot as plt\n",
    "import time\n",
    "from datetime import datetime\n",
    "from datetime import timedelta\n",
    "import pickle\n",
    "%matplotlib inline\n",
    "\n",
    "# machine learning models\n",
    "import statsmodels.api as sm\n",
    "import statsmodels.formula.api as smf\n",
    "from sklearn.linear_model import LogisticRegression\n",
    "from sklearn.neighbors import KNeighborsClassifier\n",
    "from sklearn.svm import SVC\n",
    "from sklearn.naive_bayes import GaussianNB\n",
    "from sklearn.tree import DecisionTreeClassifier\n",
    "from sklearn.ensemble import RandomForestClassifier,GradientBoostingClassifier\n",
    "\n",
    "from yellowbrick.classifier import ROCAUC\n",
    "\n",
    "# preprocessing and pipeline\n",
    "from sklearn.preprocessing import (StandardScaler,  # REESCALANDO FEATURES\n",
    "                                   MinMaxScaler, \n",
    "                                   RobustScaler, \n",
    "                                   LabelEncoder)\n",
    "from sklearn.pipeline import Pipeline # CRIANDO PIPELINES\n",
    "from sklearn import set_config\n",
    "from imblearn.under_sampling import RandomUnderSampler\n",
    "\n",
    "# import category_encoders as ce\n",
    "\n",
    "# # feature selection\n",
    "# from sklearn.feature_selection import SelectKBest, chi2, RFE  # SELEÇÃO DE FEATURES\n",
    "\n",
    "\n",
    "# mode selection and metrics\n",
    "from sklearn.model_selection import (train_test_split,  # METRICAS\n",
    "                                     GridSearchCV,\n",
    "                                     KFold,\n",
    "                                     StratifiedKFold,\n",
    "                                     RandomizedSearchCV,\n",
    "                                     cross_val_score)\n",
    "\n",
    "from sklearn import metrics\n",
    "\n",
    "from sklearn.metrics import (accuracy_score, \n",
    "                             classification_report, \n",
    "                             precision_score, \n",
    "                             recall_score,\n",
    "                             confusion_matrix,\n",
    "                             roc_auc_score,\n",
    "                             roc_curve\n",
    "                            )\n",
    "\n",
    "# warnings option\n",
    "import warnings\n",
    "warnings.filterwarnings('ignore')"
   ]
  },
  {
   "cell_type": "markdown",
   "id": "9510554a-ec89-47d2-b74a-12afa15469a3",
   "metadata": {
    "tags": []
   },
   "source": [
    "# 2 - Lendo Arquivos"
   ]
  },
  {
   "cell_type": "code",
   "execution_count": 4,
   "id": "4befbb0c-8204-47a9-b2c5-42aa2661e1ef",
   "metadata": {},
   "outputs": [],
   "source": [
    "df = pd.read_pickle('dados/cleaned/df_preped.pkl')\n",
    "df_idh = pd.read_pickle('dados/cleaned/df_idh.pkl')\n",
    "df_populacao = pd.read_excel('dados/cleaned/pop_saopaulo.xlsx')"
   ]
  },
  {
   "cell_type": "code",
   "execution_count": 5,
   "id": "ec4edcec",
   "metadata": {},
   "outputs": [],
   "source": [
    "features = ['cardiopatia','diabetes', 'doenca_neurologica', 'obesidade', 'outros_fatores_de_risco','idade', 'cs_sexo']\n",
    "\n",
    "# Criando matriz X de variaveis explicativas\n",
    "X = df[features]\n",
    "\n",
    "# Criando a variavel target\n",
    "y = df.obito"
   ]
  },
  {
   "cell_type": "code",
   "execution_count": 6,
   "id": "a35007e3",
   "metadata": {},
   "outputs": [
    {
     "data": {
      "text/plain": [
       "((4361064, 7), (4361064,))"
      ]
     },
     "execution_count": 6,
     "metadata": {},
     "output_type": "execute_result"
    }
   ],
   "source": [
    "X.shape,y.shape"
   ]
  },
  {
   "cell_type": "markdown",
   "id": "c7919b56",
   "metadata": {},
   "source": [
    "# 3 - Balanceamento dos dados\n",
    "\n",
    "O desbalancemanto dos dados para treinar o modelo pode inserir viés na análise, por isso o modelo será treinado com dados balanceados"
   ]
  },
  {
   "cell_type": "code",
   "execution_count": 7,
   "id": "4565abdf",
   "metadata": {},
   "outputs": [
    {
     "data": {
      "text/plain": [
       "0    4208562\n",
       "1     152502\n",
       "Name: obito, dtype: int64"
      ]
     },
     "execution_count": 7,
     "metadata": {},
     "output_type": "execute_result"
    }
   ],
   "source": [
    "df['obito'].value_counts()"
   ]
  },
  {
   "cell_type": "code",
   "execution_count": 8,
   "id": "5a660ad9",
   "metadata": {},
   "outputs": [
    {
     "data": {
      "text/plain": [
       "<AxesSubplot:ylabel='obito'>"
      ]
     },
     "execution_count": 8,
     "metadata": {},
     "output_type": "execute_result"
    },
    {
     "data": {
      "image/png": "[encoded data removed]",
      "text/plain": [
       "<Figure size 576x396 with 1 Axes>"
      ]
     },
     "metadata": {},
     "output_type": "display_data"
    }
   ],
   "source": [
    "df['obito'].value_counts().plot.pie(autopct='%.2f')"
   ]
  },
  {
   "cell_type": "code",
   "execution_count": 9,
   "id": "0eaa52e5",
   "metadata": {},
   "outputs": [],
   "source": [
    "# Instanciando o NearMIss\n",
    "under_sampler = RandomUnderSampler(sampling_strategy=1) # FLOAT"
   ]
  },
  {
   "cell_type": "code",
   "execution_count": 10,
   "id": "6c9b54aa",
   "metadata": {},
   "outputs": [],
   "source": [
    "# Aplicando o NearMiss nos dados para igualar a quantidade de amostras das classes\n",
    "X_res, y_res = under_sampler.fit_resample(X, y)"
   ]
  },
  {
   "cell_type": "code",
   "execution_count": 11,
   "id": "c12b5996",
   "metadata": {},
   "outputs": [
    {
     "data": {
      "image/png": "[encoded data removed]",
      "text/plain": [
       "<Figure size 576x396 with 1 Axes>"
      ]
     },
     "metadata": {},
     "output_type": "display_data"
    }
   ],
   "source": [
    "ax = y_res.value_counts().plot.pie(autopct='%.2f')"
   ]
  },
  {
   "cell_type": "code",
   "execution_count": 12,
   "id": "4987a0d8",
   "metadata": {},
   "outputs": [
    {
     "data": {
      "text/plain": [
       "0    152502\n",
       "1    152502\n",
       "Name: obito, dtype: int64"
      ]
     },
     "execution_count": 12,
     "metadata": {},
     "output_type": "execute_result"
    }
   ],
   "source": [
    "y_res.value_counts()"
   ]
  },
  {
   "cell_type": "markdown",
   "id": "460e9a31-9775-4df2-9e0e-5a3a7bb5b081",
   "metadata": {},
   "source": [
    "# 4 - Modelagem"
   ]
  },
  {
   "cell_type": "markdown",
   "id": "78ce552a",
   "metadata": {},
   "source": [
    "Utilizando oa função tools.add_constant() do pacote statsmodel adicionaremos uma coluna contendo apenas '1' na matriz X que servir como entidade de coeficiante de intepretação do modelo"
   ]
  },
  {
   "cell_type": "code",
   "execution_count": 13,
   "id": "5798c4fa",
   "metadata": {},
   "outputs": [],
   "source": [
    "X_res = sm.tools.add_constant(X_res)"
   ]
  },
  {
   "cell_type": "code",
   "execution_count": 14,
   "id": "00189ecf",
   "metadata": {},
   "outputs": [
    {
     "data": {
      "text/html": [
       "<div>\n",
       "<style scoped>\n",
       "    .dataframe tbody tr th:only-of-type {\n",
       "        vertical-align: middle;\n",
       "    }\n",
       "\n",
       "    .dataframe tbody tr th {\n",
       "        vertical-align: top;\n",
       "    }\n",
       "\n",
       "    .dataframe thead th {\n",
       "        text-align: right;\n",
       "    }\n",
       "</style>\n",
       "<table border=\"1\" class=\"dataframe\">\n",
       "  <thead>\n",
       "    <tr style=\"text-align: right;\">\n",
       "      <th></th>\n",
       "      <th>const</th>\n",
       "      <th>cardiopatia</th>\n",
       "      <th>diabetes</th>\n",
       "      <th>doenca_neurologica</th>\n",
       "      <th>obesidade</th>\n",
       "      <th>outros_fatores_de_risco</th>\n",
       "      <th>idade</th>\n",
       "      <th>cs_sexo</th>\n",
       "    </tr>\n",
       "  </thead>\n",
       "  <tbody>\n",
       "    <tr>\n",
       "      <th>0</th>\n",
       "      <td>1.0</td>\n",
       "      <td>0</td>\n",
       "      <td>0</td>\n",
       "      <td>0</td>\n",
       "      <td>0</td>\n",
       "      <td>0</td>\n",
       "      <td>48.0</td>\n",
       "      <td>0</td>\n",
       "    </tr>\n",
       "    <tr>\n",
       "      <th>1</th>\n",
       "      <td>1.0</td>\n",
       "      <td>0</td>\n",
       "      <td>0</td>\n",
       "      <td>0</td>\n",
       "      <td>0</td>\n",
       "      <td>0</td>\n",
       "      <td>29.0</td>\n",
       "      <td>1</td>\n",
       "    </tr>\n",
       "    <tr>\n",
       "      <th>2</th>\n",
       "      <td>1.0</td>\n",
       "      <td>0</td>\n",
       "      <td>0</td>\n",
       "      <td>0</td>\n",
       "      <td>0</td>\n",
       "      <td>0</td>\n",
       "      <td>53.0</td>\n",
       "      <td>1</td>\n",
       "    </tr>\n",
       "    <tr>\n",
       "      <th>3</th>\n",
       "      <td>1.0</td>\n",
       "      <td>0</td>\n",
       "      <td>0</td>\n",
       "      <td>0</td>\n",
       "      <td>0</td>\n",
       "      <td>0</td>\n",
       "      <td>30.0</td>\n",
       "      <td>1</td>\n",
       "    </tr>\n",
       "  </tbody>\n",
       "</table>\n",
       "</div>"
      ],
      "text/plain": [
       "   const  cardiopatia  diabetes  doenca_neurologica  obesidade  \\\n",
       "0    1.0            0         0                   0          0   \n",
       "1    1.0            0         0                   0          0   \n",
       "2    1.0            0         0                   0          0   \n",
       "3    1.0            0         0                   0          0   \n",
       "\n",
       "   outros_fatores_de_risco  idade  cs_sexo  \n",
       "0                        0   48.0        0  \n",
       "1                        0   29.0        1  \n",
       "2                        0   53.0        1  \n",
       "3                        0   30.0        1  "
      ]
     },
     "execution_count": 14,
     "metadata": {},
     "output_type": "execute_result"
    }
   ],
   "source": [
    "X_res.head(4)"
   ]
  },
  {
   "cell_type": "markdown",
   "id": "cf30d814",
   "metadata": {},
   "source": [
    "## 4.1 - Dividindo entre Treino e Teste"
   ]
  },
  {
   "cell_type": "code",
   "execution_count": 15,
   "id": "ab50237c",
   "metadata": {},
   "outputs": [],
   "source": [
    "seed = 123\n",
    "size = 0.3\n",
    "X_train, X_test, y_train, y_test = train_test_split(X_res,y_res, test_size = size, random_state = seed)"
   ]
  },
  {
   "cell_type": "code",
   "execution_count": 16,
   "id": "6c368cd4",
   "metadata": {},
   "outputs": [
    {
     "name": "stdout",
     "output_type": "stream",
     "text": [
      "Treino:  (213502, 8) (213502,) \n",
      "Teste:  (91502, 8) (91502,)\n"
     ]
    }
   ],
   "source": [
    "print('Treino: ',X_train.shape, y_train.shape , '\\nTeste: ', X_test.shape, y_test.shape) #"
   ]
  },
  {
   "cell_type": "markdown",
   "id": "2d9e351e",
   "metadata": {},
   "source": [
    "## 4.2 - Regressão Logistitca"
   ]
  },
  {
   "cell_type": "code",
   "execution_count": 17,
   "id": "95c092cd",
   "metadata": {},
   "outputs": [
    {
     "name": "stdout",
     "output_type": "stream",
     "text": [
      "Optimization terminated successfully.\n",
      "         Current function value: 0.379914\n",
      "         Iterations 8\n",
      "                           Logit Regression Results                           \n",
      "==============================================================================\n",
      "Dep. Variable:                  obito   No. Observations:               213502\n",
      "Model:                          Logit   Df Residuals:                   213494\n",
      "Method:                           MLE   Df Model:                            7\n",
      "Date:                Mon, 07 Mar 2022   Pseudo R-squ.:                  0.4519\n",
      "Time:                        20:54:11   Log-Likelihood:                -81112.\n",
      "converged:                       True   LL-Null:                   -1.4799e+05\n",
      "Covariance Type:            nonrobust   LLR p-value:                     0.000\n",
      "===========================================================================================\n",
      "                              coef    std err          z      P>|z|      [0.025      0.975]\n",
      "-------------------------------------------------------------------------------------------\n",
      "const                      -4.4079      0.023   -188.673      0.000      -4.454      -4.362\n",
      "cardiopatia                 0.9246      0.017     54.826      0.000       0.892       0.958\n",
      "diabetes                    0.8666      0.020     43.706      0.000       0.828       0.905\n",
      "doenca_neurologica          2.2549      0.084     26.941      0.000       2.091       2.419\n",
      "obesidade                   3.0489      0.044     69.443      0.000       2.963       3.135\n",
      "outros_fatores_de_risco     2.3930      0.027     89.525      0.000       2.341       2.445\n",
      "idade                       0.0744      0.000    178.207      0.000       0.074       0.075\n",
      "cs_sexo                    -0.6100      0.013    -48.379      0.000      -0.635      -0.585\n",
      "===========================================================================================\n"
     ]
    }
   ],
   "source": [
    "# Vamos instanciar o modelo e dar um Fit ()\n",
    "logit = sm.Logit(y_train, X_train)\n",
    "result = logit.fit()\n",
    "print(result.summary())"
   ]
  },
  {
   "cell_type": "markdown",
   "id": "fadc3c6d",
   "metadata": {},
   "source": [
    "De modo a facilitar a interpretacao dos resultados, os dados serao gerados em termos percentuais relativos, esse percentual se aproxima da interpretação de um modelo de regressão linear"
   ]
  },
  {
   "cell_type": "code",
   "execution_count": 18,
   "id": "f3eea2c6",
   "metadata": {},
   "outputs": [
    {
     "name": "stdout",
     "output_type": "stream",
     "text": [
      "1192.81\n",
      "254.1\n",
      "1127.79\n",
      "681.62\n",
      "596.99\n",
      "-43.71\n",
      "7.59\n"
     ]
    }
   ],
   "source": [
    "lista_coef = [2.5594 ,  1.2644 ,  2.5078 , 2.0562 , 1.9416 ,-0.5746 ,0.0732 ]\n",
    "for elemento in lista_coef:\n",
    "    print(round((np.exp(elemento) - 1) * 100,2))"
   ]
  },
  {
   "cell_type": "markdown",
   "id": "8d67c12e",
   "metadata": {},
   "source": [
    "- Para cada ano a mais de idade, as chances de morte aumentam diminuem 7%.\n",
    "-  Para pessoas com problemas de cardiopatia tem 115% mais chances de obito. \n",
    "-  Para pessoas com problemas de diabetes tem 84% mais chances de obito. \n",
    "-  Para pessoas com problemas de obesiade tem 625% mais chances de obito. \n",
    "-  Para pessoas com problemas de outros fatores de risco tem 481% mais chances de obito. \n",
    "-  Para pessoas com problemas de pneumopatia tem 239% mais chances de obito. "
   ]
  },
  {
   "cell_type": "code",
   "execution_count": 19,
   "id": "4079247e",
   "metadata": {},
   "outputs": [],
   "source": [
    "#### Usando Sklearn\n",
    "# Criando matriz X sem a constante\n",
    "X1 = X_res.drop('const', axis=1)\n",
    "X1_train = X_train.drop('const',axis=1)\n",
    "X1_test = X_test.drop('const',axis=1)\n",
    "\n",
    "# Criando a variavel target continua sendo Y_res\n"
   ]
  },
  {
   "cell_type": "code",
   "execution_count": 20,
   "id": "5aace2b0",
   "metadata": {},
   "outputs": [
    {
     "data": {
      "text/plain": [
       "LogisticRegression(C=10000000000.0)"
      ]
     },
     "execution_count": 20,
     "metadata": {},
     "output_type": "execute_result"
    }
   ],
   "source": [
    "model = LogisticRegression(fit_intercept=True, penalty='l2', C = 1e10,)\n",
    "model.fit(X1_train,y_train)"
   ]
  },
  {
   "cell_type": "code",
   "execution_count": 21,
   "id": "3a4e49ed",
   "metadata": {},
   "outputs": [
    {
     "data": {
      "text/plain": [
       "(array([-4.40790935]),\n",
       " array([[ 0.90788847,  0.84319327,  1.84575161,  2.97110847,  2.2969842 ,\n",
       "          0.07475077, -0.60712939]]))"
      ]
     },
     "execution_count": 21,
     "metadata": {},
     "output_type": "execute_result"
    }
   ],
   "source": [
    "model.intercept_,model.coef_"
   ]
  },
  {
   "cell_type": "markdown",
   "id": "a28a629f",
   "metadata": {},
   "source": [
    "Faremos a previsao y_pred dos nossos targets usando a função .predict() aplicada aos dados de treino X_test"
   ]
  },
  {
   "cell_type": "code",
   "execution_count": 22,
   "id": "362aa268",
   "metadata": {},
   "outputs": [
    {
     "data": {
      "text/plain": [
       "array([1, 0, 1, ..., 0, 0, 1], dtype=int64)"
      ]
     },
     "execution_count": 22,
     "metadata": {},
     "output_type": "execute_result"
    }
   ],
   "source": [
    "y_pred = model.predict(X1_test)\n",
    "y_pred"
   ]
  },
  {
   "cell_type": "code",
   "execution_count": 24,
   "id": "db292496",
   "metadata": {},
   "outputs": [
    {
     "data": {
      "text/plain": [
       "1    45842\n",
       "0    45660\n",
       "Name: obito, dtype: int64"
      ]
     },
     "execution_count": 24,
     "metadata": {},
     "output_type": "execute_result"
    }
   ],
   "source": [
    "y_test.value_counts()"
   ]
  },
  {
   "cell_type": "markdown",
   "id": "9055ba2c",
   "metadata": {},
   "source": [
    "## 4.2.1 - Matriz de confusao"
   ]
  },
  {
   "cell_type": "code",
   "execution_count": 25,
   "id": "8bbc6a6e",
   "metadata": {},
   "outputs": [
    {
     "data": {
      "text/plain": [
       "<AxesSubplot:>"
      ]
     },
     "execution_count": 25,
     "metadata": {},
     "output_type": "execute_result"
    },
    {
     "data": {
      "image/png": "[encoded data removed]",
      "text/plain": [
       "<Figure size 576x396 with 2 Axes>"
      ]
     },
     "metadata": {},
     "output_type": "display_data"
    }
   ],
   "source": [
    "cm = confusion_matrix(y_test,y_pred)\n",
    "sns.heatmap(cm, annot = True, fmt = 'd')"
   ]
  },
  {
   "cell_type": "code",
   "execution_count": 26,
   "id": "62df91bf",
   "metadata": {},
   "outputs": [
    {
     "data": {
      "text/plain": [
       "0.838648335555507"
      ]
     },
     "metadata": {},
     "output_type": "display_data"
    }
   ],
   "source": [
    "acuracia = accuracy_score(y_test,y_pred)\n",
    "display(acuracia)"
   ]
  },
  {
   "cell_type": "code",
   "execution_count": 27,
   "id": "167004a3",
   "metadata": {},
   "outputs": [
    {
     "name": "stdout",
     "output_type": "stream",
     "text": [
      "              precision    recall  f1-score   support\n",
      "\n",
      "           0       0.83      0.86      0.84     45660\n",
      "           1       0.85      0.82      0.84     45842\n",
      "\n",
      "    accuracy                           0.84     91502\n",
      "   macro avg       0.84      0.84      0.84     91502\n",
      "weighted avg       0.84      0.84      0.84     91502\n",
      "\n"
     ]
    }
   ],
   "source": [
    "print(classification_report(y_test,y_pred))"
   ]
  },
  {
   "cell_type": "markdown",
   "id": "c7a8280d",
   "metadata": {},
   "source": [
    "## 4.3 - Curva Roc"
   ]
  },
  {
   "cell_type": "code",
   "execution_count": 28,
   "id": "0e3d766a",
   "metadata": {},
   "outputs": [
    {
     "data": {
      "image/png": "[encoded data removed]",
      "text/plain": [
       "<Figure size 576x396 with 1 Axes>"
      ]
     },
     "metadata": {},
     "output_type": "display_data"
    }
   ],
   "source": [
    "visualizer = ROCAUC(model, classes = [0, 1])\n",
    "\n",
    "visualizer.fit(X1_train, y_train)        # Fit the training data to the visualizer\n",
    "visualizer.score(X1_test, y_test)        # Evaluate the model on the test data\n",
    "visualizer.show();  "
   ]
  },
  {
   "cell_type": "markdown",
   "id": "38086a27",
   "metadata": {},
   "source": [
    "## 4.4 - KNN "
   ]
  },
  {
   "cell_type": "code",
   "execution_count": 29,
   "id": "876b0ef2",
   "metadata": {},
   "outputs": [],
   "source": [
    "knn = KNeighborsClassifier(n_neighbors= 5)\n",
    "\n",
    "knn.fit(X1_train,\n",
    "       y_train\n",
    "       )\n",
    "y_pred = knn.predict(X1_test)"
   ]
  },
  {
   "cell_type": "code",
   "execution_count": 30,
   "id": "14829e54",
   "metadata": {},
   "outputs": [
    {
     "data": {
      "text/plain": [
       "<AxesSubplot:>"
      ]
     },
     "execution_count": 30,
     "metadata": {},
     "output_type": "execute_result"
    },
    {
     "data": {
      "image/png": "[encoded data removed]",
      "text/plain": [
       "<Figure size 576x396 with 2 Axes>"
      ]
     },
     "metadata": {},
     "output_type": "display_data"
    }
   ],
   "source": [
    "# Aplicando o KNN nos dados de teste.\n",
    "y_pred = knn.predict(X1_test)\n",
    "cnf_matrix = metrics.confusion_matrix(y_test, y_pred)\n",
    "\n",
    "# plotando a matriz de confusao\n",
    "sns.heatmap(cnf_matrix, annot = True, fmt = 'd')\n"
   ]
  },
  {
   "cell_type": "code",
   "execution_count": 31,
   "id": "892e2675",
   "metadata": {},
   "outputs": [
    {
     "name": "stdout",
     "output_type": "stream",
     "text": [
      "              precision    recall  f1-score   support\n",
      "\n",
      "     class 0       0.82      0.83      0.82     45660\n",
      "     class 1       0.83      0.82      0.82     45842\n",
      "\n",
      "    accuracy                           0.82     91502\n",
      "   macro avg       0.82      0.82      0.82     91502\n",
      "weighted avg       0.82      0.82      0.82     91502\n",
      "\n"
     ]
    }
   ],
   "source": [
    "# Imprimindo as métricas\n",
    "target_names = ['class 0', 'class 1']\n",
    "print(classification_report(y_test, y_pred, target_names=target_names))"
   ]
  },
  {
   "cell_type": "markdown",
   "id": "0eef45b9",
   "metadata": {},
   "source": [
    "## 4.5 - SVC"
   ]
  },
  {
   "cell_type": "code",
   "execution_count": null,
   "id": "f75cc838",
   "metadata": {},
   "outputs": [],
   "source": []
  },
  {
   "cell_type": "code",
   "execution_count": 34,
   "id": "9a14c771",
   "metadata": {},
   "outputs": [
    {
     "data": {
      "text/plain": [
       "SVC()"
      ]
     },
     "execution_count": 34,
     "metadata": {},
     "output_type": "execute_result"
    }
   ],
   "source": [
    "svc_clf = SVC()\n",
    "\n",
    "svc_clf.fit(X1_train, y_train)"
   ]
  },
  {
   "cell_type": "code",
   "execution_count": 35,
   "id": "2fa28d4d",
   "metadata": {},
   "outputs": [],
   "source": [
    "y_pred = svc_clf.predict(X1_test)"
   ]
  },
  {
   "cell_type": "code",
   "execution_count": 38,
   "id": "e7f44c81",
   "metadata": {},
   "outputs": [],
   "source": [
    "pickle.dump(svc_clf, open('models/svc_clf.pkl', 'wb'))"
   ]
  },
  {
   "cell_type": "code",
   "execution_count": 32,
   "metadata": {},
   "outputs": [
    {
     "data": {
      "text/plain": [
       "SVC()"
      ]
     },
     "execution_count": 32,
     "metadata": {},
     "output_type": "execute_result"
    }
   ],
   "source": [
    "pickle.load(open('models/svc_clf.pkl', 'rb'))"
   ]
  },
  {
   "cell_type": "code",
   "execution_count": 39,
   "id": "e19ab535",
   "metadata": {},
   "outputs": [
    {
     "name": "stdout",
     "output_type": "stream",
     "text": [
      "Accurácia: 0.838\n",
      "Recall: 0.832\n",
      "Precision: 0.832\n"
     ]
    }
   ],
   "source": [
    "# acurácia\n",
    "accuracy = accuracy_score(y_test, y_pred)\n",
    "\n",
    "# recall\n",
    "recall = recall_score(y_test, y_pred)\n",
    "\n",
    "# precision\n",
    "precision = precision_score(y_test, y_pred)\n",
    "\n",
    "# mostra as métricas do modelo\n",
    "print(f'Accurácia: {round(accuracy, 3)}')\n",
    "print(f'Recall: {round(recall, 3)}')\n",
    "print(f'Precision: {round(recall, 3)}')"
   ]
  },
  {
   "cell_type": "markdown",
   "id": "1d86b13a",
   "metadata": {},
   "source": [
    "## 4.6 - Outros Classificadores\n",
    "\n",
    "Rodando outros classificadores de Machine Learning\n",
    "Os resultados não são satisfatórios. Uma coisa que podemos fazer é resolver esse problema tentar alguns modelos, testar no nosso dataset e optear pelo que se sai melhor."
   ]
  },
  {
   "cell_type": "code",
   "execution_count": 40,
   "id": "486282c6",
   "metadata": {},
   "outputs": [],
   "source": [
    "classifiers = [\n",
    "    KNeighborsClassifier(),\n",
    "    GaussianNB(),\n",
    "    LogisticRegression(max_iter = 5_000),\n",
    "    DecisionTreeClassifier(),\n",
    "    RandomForestClassifier(),\n",
    "    GradientBoostingClassifier(),\n",
    "    SVC()\n",
    "]"
   ]
  },
  {
   "cell_type": "code",
   "execution_count": null,
   "id": "87233129",
   "metadata": {},
   "outputs": [],
   "source": [
    "# criando um dataframe em branco\n",
    "modelos = pd.DataFrame()\n",
    "\n",
    "for clf in classifiers:\n",
    "\n",
    "    clf.fit(X1_train, y_train)\n",
    "    # armazenando o nome do modelo na variável name\n",
    "    name = clf.__class__.__name__\n",
    "    # adicionando os resultados do modelo em um dataframe\n",
    "    y_pred = clf.predict(X1_test)\n",
    "\n",
    "    # salvar os modelos treinados para nao precisar treinar novamente\n",
    "    pickle.dump(clf, open(f'models/{name}.pkl', 'wb'))\n",
    "\n",
    "    # dicionario com os valores\n",
    "    dict = {'Method': name,\n",
    "     'Accuracy': metrics.accuracy_score(y_test, y_pred),\n",
    "     'Precision': metrics.precision_score(y_test,y_pred),\n",
    "     'Recall' : metrics.recall_score(y_test,y_pred)\n",
    "          }\n",
    "    # append dos dados no dataframe\n",
    "    modelos = df.append(dict, ignore_index = True)\n",
    "\n",
    "modelos"
   ]
  },
  {
   "cell_type": "code",
   "execution_count": 43,
   "id": "cc152bd0",
   "metadata": {},
   "outputs": [
    {
     "data": {
      "text/html": [
       "<div>\n",
       "<style scoped>\n",
       "    .dataframe tbody tr th:only-of-type {\n",
       "        vertical-align: middle;\n",
       "    }\n",
       "\n",
       "    .dataframe tbody tr th {\n",
       "        vertical-align: top;\n",
       "    }\n",
       "\n",
       "    .dataframe thead th {\n",
       "        text-align: right;\n",
       "    }\n",
       "</style>\n",
       "<table border=\"1\" class=\"dataframe\">\n",
       "  <thead>\n",
       "    <tr style=\"text-align: right;\">\n",
       "      <th></th>\n",
       "      <th>Method</th>\n",
       "      <th>Accuracy</th>\n",
       "      <th>Precision</th>\n",
       "      <th>Recall</th>\n",
       "    </tr>\n",
       "  </thead>\n",
       "  <tbody>\n",
       "    <tr>\n",
       "      <th>0</th>\n",
       "      <td>KNeighborsClassifier</td>\n",
       "      <td>0.822146</td>\n",
       "      <td>0.827311</td>\n",
       "      <td>0.815148</td>\n",
       "    </tr>\n",
       "    <tr>\n",
       "      <th>1</th>\n",
       "      <td>GaussianNB</td>\n",
       "      <td>0.797010</td>\n",
       "      <td>0.890771</td>\n",
       "      <td>0.677959</td>\n",
       "    </tr>\n",
       "    <tr>\n",
       "      <th>2</th>\n",
       "      <td>LogisticRegression</td>\n",
       "      <td>0.838747</td>\n",
       "      <td>0.853430</td>\n",
       "      <td>0.818747</td>\n",
       "    </tr>\n",
       "    <tr>\n",
       "      <th>3</th>\n",
       "      <td>DecisionTreeClassifier</td>\n",
       "      <td>0.840320</td>\n",
       "      <td>0.837800</td>\n",
       "      <td>0.844837</td>\n",
       "    </tr>\n",
       "    <tr>\n",
       "      <th>4</th>\n",
       "      <td>RandomForestClassifier</td>\n",
       "      <td>0.840473</td>\n",
       "      <td>0.837937</td>\n",
       "      <td>0.845011</td>\n",
       "    </tr>\n",
       "    <tr>\n",
       "      <th>5</th>\n",
       "      <td>GradientBoostingClassifier</td>\n",
       "      <td>0.841687</td>\n",
       "      <td>0.840782</td>\n",
       "      <td>0.843790</td>\n",
       "    </tr>\n",
       "  </tbody>\n",
       "</table>\n",
       "</div>"
      ],
      "text/plain": [
       "                       Method  Accuracy  Precision    Recall\n",
       "0        KNeighborsClassifier  0.822146   0.827311  0.815148\n",
       "1                  GaussianNB  0.797010   0.890771  0.677959\n",
       "2          LogisticRegression  0.838747   0.853430  0.818747\n",
       "3      DecisionTreeClassifier  0.840320   0.837800  0.844837\n",
       "4      RandomForestClassifier  0.840473   0.837937  0.845011\n",
       "5  GradientBoostingClassifier  0.841687   0.840782  0.843790"
      ]
     },
     "execution_count": 43,
     "metadata": {},
     "output_type": "execute_result"
    }
   ],
   "source": [
    "df"
   ]
  },
  {
   "cell_type": "markdown",
   "id": "32cf07e0",
   "metadata": {},
   "source": [
    "Comparando os modelos observamos que SVC tem resultados muito semelhantes aos demais e consome muito mais tempo de processamento e por isso nao terá seus parametros otimizacos."
   ]
  },
  {
   "cell_type": "markdown",
   "id": "877ac84d",
   "metadata": {},
   "source": [
    "# 5 - Avaliação de Modelos\n",
    "\n",
    "Vamos encontrar os melhores hiperparâmetros para os modelos acima no problema. \n",
    "\n",
    "Utilizaremos a **validação cruzada** para generalizar o modelo, o metodo consiste em dividir em porções de treino e teste, esses dados são embaralhados e divididos em k números de dobras (folds), assim a cada interação temos um conjunto diferente de dados para treino e teste. Assim é criado um modelo que será treinado e o resultado passa a ser uma media dos valores de cada grupo.\n",
    "\n",
    "Importante notar que o modelo Naive Bayes não tem hiperparâmetro e, portanto, não precisa ser otimizado."
   ]
  },
  {
   "cell_type": "code",
   "execution_count": 65,
   "id": "79071515",
   "metadata": {},
   "outputs": [],
   "source": [
    "# quantidade de folds da validação cruzada\n",
    "folds = 5\n",
    "# random state\n",
    "SEED = 20\n",
    "# critério de avaliação\n",
    "scoring = 'accuracy'\n",
    "\n",
    "# modelos com valores default\n",
    "models = [\n",
    "    ('LR',   LogisticRegression(max_iter = 5_000)),\n",
    "    ('CART', DecisionTreeClassifier()),\n",
    "    ('KNN',  KNeighborsClassifier(n_neighbors=5)),\n",
    "    ('RFC',  RandomForestClassifier()),\n",
    "    ('GBC',  GradientBoostingClassifier())\n",
    "]\n",
    "\n",
    "# validação cruzada\n",
    "resultados = []\n",
    "nome_modelo = []\n",
    "\n",
    "for type_modelo, modelo in models:\n",
    "    # função para validar a validação cruzada\n",
    "    stratified_fold = StratifiedKFold(n_splits = folds, shuffle = True, random_state = SEED)\n",
    "    # validação cruzada\n",
    "    cv_result = cross_val_score(\n",
    "        estimator = modelo,    # modelo\n",
    "        X = X_res,             # variáveis explicativas \n",
    "        y = y_res,             # target\n",
    "        cv = stratified_fold,  # função kfold \n",
    "        scoring = scoring      # critério de avaliação, neste caso acurácia  \n",
    "    )\n",
    "    # armazena os resultados na lista cv_result\n",
    "    resultados.append(cv_result)\n",
    "    # armazena os resultados na lista type_modelo\n",
    "    nome_modelo.append(type_modelo)"
   ]
  },
  {
   "cell_type": "code",
   "execution_count": 80,
   "id": "513ef8a5",
   "metadata": {},
   "outputs": [
    {
     "data": {
      "image/png": "[encoded data removed]",
      "text/plain": [
       "<Figure size 1080x360 with 1 Axes>"
      ]
     },
     "metadata": {},
     "output_type": "display_data"
    }
   ],
   "source": [
    "# resultados da validação cruzada\n",
    "fig, ax = plt.subplots(figsize = (15, 5))\n",
    "ax.boxplot(resultados)\n",
    "ax.set_xticklabels(nome_modelo)\n",
    "fig.savefig('figs/cross_validation.png')"
   ]
  },
  {
   "cell_type": "markdown",
   "id": "266ad61c",
   "metadata": {},
   "source": [
    "removendo o knn porque está distorcendo a visualizacao\n"
   ]
  },
  {
   "cell_type": "code",
   "execution_count": 81,
   "id": "8b928a2b",
   "metadata": {},
   "outputs": [
    {
     "data": {
      "image/png": "[encoded data removed]",
      "text/plain": [
       "<Figure size 1080x360 with 1 Axes>"
      ]
     },
     "metadata": {},
     "output_type": "display_data"
    }
   ],
   "source": [
    "\n",
    "# resultados da validação cruzada\n",
    "fig, ax = plt.subplots(figsize = (15, 5))\n",
    "ax.boxplot(resultados[0:2] + resultados [3:5])\n",
    "ax.set_xticklabels(nome_modelo[0:2] + nome_modelo [3:5])\n",
    "fig.savefig('figs/cross_validation1.png')"
   ]
  },
  {
   "cell_type": "markdown",
   "id": "5a34a979",
   "metadata": {},
   "source": [
    "olhando os limites do boxplot escolheu o CART"
   ]
  },
  {
   "cell_type": "markdown",
   "id": "f0a34948",
   "metadata": {},
   "source": [
    "# 6 - Otimização de Modelos"
   ]
  },
  {
   "cell_type": "markdown",
   "id": "bec834bd",
   "metadata": {},
   "source": [
    "## 6.3 - Decision Tree (CART)"
   ]
  },
  {
   "cell_type": "code",
   "execution_count": 82,
   "id": "b6807fb4",
   "metadata": {},
   "outputs": [],
   "source": [
    "# critério a ser utilizado\n",
    "criterion = 'entropy'\n",
    "# range de profundidade para a árvore\n",
    "max_depths_range = np.arange(1, 41)\n",
    "# listas para armazenar informações durante o loop\n",
    "# resultados com dados de treino\n",
    "train_results = []\n",
    "# resultados com dados de teste\n",
    "test_results = []\n",
    "\n",
    "# itera no range de profundidades e para cada profundidade treina um CART\n",
    "for max_depth in max_depths_range:\n",
    "    # treina o modelo\n",
    "    cart_model = DecisionTreeClassifier(max_depth = max_depth, \n",
    "                                        criterion = criterion)\n",
    "    \n",
    "    cart_model.fit(X1_train, y_train)\n",
    "    # previsão com dados de treino\n",
    "    train_pred = cart_model.predict(X1_train)\n",
    "    # acurácia\n",
    "    accuracy_train = accuracy_score(y_train, train_pred)\n",
    "    \n",
    "    # teste\n",
    "    y_pred = cart_model.predict(X1_test)\n",
    "    # acurácia \n",
    "    accuracy_test = accuracy_score(y_test, y_pred)\n",
    "    \n",
    "    train_results.append(accuracy_train)\n",
    "    test_results.append(accuracy_test)"
   ]
  },
  {
   "cell_type": "code",
   "execution_count": 83,
   "id": "881ee6ea",
   "metadata": {},
   "outputs": [
    {
     "data": {
      "image/png": "[encoded data removed]",
      "text/plain": [
       "<Figure size 576x396 with 1 Axes>"
      ]
     },
     "metadata": {},
     "output_type": "display_data"
    }
   ],
   "source": [
    "# plot dos dados de treino\n",
    "plt.plot(max_depths_range, train_results, color = 'blue', label = 'Train Aaccuracy')\n",
    "# plot dos dados de teste\n",
    "plt.plot(max_depths_range, test_results, color = 'red', label = 'Test Accuracy')\n",
    "# legenda\n",
    "plt.legend()\n",
    "# rótulo da figura\n",
    "plt.ylabel('Acurácia')\n",
    "plt.xlabel('Tree depth')\n",
    "plt.show()\n",
    "fig.savefig('figs/tree_depth_accuracia.png')"
   ]
  },
  {
   "cell_type": "code",
   "execution_count": 84,
   "id": "a56d30d8",
   "metadata": {},
   "outputs": [],
   "source": [
    "# dicionários com os hiperparâmetros do modelo CART\n",
    "param_grid_cart = {\n",
    "    'criterion': ['gini', 'entropy'],\n",
    "    'max_depth': np.arange(1, 15),\n",
    "    'min_samples_leaf' : np.arange(1,5),\n",
    "    'min_samples_split': np.arange(1,10),\n",
    "}\n",
    "\n",
    "cart_model = DecisionTreeClassifier()"
   ]
  },
  {
   "cell_type": "markdown",
   "id": "c8db4dfe",
   "metadata": {},
   "source": [
    "### 6.3.1 - Grid Search"
   ]
  },
  {
   "cell_type": "code",
   "execution_count": 85,
   "id": "e21b858c",
   "metadata": {},
   "outputs": [],
   "source": [
    "# aplica o GridSearch para o modelo CART\n",
    "grid_cart = GridSearchCV(\n",
    "    estimator = cart_model,\n",
    "    param_grid = param_grid_cart,\n",
    "    scoring = scoring,\n",
    "    cv = stratified_fold,\n",
    "    n_jobs = -1\n",
    ")"
   ]
  },
  {
   "cell_type": "code",
   "execution_count": 86,
   "id": "fd93cc46",
   "metadata": {},
   "outputs": [],
   "source": [
    "grid_cart_result = grid_cart.fit(X_res, y_res)"
   ]
  },
  {
   "cell_type": "markdown",
   "id": "abadd3f2",
   "metadata": {},
   "source": [
    "dump model"
   ]
  },
  {
   "cell_type": "code",
   "execution_count": 96,
   "id": "69b3bf86",
   "metadata": {},
   "outputs": [],
   "source": [
    "# salvar os modelos treinados para nao precisar treinar novamente\n",
    "pickle.dump(clf, open('models/grid_cart_result.pkl', 'wb'))"
   ]
  },
  {
   "cell_type": "code",
   "execution_count": 88,
   "id": "17091fbf",
   "metadata": {},
   "outputs": [
    {
     "data": {
      "text/plain": [
       "{'criterion': 'entropy',\n",
       " 'max_depth': 9,\n",
       " 'min_samples_leaf': 1,\n",
       " 'min_samples_split': 4}"
      ]
     },
     "execution_count": 88,
     "metadata": {},
     "output_type": "execute_result"
    }
   ],
   "source": [
    "# melhores parâmetros obtidos\n",
    "grid_cart_result.best_params_"
   ]
  },
  {
   "cell_type": "markdown",
   "id": "5eabbbdd",
   "metadata": {},
   "source": [
    "*Printar a arvore*"
   ]
  },
  {
   "cell_type": "code",
   "execution_count": 89,
   "id": "b1014e67",
   "metadata": {},
   "outputs": [
    {
     "data": {
      "text/plain": [
       "'entropy'"
      ]
     },
     "execution_count": 89,
     "metadata": {},
     "output_type": "execute_result"
    }
   ],
   "source": [
    "# critério\n",
    "grid_cart_result.best_estimator_.criterion"
   ]
  },
  {
   "cell_type": "code",
   "execution_count": 90,
   "id": "62ff2411",
   "metadata": {},
   "outputs": [
    {
     "data": {
      "text/plain": [
       "9"
      ]
     },
     "execution_count": 90,
     "metadata": {},
     "output_type": "execute_result"
    }
   ],
   "source": [
    "# profundidade\n",
    "grid_cart_result.best_estimator_.max_depth"
   ]
  },
  {
   "cell_type": "code",
   "execution_count": 91,
   "id": "98b68c01",
   "metadata": {},
   "outputs": [
    {
     "data": {
      "text/plain": [
       "0.8419037145050833"
      ]
     },
     "execution_count": 91,
     "metadata": {},
     "output_type": "execute_result"
    }
   ],
   "source": [
    "# best score\n",
    "grid_cart_result.best_score_"
   ]
  },
  {
   "cell_type": "markdown",
   "id": "5015d43a",
   "metadata": {},
   "source": [
    "### 6.3.2 - Randomized Search"
   ]
  },
  {
   "cell_type": "code",
   "execution_count": 92,
   "id": "a6ea05b2",
   "metadata": {},
   "outputs": [],
   "source": [
    "# random search\n",
    "# cv: For integer/None inputs, if the estimator is a classifier and ``y`` is\n",
    "#     either binary or multiclass, :class:`StratifiedKFold` is used. In all\n",
    "#     other cases, :class:`KFold` is used.\n",
    "\n",
    "random_search = RandomizedSearchCV(cart_model, \n",
    "                                   param_grid_cart, \n",
    "                                   cv = stratified_fold, \n",
    "                                   scoring = scoring,\n",
    "                                   random_state = SEED,\n",
    "                                   n_iter = 10\n",
    "                                  )"
   ]
  },
  {
   "cell_type": "code",
   "execution_count": 93,
   "id": "545e25cc",
   "metadata": {},
   "outputs": [
    {
     "data": {
      "text/plain": [
       "RandomizedSearchCV(cv=StratifiedKFold(n_splits=5, random_state=20, shuffle=True),\n",
       "                   estimator=DecisionTreeClassifier(),\n",
       "                   param_distributions={'criterion': ['gini', 'entropy'],\n",
       "                                        'max_depth': array([ 1,  2,  3,  4,  5,  6,  7,  8,  9, 10, 11, 12, 13, 14]),\n",
       "                                        'min_samples_leaf': array([1, 2, 3, 4]),\n",
       "                                        'min_samples_split': array([1, 2, 3, 4, 5, 6, 7, 8, 9])},\n",
       "                   random_state=20, scoring='accuracy')"
      ]
     },
     "execution_count": 93,
     "metadata": {},
     "output_type": "execute_result"
    }
   ],
   "source": [
    "random_search.fit(X_res, y_res)"
   ]
  },
  {
   "cell_type": "code",
   "execution_count": 94,
   "id": "0cad425c",
   "metadata": {},
   "outputs": [
    {
     "data": {
      "text/plain": [
       "{'min_samples_split': 7,\n",
       " 'min_samples_leaf': 2,\n",
       " 'max_depth': 10,\n",
       " 'criterion': 'entropy'}"
      ]
     },
     "execution_count": 94,
     "metadata": {},
     "output_type": "execute_result"
    }
   ],
   "source": [
    "random_search.best_params_"
   ]
  },
  {
   "cell_type": "code",
   "execution_count": 95,
   "id": "b65e0576",
   "metadata": {},
   "outputs": [
    {
     "data": {
      "text/plain": [
       "0.8416709301459987"
      ]
     },
     "execution_count": 95,
     "metadata": {},
     "output_type": "execute_result"
    }
   ],
   "source": [
    "random_search.best_score_"
   ]
  },
  {
   "cell_type": "code",
   "execution_count": null,
   "id": "bfac966f",
   "metadata": {},
   "outputs": [],
   "source": [
    "##"
   ]
  },
  {
   "cell_type": "code",
   "execution_count": null,
   "id": "17091fbf",
   "metadata": {},
   "outputs": [
    {
     "data": {
      "text/plain": [
       "{'criterion': 'entropy',\n",
       " 'max_depth': 9,\n",
       " 'min_samples_leaf': 1,\n",
       " 'min_samples_split': 4}"
      ]
     },
     "metadata": {},
     "output_type": "display_data"
    }
   ],
   "source": [
    "# melhores parâmetros obtidos\n",
    "grid_cart_result.best_params_"
   ]
  },
  {
   "cell_type": "code",
   "execution_count": 98,
   "id": "8b7db135",
   "metadata": {},
   "outputs": [
    {
     "data": {
      "text/plain": [
       "{'min_samples_split': 7,\n",
       " 'min_samples_leaf': 2,\n",
       " 'max_depth': 10,\n",
       " 'criterion': 'entropy'}"
      ]
     },
     "execution_count": 98,
     "metadata": {},
     "output_type": "execute_result"
    }
   ],
   "source": [
    "random_search.best_params_"
   ]
  },
  {
   "cell_type": "code",
   "execution_count": 100,
   "id": "aa30d08e",
   "metadata": {},
   "outputs": [],
   "source": [
    "# quantidade de folds da validação cruzada\n",
    "folds = 5\n",
    "# random state\n",
    "SEED = 20\n",
    "# critério de avaliação\n",
    "scoring = 'accuracy'\n",
    "\n",
    "# modelos com valores default\n",
    "models = [\n",
    "    ('CART_grid', DecisionTreeClassifier(criterion= 'entropy', max_depth=9, min_samples_leaf=1, min_samples_split=4)),\n",
    "    ('CART_search', DecisionTreeClassifier(criterion= 'entropy', max_depth=10,min_samples_leaf=2, min_samples_split=7))\n",
    "]\n",
    "\n",
    "# validação cruzada\n",
    "resultados = []\n",
    "nome_modelo = []\n",
    "\n",
    "for type_modelo, modelo in models:\n",
    "    # função para validar a validação cruzada\n",
    "    stratified_fold = StratifiedKFold(n_splits = folds, shuffle = True, random_state = SEED)\n",
    "    # validação cruzada\n",
    "    cv_result = cross_val_score(\n",
    "        estimator = modelo,    # modelo\n",
    "        X = X,                 # variáveis explicativas \n",
    "        y = y,                 # target\n",
    "        cv = stratified_fold,  # função kfold \n",
    "        scoring = scoring      # critério de avaliação, neste caso acurácia  \n",
    "    )\n",
    "    # armazena os resultados na lista cv_result\n",
    "    resultados.append(cv_result)\n",
    "    # armazena os resultados na lista type_modelo\n",
    "    nome_modelo.append(type_modelo)"
   ]
  },
  {
   "cell_type": "code",
   "execution_count": 101,
   "id": "faed7612",
   "metadata": {},
   "outputs": [
    {
     "data": {
      "image/png": "[encoded data removed]",
      "text/plain": [
       "<Figure size 1080x360 with 1 Axes>"
      ]
     },
     "metadata": {},
     "output_type": "display_data"
    }
   ],
   "source": [
    "\n",
    "# resultados da validação cruzada\n",
    "fig, ax = plt.subplots(figsize = (15, 5))\n",
    "ax.boxplot(resultados)\n",
    "ax.set_xticklabels(nome_modelo)\n",
    "fig.savefig('figs/cross_validation2.png')"
   ]
  },
  {
   "cell_type": "code",
   "execution_count": 54,
   "id": "486282c6",
   "metadata": {},
   "outputs": [],
   "source": [
    "cart_tuned = DecisionTreeClassifier(criterion= 'entropy', max_depth=9, min_samples_leaf=1, min_samples_split=4)"
   ]
  },
  {
   "cell_type": "code",
   "execution_count": 55,
   "id": "cc152bd0",
   "metadata": {},
   "outputs": [
    {
     "data": {
      "text/plain": [
       "DecisionTreeClassifier(criterion='entropy', max_depth=9, min_samples_split=4)"
      ]
     },
     "execution_count": 55,
     "metadata": {},
     "output_type": "execute_result"
    }
   ],
   "source": [
    " cart_tuned.fit(X1_train, y_train)"
   ]
  },
  {
   "cell_type": "code",
   "execution_count": 56,
   "id": "c9777e57",
   "metadata": {},
   "outputs": [],
   "source": [
    "# armazenando o nome do modelo na variável name\n",
    "y_pred = cart_tuned.predict(X1_test)"
   ]
  },
  {
   "cell_type": "code",
   "execution_count": 57,
   "id": "0cf84eaf",
   "metadata": {},
   "outputs": [
    {
     "name": "stdout",
     "output_type": "stream",
     "text": [
      "Accuracy: 0.84134773010426\n",
      "Precision: 0.843664289632474\n",
      "Recall: 0.8387504908162821\n"
     ]
    }
   ],
   "source": [
    "print (f'Accuracy: {metrics.accuracy_score(y_test, y_pred)}')\n",
    "print (f'Precision: {metrics.precision_score(y_test, y_pred)}')\n",
    "print (f'Recall: {metrics.recall_score(y_test, y_pred)}')"
   ]
  },
  {
   "cell_type": "markdown",
   "id": "3086bcfe",
   "metadata": {},
   "source": [
    "\n",
    "DecisionTreeClassifier\t0.840320\t0.837800\t0.844837"
   ]
  },
  {
   "cell_type": "code",
   "execution_count": 59,
   "id": "892c64ad",
   "metadata": {},
   "outputs": [],
   "source": [
    "# salvar os modelos treinados para nao precisar treinar novamente\n",
    "pickle.dump(cart_tuned, open(f'models/clf_tuned.pkl', 'wb'))"
   ]
  },
  {
   "cell_type": "code",
   "execution_count": 60,
   "id": "b5bbbd7e",
   "metadata": {},
   "outputs": [
    {
     "data": {
      "text/plain": [
       "DecisionTreeClassifier(criterion='entropy', max_depth=9, min_samples_split=4)"
      ]
     },
     "execution_count": 60,
     "metadata": {},
     "output_type": "execute_result"
    }
   ],
   "source": [
    "cart_tuned.predict([])"
   ]
  },
  {
   "cell_type": "code",
   "execution_count": null,
   "id": "8fd5eb66",
   "metadata": {},
   "outputs": [],
   "source": [
    "# ['cardiopatia','diabetes', 'doenca_neurologica', 'obesidade', 'outros_fatores_de_risco','idade', 'cs_sexo']"
   ]
  },
  {
   "cell_type": "code",
   "execution_count": 62,
   "id": "b4cbc357",
   "metadata": {},
   "outputs": [
    {
     "data": {
      "text/plain": [
       "array([1], dtype=int64)"
      ]
     },
     "execution_count": 62,
     "metadata": {},
     "output_type": "execute_result"
    }
   ],
   "source": [
    "# Previsão de test\n",
    "pred_test = model.predict([[0,0,0,0,0,59,0]])\n",
    "pred_test"
   ]
  }
 ],
 "metadata": {
  "kernelspec": {
   "display_name": "Python 3",
   "language": "python",
   "name": "python3"
  },
  "language_info": {
   "codemirror_mode": {
    "name": "ipython",
    "version": 3
   },
   "file_extension": ".py",
   "mimetype": "text/x-python",
   "name": "python",
   "nbconvert_exporter": "python",
   "pygments_lexer": "ipython3",
   "version": "3.10.2"
  }
 },
 "nbformat": 4,
 "nbformat_minor": 5
}
