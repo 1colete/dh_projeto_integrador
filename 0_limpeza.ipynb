{
 "cells": [
  {
   "cell_type": "markdown",
   "id": "419d0e1a-7d96-4665-b517-f52adfcbf3bd",
   "metadata": {},
   "source": [
    "# 1 - Importar libs e carregar os DataFrames"
   ]
  },
  {
   "cell_type": "code",
   "execution_count": 1,
   "id": "0ec224d3-cbd2-48d3-be7f-4b217debff53",
   "metadata": {},
   "outputs": [],
   "source": [
    "# custom lib\n",
    "from bibliotecas.limpeza import *\n",
    "\n",
    "import missingno as msno\n",
    "import seaborn as sns\n",
    "import numpy as np\n",
    "import pandas as pd\n",
    "import matplotlib.pyplot as plt\n",
    "%matplotlib inline\n",
    "\n",
    "\n",
    "# warnings option\n",
    "import warnings\n",
    "warnings.filterwarnings('ignore')"
   ]
  },
  {
   "cell_type": "markdown",
   "id": "9510554a-ec89-47d2-b74a-12afa15469a3",
   "metadata": {
    "tags": []
   },
   "source": [
    "# 2 - Lendo Arquivos"
   ]
  },
  {
   "cell_type": "code",
   "execution_count": 10,
   "id": "4befbb0c-8204-47a9-b2c5-42aa2661e1ef",
   "metadata": {},
   "outputs": [],
   "source": [
    "df_obitos = pd.read_csv('dados/raw/casos_obitos_doencas_preexistentes.csv', encoding ='utf8', delimiter=\";\")"
   ]
  },
  {
   "cell_type": "code",
   "execution_count": 11,
   "id": "f864ae85",
   "metadata": {},
   "outputs": [],
   "source": [
    "df_idh = pd.read_csv('dados/raw/data_idh.csv', encoding ='ansi', delimiter=\";\", skipfooter=3)"
   ]
  },
  {
   "cell_type": "markdown",
   "id": "460e9a31-9775-4df2-9e0e-5a3a7bb5b081",
   "metadata": {},
   "source": [
    "## 2.1 - Ver os dataframes"
   ]
  },
  {
   "cell_type": "code",
   "execution_count": 12,
   "id": "e6b30a91",
   "metadata": {},
   "outputs": [
    {
     "data": {
      "text/plain": [
       "(4412182, 20)"
      ]
     },
     "execution_count": 12,
     "metadata": {},
     "output_type": "execute_result"
    }
   ],
   "source": [
    "# mostrando o shape do dataframe, linhas e colunas\n",
    "df_obitos.shape"
   ]
  },
  {
   "cell_type": "code",
   "execution_count": 13,
   "id": "82ef9c2f-7568-4f22-b1e2-b23c95edbccd",
   "metadata": {},
   "outputs": [
    {
     "data": {
      "text/html": [
       "<div>\n",
       "<style scoped>\n",
       "    .dataframe tbody tr th:only-of-type {\n",
       "        vertical-align: middle;\n",
       "    }\n",
       "\n",
       "    .dataframe tbody tr th {\n",
       "        vertical-align: top;\n",
       "    }\n",
       "\n",
       "    .dataframe thead th {\n",
       "        text-align: right;\n",
       "    }\n",
       "</style>\n",
       "<table border=\"1\" class=\"dataframe\">\n",
       "  <thead>\n",
       "    <tr style=\"text-align: right;\">\n",
       "      <th></th>\n",
       "      <th>nome_munic</th>\n",
       "      <th>codigo_ibge</th>\n",
       "      <th>idade</th>\n",
       "      <th>cs_sexo</th>\n",
       "      <th>diagnostico_covid19</th>\n",
       "      <th>data_inicio_sintomas</th>\n",
       "      <th>obito</th>\n",
       "      <th>asma</th>\n",
       "      <th>cardiopatia</th>\n",
       "      <th>diabetes</th>\n",
       "      <th>doenca_hematologica</th>\n",
       "      <th>doenca_hepatica</th>\n",
       "      <th>doenca_neurologica</th>\n",
       "      <th>doenca_renal</th>\n",
       "      <th>imunodepressao</th>\n",
       "      <th>obesidade</th>\n",
       "      <th>outros_fatores_de_risco</th>\n",
       "      <th>pneumopatia</th>\n",
       "      <th>puerpera</th>\n",
       "      <th>sindrome_de_down</th>\n",
       "    </tr>\n",
       "  </thead>\n",
       "  <tbody>\n",
       "    <tr>\n",
       "      <th>0</th>\n",
       "      <td>São Paulo</td>\n",
       "      <td>3550308</td>\n",
       "      <td>45.0</td>\n",
       "      <td>MASCULINO</td>\n",
       "      <td>CONFIRMADO</td>\n",
       "      <td>2021-03-18T00:00:00Z</td>\n",
       "      <td>0</td>\n",
       "      <td>IGNORADO</td>\n",
       "      <td>IGNORADO</td>\n",
       "      <td>IGNORADO</td>\n",
       "      <td>IGNORADO</td>\n",
       "      <td>IGNORADO</td>\n",
       "      <td>IGNORADO</td>\n",
       "      <td>IGNORADO</td>\n",
       "      <td>IGNORADO</td>\n",
       "      <td>IGNORADO</td>\n",
       "      <td>IGNORADO</td>\n",
       "      <td>IGNORADO</td>\n",
       "      <td>IGNORADO</td>\n",
       "      <td>IGNORADO</td>\n",
       "    </tr>\n",
       "    <tr>\n",
       "      <th>1</th>\n",
       "      <td>São Paulo</td>\n",
       "      <td>3550308</td>\n",
       "      <td>39.0</td>\n",
       "      <td>MASCULINO</td>\n",
       "      <td>CONFIRMADO</td>\n",
       "      <td>2021-07-07T00:00:00Z</td>\n",
       "      <td>0</td>\n",
       "      <td>IGNORADO</td>\n",
       "      <td>IGNORADO</td>\n",
       "      <td>IGNORADO</td>\n",
       "      <td>IGNORADO</td>\n",
       "      <td>IGNORADO</td>\n",
       "      <td>IGNORADO</td>\n",
       "      <td>IGNORADO</td>\n",
       "      <td>IGNORADO</td>\n",
       "      <td>IGNORADO</td>\n",
       "      <td>IGNORADO</td>\n",
       "      <td>IGNORADO</td>\n",
       "      <td>IGNORADO</td>\n",
       "      <td>IGNORADO</td>\n",
       "    </tr>\n",
       "    <tr>\n",
       "      <th>2</th>\n",
       "      <td>São Paulo</td>\n",
       "      <td>3550308</td>\n",
       "      <td>59.0</td>\n",
       "      <td>MASCULINO</td>\n",
       "      <td>CONFIRMADO</td>\n",
       "      <td>2021-01-20T00:00:00Z</td>\n",
       "      <td>0</td>\n",
       "      <td>IGNORADO</td>\n",
       "      <td>IGNORADO</td>\n",
       "      <td>IGNORADO</td>\n",
       "      <td>IGNORADO</td>\n",
       "      <td>IGNORADO</td>\n",
       "      <td>IGNORADO</td>\n",
       "      <td>IGNORADO</td>\n",
       "      <td>IGNORADO</td>\n",
       "      <td>IGNORADO</td>\n",
       "      <td>IGNORADO</td>\n",
       "      <td>IGNORADO</td>\n",
       "      <td>IGNORADO</td>\n",
       "      <td>IGNORADO</td>\n",
       "    </tr>\n",
       "  </tbody>\n",
       "</table>\n",
       "</div>"
      ],
      "text/plain": [
       "  nome_munic  codigo_ibge  idade    cs_sexo diagnostico_covid19  \\\n",
       "0  São Paulo      3550308   45.0  MASCULINO          CONFIRMADO   \n",
       "1  São Paulo      3550308   39.0  MASCULINO          CONFIRMADO   \n",
       "2  São Paulo      3550308   59.0  MASCULINO          CONFIRMADO   \n",
       "\n",
       "   data_inicio_sintomas  obito      asma cardiopatia  diabetes  \\\n",
       "0  2021-03-18T00:00:00Z      0  IGNORADO    IGNORADO  IGNORADO   \n",
       "1  2021-07-07T00:00:00Z      0  IGNORADO    IGNORADO  IGNORADO   \n",
       "2  2021-01-20T00:00:00Z      0  IGNORADO    IGNORADO  IGNORADO   \n",
       "\n",
       "  doenca_hematologica doenca_hepatica doenca_neurologica doenca_renal  \\\n",
       "0            IGNORADO        IGNORADO           IGNORADO     IGNORADO   \n",
       "1            IGNORADO        IGNORADO           IGNORADO     IGNORADO   \n",
       "2            IGNORADO        IGNORADO           IGNORADO     IGNORADO   \n",
       "\n",
       "  imunodepressao obesidade outros_fatores_de_risco pneumopatia  puerpera  \\\n",
       "0       IGNORADO  IGNORADO                IGNORADO    IGNORADO  IGNORADO   \n",
       "1       IGNORADO  IGNORADO                IGNORADO    IGNORADO  IGNORADO   \n",
       "2       IGNORADO  IGNORADO                IGNORADO    IGNORADO  IGNORADO   \n",
       "\n",
       "  sindrome_de_down  \n",
       "0         IGNORADO  \n",
       "1         IGNORADO  \n",
       "2         IGNORADO  "
      ]
     },
     "execution_count": 13,
     "metadata": {},
     "output_type": "execute_result"
    }
   ],
   "source": [
    "# mostrando as primeiras linhas do dataframe\n",
    "df_obitos.head(3)"
   ]
  },
  {
   "cell_type": "code",
   "execution_count": 14,
   "id": "21237102-3912-45d5-bf09-d0ec87d0857e",
   "metadata": {},
   "outputs": [
    {
     "data": {
      "text/html": [
       "<div>\n",
       "<style scoped>\n",
       "    .dataframe tbody tr th:only-of-type {\n",
       "        vertical-align: middle;\n",
       "    }\n",
       "\n",
       "    .dataframe tbody tr th {\n",
       "        vertical-align: top;\n",
       "    }\n",
       "\n",
       "    .dataframe thead th {\n",
       "        text-align: right;\n",
       "    }\n",
       "</style>\n",
       "<table border=\"1\" class=\"dataframe\">\n",
       "  <thead>\n",
       "    <tr style=\"text-align: right;\">\n",
       "      <th></th>\n",
       "      <th>Territorialidades</th>\n",
       "      <th>IDHM Renda 2010</th>\n",
       "    </tr>\n",
       "  </thead>\n",
       "  <tbody>\n",
       "    <tr>\n",
       "      <th>0</th>\n",
       "      <td>Adamantina</td>\n",
       "      <td>0.772</td>\n",
       "    </tr>\n",
       "    <tr>\n",
       "      <th>1</th>\n",
       "      <td>Adolfo</td>\n",
       "      <td>0.710</td>\n",
       "    </tr>\n",
       "    <tr>\n",
       "      <th>2</th>\n",
       "      <td>Aguaí</td>\n",
       "      <td>0.703</td>\n",
       "    </tr>\n",
       "    <tr>\n",
       "      <th>3</th>\n",
       "      <td>Águas da Prata</td>\n",
       "      <td>0.750</td>\n",
       "    </tr>\n",
       "    <tr>\n",
       "      <th>4</th>\n",
       "      <td>Águas de Lindóia</td>\n",
       "      <td>0.725</td>\n",
       "    </tr>\n",
       "  </tbody>\n",
       "</table>\n",
       "</div>"
      ],
      "text/plain": [
       "  Territorialidades  IDHM Renda 2010\n",
       "0        Adamantina            0.772\n",
       "1            Adolfo            0.710\n",
       "2             Aguaí            0.703\n",
       "3    Águas da Prata            0.750\n",
       "4  Águas de Lindóia            0.725"
      ]
     },
     "execution_count": 14,
     "metadata": {},
     "output_type": "execute_result"
    }
   ],
   "source": [
    "# mostrando as primeiras linhas do dataframe\n",
    "df_idh.head()"
   ]
  },
  {
   "cell_type": "markdown",
   "id": "f71e73c2-7afc-4446-86c9-37420807df90",
   "metadata": {},
   "source": [
    "# 3 - Limpeza de dados "
   ]
  },
  {
   "cell_type": "code",
   "execution_count": 15,
   "id": "b803a743-50de-4d43-be8e-5809b43c4e1b",
   "metadata": {},
   "outputs": [
    {
     "data": {
      "text/html": [
       "<div>\n",
       "<style scoped>\n",
       "    .dataframe tbody tr th:only-of-type {\n",
       "        vertical-align: middle;\n",
       "    }\n",
       "\n",
       "    .dataframe tbody tr th {\n",
       "        vertical-align: top;\n",
       "    }\n",
       "\n",
       "    .dataframe thead th {\n",
       "        text-align: right;\n",
       "    }\n",
       "</style>\n",
       "<table border=\"1\" class=\"dataframe\">\n",
       "  <thead>\n",
       "    <tr style=\"text-align: right;\">\n",
       "      <th></th>\n",
       "      <th>count</th>\n",
       "      <th>mean</th>\n",
       "      <th>std</th>\n",
       "      <th>min</th>\n",
       "      <th>25%</th>\n",
       "      <th>50%</th>\n",
       "      <th>75%</th>\n",
       "      <th>max</th>\n",
       "    </tr>\n",
       "  </thead>\n",
       "  <tbody>\n",
       "    <tr>\n",
       "      <th>codigo_ibge</th>\n",
       "      <td>4412182.0</td>\n",
       "      <td>3.534491e+06</td>\n",
       "      <td>17281.778729</td>\n",
       "      <td>3500105.0</td>\n",
       "      <td>3518800.0</td>\n",
       "      <td>3540804.0</td>\n",
       "      <td>3550308.0</td>\n",
       "      <td>3599999.0</td>\n",
       "    </tr>\n",
       "    <tr>\n",
       "      <th>idade</th>\n",
       "      <td>4391965.0</td>\n",
       "      <td>4.093999e+01</td>\n",
       "      <td>17.637483</td>\n",
       "      <td>0.0</td>\n",
       "      <td>28.0</td>\n",
       "      <td>40.0</td>\n",
       "      <td>53.0</td>\n",
       "      <td>136.0</td>\n",
       "    </tr>\n",
       "    <tr>\n",
       "      <th>obito</th>\n",
       "      <td>4412182.0</td>\n",
       "      <td>3.456702e-02</td>\n",
       "      <td>0.182680</td>\n",
       "      <td>0.0</td>\n",
       "      <td>0.0</td>\n",
       "      <td>0.0</td>\n",
       "      <td>0.0</td>\n",
       "      <td>1.0</td>\n",
       "    </tr>\n",
       "  </tbody>\n",
       "</table>\n",
       "</div>"
      ],
      "text/plain": [
       "                 count          mean           std        min        25%  \\\n",
       "codigo_ibge  4412182.0  3.534491e+06  17281.778729  3500105.0  3518800.0   \n",
       "idade        4391965.0  4.093999e+01     17.637483        0.0       28.0   \n",
       "obito        4412182.0  3.456702e-02      0.182680        0.0        0.0   \n",
       "\n",
       "                   50%        75%        max  \n",
       "codigo_ibge  3540804.0  3550308.0  3599999.0  \n",
       "idade             40.0       53.0      136.0  \n",
       "obito              0.0        0.0        1.0  "
      ]
     },
     "execution_count": 15,
     "metadata": {},
     "output_type": "execute_result"
    }
   ],
   "source": [
    "df_obitos.describe().T"
   ]
  },
  {
   "cell_type": "code",
   "execution_count": 16,
   "id": "16abebba",
   "metadata": {},
   "outputs": [
    {
     "data": {
      "text/html": [
       "<div>\n",
       "<style scoped>\n",
       "    .dataframe tbody tr th:only-of-type {\n",
       "        vertical-align: middle;\n",
       "    }\n",
       "\n",
       "    .dataframe tbody tr th {\n",
       "        vertical-align: top;\n",
       "    }\n",
       "\n",
       "    .dataframe thead th {\n",
       "        text-align: right;\n",
       "    }\n",
       "</style>\n",
       "<table border=\"1\" class=\"dataframe\">\n",
       "  <thead>\n",
       "    <tr style=\"text-align: right;\">\n",
       "      <th></th>\n",
       "      <th>count</th>\n",
       "      <th>mean</th>\n",
       "      <th>std</th>\n",
       "      <th>min</th>\n",
       "      <th>25%</th>\n",
       "      <th>50%</th>\n",
       "      <th>75%</th>\n",
       "      <th>max</th>\n",
       "    </tr>\n",
       "  </thead>\n",
       "  <tbody>\n",
       "    <tr>\n",
       "      <th>IDHM Renda 2010</th>\n",
       "      <td>644.0</td>\n",
       "      <td>0.716447</td>\n",
       "      <td>0.040289</td>\n",
       "      <td>0.592</td>\n",
       "      <td>0.691</td>\n",
       "      <td>0.7155</td>\n",
       "      <td>0.74</td>\n",
       "      <td>0.891</td>\n",
       "    </tr>\n",
       "  </tbody>\n",
       "</table>\n",
       "</div>"
      ],
      "text/plain": [
       "                 count      mean       std    min    25%     50%   75%    max\n",
       "IDHM Renda 2010  644.0  0.716447  0.040289  0.592  0.691  0.7155  0.74  0.891"
      ]
     },
     "execution_count": 16,
     "metadata": {},
     "output_type": "execute_result"
    }
   ],
   "source": [
    "df_idh.describe().T"
   ]
  },
  {
   "cell_type": "markdown",
   "id": "4dc19c0a-e1be-452b-bb9d-6a77e2776872",
   "metadata": {
    "id": "THTqWdQt8sKT"
   },
   "source": [
    "Analizando as tabelas acima não parece haver nenhuma incosistência significativa no DataFrame."
   ]
  },
  {
   "cell_type": "markdown",
   "id": "430b831b-9f9c-4331-a99b-55b91d8448c3",
   "metadata": {
    "id": "5UWBNg0Y8sKT"
   },
   "source": [
    "## 3.1 - Linhas duplicada, colunas duplicadas e colunas constantes"
   ]
  },
  {
   "cell_type": "markdown",
   "id": "a43f9b17",
   "metadata": {},
   "source": [
    "### 3.1.1 - Linhas duplicadas\n",
    "\n",
    "Analisando a presença de linhas duplicadas no dataframe"
   ]
  },
  {
   "cell_type": "code",
   "execution_count": 17,
   "id": "fcc7aeff-be47-44df-a533-dd55885394a4",
   "metadata": {
    "id": "K-Dd0AZQ8sKT",
    "outputId": "d164d796-910f-47b4-f8ff-a39771f6f76e"
   },
   "outputs": [
    {
     "name": "stdout",
     "output_type": "stream",
     "text": [
      "Existem 1404170 linhas duplicadas\n"
     ]
    }
   ],
   "source": [
    "linhas_duplicadas(df_obitos)"
   ]
  },
  {
   "cell_type": "code",
   "execution_count": 18,
   "id": "86e232ae-230d-4069-b27e-d8cc5341a71a",
   "metadata": {},
   "outputs": [
    {
     "name": "stdout",
     "output_type": "stream",
     "text": [
      "Não há linhas duplicadas no conjunto de dados.\n"
     ]
    }
   ],
   "source": [
    "linhas_duplicadas(df_idh)"
   ]
  },
  {
   "cell_type": "markdown",
   "id": "399de9e6-1a30-479d-a9cd-19560b0fbc1f",
   "metadata": {},
   "source": [
    "- Como não existe idenficação de pacientes, é esperado que o número de duplicados seja alto\n",
    "- Não existem municípios duplicados"
   ]
  },
  {
   "cell_type": "markdown",
   "id": "8e4161f0",
   "metadata": {},
   "source": [
    "### 3.1.2 - Colunas Duplicadas\n",
    "\n",
    "Analisando a presença de colunas dataframe"
   ]
  },
  {
   "cell_type": "code",
   "execution_count": 19,
   "id": "fc944b37-7e94-4070-bbbb-db6ce0c15ddb",
   "metadata": {},
   "outputs": [
    {
     "name": "stdout",
     "output_type": "stream",
     "text": [
      "Não há colunas duplicadas no conjunto de dados.\n"
     ]
    }
   ],
   "source": [
    "colunas_duplicadas(df_obitos)"
   ]
  },
  {
   "cell_type": "code",
   "execution_count": 20,
   "id": "c9c10837-1ad5-4f99-a79b-0d1bbc979be9",
   "metadata": {},
   "outputs": [
    {
     "name": "stdout",
     "output_type": "stream",
     "text": [
      "Não há colunas duplicadas no conjunto de dados.\n"
     ]
    }
   ],
   "source": [
    "colunas_duplicadas(df_idh)"
   ]
  },
  {
   "cell_type": "markdown",
   "id": "614c3e6c-aa3d-4f8a-a5fc-8f8a83dc7978",
   "metadata": {},
   "source": [
    "### 3.1.3 - Colunas com constantes \n",
    "\n",
    "Analisando a existencia de colunas constantes que não agregam na nossa análise e devem ser removidas"
   ]
  },
  {
   "cell_type": "code",
   "execution_count": 21,
   "id": "784d00ac-6d6f-4cb6-ae0a-fa045eb675b2",
   "metadata": {
    "id": "qcdDXnz38sKV"
   },
   "outputs": [
    {
     "name": "stdout",
     "output_type": "stream",
     "text": [
      "Colunas constantes: ['diagnostico_covid19']\n"
     ]
    }
   ],
   "source": [
    "colunas_constantes(df_obitos)"
   ]
  },
  {
   "cell_type": "code",
   "execution_count": 22,
   "id": "99be99a8-aba4-49b7-aeaf-4cf3195c375c",
   "metadata": {},
   "outputs": [
    {
     "name": "stdout",
     "output_type": "stream",
     "text": [
      "Não há colunas constantes no conjunto de dados.\n"
     ]
    }
   ],
   "source": [
    "colunas_constantes(df_idh)"
   ]
  },
  {
   "cell_type": "markdown",
   "id": "fbc46079",
   "metadata": {},
   "source": [
    "# 3.1.3 - Colunas com baixa variância\n",
    "\n",
    "Analisando colunas que tem uma baixa variancia de valores se aproximando de valores constantes."
   ]
  },
  {
   "cell_type": "code",
   "execution_count": 23,
   "id": "939cab23-a13a-4f57-83ae-60fb5b9ed8f9",
   "metadata": {
    "id": "z-39OH0e8sKW",
    "outputId": "3f9fa5a2-d300-4d9f-d603-1655396ab084"
   },
   "outputs": [
    {
     "name": "stdout",
     "output_type": "stream",
     "text": [
      "Não há colunas com baixa variância no conjunto de dados.\n"
     ]
    }
   ],
   "source": [
    "colunas_baixa_variancia = identify_cols_low_variance(df_obitos, low_variance_threshold=0.001)\n",
    "\n",
    "if len(colunas_baixa_variancia) > 0:\n",
    "    print('Colunas com baixa variância:', colunas_baixa_variancia)\n",
    "    df_obitos.drop(colunas_baixa_variancia, axis=1, inplace=True)\n",
    "    \n",
    "else:\n",
    "    print('Não há colunas com baixa variância no conjunto de dados.')"
   ]
  },
  {
   "cell_type": "markdown",
   "id": "fc5c166f",
   "metadata": {},
   "source": [
    "O dataframe de IDH não será analisado, os valores são significativos mesmo com baixa variância."
   ]
  },
  {
   "cell_type": "markdown",
   "id": "e655e1ee-8a0d-448e-8e69-08fb4fd0b6b2",
   "metadata": {},
   "source": [
    "## 3.2 - Outliers\n",
    "\n",
    "Analisaremos a presença de outliers no conjunto de dados, para que possamos entender como tratar e selecionar o intervalo que nos será útil."
   ]
  },
  {
   "cell_type": "markdown",
   "id": "16f71403-de5f-4c19-9087-7e3085584397",
   "metadata": {},
   "source": [
    "### 3.2.1 - Feature Idade \n",
    "\n",
    "Sabemos que a presença de pessoas com mais de 110 anos é pouco provavel e que esses valores podem causados por erros de preenchimento de formulario."
   ]
  },
  {
   "cell_type": "code",
   "execution_count": 24,
   "id": "2181a447-685d-41aa-aec3-a64c7e4053b6",
   "metadata": {},
   "outputs": [
    {
     "data": {
      "image/png": "[encoded data removed]",
      "text/plain": [
       "<Figure size 1080x432 with 2 Axes>"
      ]
     },
     "metadata": {
      "needs_background": "light"
     },
     "output_type": "display_data"
    }
   ],
   "source": [
    "fig, ax = plt.subplots (1,2, figsize = (15,6))\n",
    "ax[0].set_title(f'Distribuicao de dados')\n",
    "ax[1].set_title(f'Distribuicao de dados')\n",
    "\n",
    "fig.suptitle (f'Casos confirmados por Idade', fontsize = 20, fontweight = 'bold', y =1)\n",
    "sns.histplot(data = df_obitos.idade,bins = 50, ax=ax[0])\n",
    "ax[0].grid(axis = 'y')\n",
    "\n",
    "\n",
    "ax = sns.boxplot(x=df_obitos[\"idade\"], ax=ax[1])\n",
    "# ax[1].set_title(f'Distribuicao de dados')\n",
    "plt.show()"
   ]
  },
  {
   "cell_type": "code",
   "execution_count": 25,
   "id": "8c8d4a4c-e348-4f19-bb97-838b11526063",
   "metadata": {},
   "outputs": [],
   "source": [
    "X_maior_100=pd.DataFrame(df_obitos.query('idade > 110'))"
   ]
  },
  {
   "cell_type": "code",
   "execution_count": 26,
   "id": "f85bcf81-dbf4-4e92-83fb-55126f037e2c",
   "metadata": {},
   "outputs": [
    {
     "data": {
      "image/png": "[encoded data removed]",
      "text/plain": [
       "<Figure size 432x288 with 1 Axes>"
      ]
     },
     "metadata": {
      "needs_background": "light"
     },
     "output_type": "display_data"
    }
   ],
   "source": [
    "fig, ax = plt.subplots ()\n",
    "sns.histplot(data = X_maior_100.idade,bins = 50)\n",
    "ax.grid(axis = 'y')\n",
    "\n",
    "# formatando a imagem\n",
    "ax.set_title('Casos Confirmados por Idade')\n",
    "ax.set_xlabel('Idades')\n",
    "ax.set_ylabel('Quantidade')\n",
    "plt.show()"
   ]
  },
  {
   "cell_type": "code",
   "execution_count": 27,
   "id": "2282b6c6-b488-4c74-82dc-6eca8e38a0b9",
   "metadata": {},
   "outputs": [
    {
     "name": "stdout",
     "output_type": "stream",
     "text": [
      "Temos ao todo,  764 observações com idade registradas acima de 110 anos\n"
     ]
    }
   ],
   "source": [
    "print('Temos ao todo, ', X_maior_100.shape[0],'observações com idade registradas acima de 110 anos')"
   ]
  },
  {
   "cell_type": "code",
   "execution_count": 28,
   "id": "12f9415e",
   "metadata": {},
   "outputs": [
    {
     "name": "stdout",
     "output_type": "stream",
     "text": [
      "0.01731569549941503 % de pessoas com iadde maior que 110 anos\n"
     ]
    }
   ],
   "source": [
    "print(f'{100 * (X_maior_100.shape[0] / df_obitos.shape[0])} % de pessoas com iadde maior que 110 anos')"
   ]
  },
  {
   "cell_type": "markdown",
   "id": "f21e89cc-992d-4a5c-94f8-6ae5e8551e7a",
   "metadata": {},
   "source": [
    "Decidiu-se por considerar essas observções que \n",
    "Tomada de decisão para analise do DataSet foi de retirar as observações e considerar os registros como erros."
   ]
  },
  {
   "cell_type": "code",
   "execution_count": 29,
   "id": "e836412b-274c-46c0-9733-f3f4fa0f89fd",
   "metadata": {},
   "outputs": [],
   "source": [
    "# removendo entradas de pessoas com mais de 110 anos \n",
    "remove = df_obitos.loc[(df_obitos['idade'] > 110)]\n",
    "df_obitos_clean = df_obitos.drop(remove.index)"
   ]
  },
  {
   "cell_type": "markdown",
   "id": "b92a0ef4-031f-465b-a5ce-6f91c87d34f7",
   "metadata": {
    "tags": []
   },
   "source": [
    "### 3.2.2 - Feature cs_sexo\n",
    "\n",
    "Explorando a feature cs_sexo para entender quais são os dados e como podemos trata-los"
   ]
  },
  {
   "cell_type": "code",
   "execution_count": 30,
   "id": "79dcf3f5-5bb1-415f-b527-28d8858bab41",
   "metadata": {},
   "outputs": [
    {
     "data": {
      "text/plain": [
       "['MASCULINO', 'FEMININO', 'INDEFINIDO', 'IGNORADO', nan]"
      ]
     },
     "execution_count": 30,
     "metadata": {},
     "output_type": "execute_result"
    }
   ],
   "source": [
    "list(df_obitos_clean['cs_sexo'].unique())"
   ]
  },
  {
   "cell_type": "code",
   "execution_count": 31,
   "id": "b70f95d7-85fc-4586-8cf1-f322ede0392e",
   "metadata": {},
   "outputs": [
    {
     "name": "stdout",
     "output_type": "stream",
     "text": [
      "Temos 3600 linhas com cs_sexo INDEFINIDO ou IGNORADO\n"
     ]
    }
   ],
   "source": [
    "df_sexo = df_obitos_clean.query('cs_sexo == \"INDEFINIDO\" or cs_sexo == \"IGNORADO\"')\n",
    "print(f'Temos {df_sexo.shape[0]} linhas com cs_sexo INDEFINIDO ou IGNORADO')"
   ]
  },
  {
   "cell_type": "code",
   "execution_count": 32,
   "id": "21890329",
   "metadata": {},
   "outputs": [
    {
     "name": "stdout",
     "output_type": "stream",
     "text": [
      "Temos 0.08159228245797658 linhas com cs_sexo INDEFINIDO ou IGNORADO\n"
     ]
    }
   ],
   "source": [
    "print(f'Temos {100*(df_sexo.shape[0] / df_obitos.shape[0])} linhas com cs_sexo INDEFINIDO ou IGNORADO')"
   ]
  },
  {
   "cell_type": "markdown",
   "id": "51ef33ae-dc19-4df4-ad4c-93e5747427b4",
   "metadata": {},
   "source": [
    "Por conta da pequena quantidade de cs_sexo COMO \"INDEFINIDO\" ou \"IGNORADO\" decidimos remover essas linhas"
   ]
  },
  {
   "cell_type": "code",
   "execution_count": 33,
   "id": "ad54093f-038a-4aa1-a7a6-eee2a1b1d446",
   "metadata": {},
   "outputs": [],
   "source": [
    "df_obitos_clean = df_obitos_clean.drop(df_obitos_clean[\n",
    "    (df_obitos_clean.cs_sexo == \"INDEFINIDO\") | \n",
    "    (df_obitos_clean.cs_sexo == \"IGNORADO\") |\n",
    "    (df_obitos_clean.cs_sexo.isnull() ) ].index)"
   ]
  },
  {
   "cell_type": "code",
   "execution_count": 34,
   "id": "376ff407-87ae-497d-96aa-e3e45ec2e1a5",
   "metadata": {},
   "outputs": [
    {
     "name": "stdout",
     "output_type": "stream",
     "text": [
      "FEMININO     53.115318\n",
      "MASCULINO    46.884682\n",
      "Name: cs_sexo, dtype: float64\n"
     ]
    }
   ],
   "source": [
    "perc = pd.Series(df_obitos_clean['cs_sexo']).value_counts()       \n",
    "print(( perc / len(df_obitos_clean['cs_sexo']))*100) "
   ]
  },
  {
   "cell_type": "markdown",
   "id": "54e1c144-3f06-4757-94ea-4ce51da621db",
   "metadata": {},
   "source": [
    "A variavél sexo está equilibrada em relacao a populacao global que apresenta uma maior quantidade de mulheres em relacao a homens\n"
   ]
  },
  {
   "cell_type": "markdown",
   "id": "73e01144-70fb-45d9-a0a4-d1646894471c",
   "metadata": {},
   "source": [
    "## 3.3 - Tratamento de Nulos\n",
    "\n",
    "Observaremos a quantidade e em qual feature temos valores nulos e como podemos tratar esses dados."
   ]
  },
  {
   "cell_type": "code",
   "execution_count": 35,
   "id": "067204ac-177f-4ac6-bc83-86288bee00c7",
   "metadata": {},
   "outputs": [
    {
     "data": {
      "text/html": [
       "<div>\n",
       "<style scoped>\n",
       "    .dataframe tbody tr th:only-of-type {\n",
       "        vertical-align: middle;\n",
       "    }\n",
       "\n",
       "    .dataframe tbody tr th {\n",
       "        vertical-align: top;\n",
       "    }\n",
       "\n",
       "    .dataframe thead th {\n",
       "        text-align: right;\n",
       "    }\n",
       "</style>\n",
       "<table border=\"1\" class=\"dataframe\">\n",
       "  <thead>\n",
       "    <tr style=\"text-align: right;\">\n",
       "      <th></th>\n",
       "      <th>nulos</th>\n",
       "      <th>%</th>\n",
       "    </tr>\n",
       "  </thead>\n",
       "  <tbody>\n",
       "    <tr>\n",
       "      <th>nome_munic</th>\n",
       "      <td>0</td>\n",
       "      <td>0.00</td>\n",
       "    </tr>\n",
       "    <tr>\n",
       "      <th>codigo_ibge</th>\n",
       "      <td>0</td>\n",
       "      <td>0.00</td>\n",
       "    </tr>\n",
       "    <tr>\n",
       "      <th>idade</th>\n",
       "      <td>19690</td>\n",
       "      <td>0.45</td>\n",
       "    </tr>\n",
       "    <tr>\n",
       "      <th>cs_sexo</th>\n",
       "      <td>0</td>\n",
       "      <td>0.00</td>\n",
       "    </tr>\n",
       "    <tr>\n",
       "      <th>data_inicio_sintomas</th>\n",
       "      <td>41578</td>\n",
       "      <td>0.94</td>\n",
       "    </tr>\n",
       "    <tr>\n",
       "      <th>obito</th>\n",
       "      <td>0</td>\n",
       "      <td>0.00</td>\n",
       "    </tr>\n",
       "    <tr>\n",
       "      <th>asma</th>\n",
       "      <td>0</td>\n",
       "      <td>0.00</td>\n",
       "    </tr>\n",
       "    <tr>\n",
       "      <th>cardiopatia</th>\n",
       "      <td>0</td>\n",
       "      <td>0.00</td>\n",
       "    </tr>\n",
       "    <tr>\n",
       "      <th>diabetes</th>\n",
       "      <td>0</td>\n",
       "      <td>0.00</td>\n",
       "    </tr>\n",
       "    <tr>\n",
       "      <th>doenca_hematologica</th>\n",
       "      <td>0</td>\n",
       "      <td>0.00</td>\n",
       "    </tr>\n",
       "    <tr>\n",
       "      <th>doenca_hepatica</th>\n",
       "      <td>0</td>\n",
       "      <td>0.00</td>\n",
       "    </tr>\n",
       "    <tr>\n",
       "      <th>doenca_neurologica</th>\n",
       "      <td>0</td>\n",
       "      <td>0.00</td>\n",
       "    </tr>\n",
       "    <tr>\n",
       "      <th>doenca_renal</th>\n",
       "      <td>0</td>\n",
       "      <td>0.00</td>\n",
       "    </tr>\n",
       "    <tr>\n",
       "      <th>imunodepressao</th>\n",
       "      <td>0</td>\n",
       "      <td>0.00</td>\n",
       "    </tr>\n",
       "    <tr>\n",
       "      <th>obesidade</th>\n",
       "      <td>0</td>\n",
       "      <td>0.00</td>\n",
       "    </tr>\n",
       "    <tr>\n",
       "      <th>outros_fatores_de_risco</th>\n",
       "      <td>0</td>\n",
       "      <td>0.00</td>\n",
       "    </tr>\n",
       "    <tr>\n",
       "      <th>pneumopatia</th>\n",
       "      <td>0</td>\n",
       "      <td>0.00</td>\n",
       "    </tr>\n",
       "    <tr>\n",
       "      <th>puerpera</th>\n",
       "      <td>0</td>\n",
       "      <td>0.00</td>\n",
       "    </tr>\n",
       "    <tr>\n",
       "      <th>sindrome_de_down</th>\n",
       "      <td>0</td>\n",
       "      <td>0.00</td>\n",
       "    </tr>\n",
       "  </tbody>\n",
       "</table>\n",
       "</div>"
      ],
      "text/plain": [
       "                         nulos     %\n",
       "nome_munic                   0  0.00\n",
       "codigo_ibge                  0  0.00\n",
       "idade                    19690  0.45\n",
       "cs_sexo                      0  0.00\n",
       "data_inicio_sintomas     41578  0.94\n",
       "obito                        0  0.00\n",
       "asma                         0  0.00\n",
       "cardiopatia                  0  0.00\n",
       "diabetes                     0  0.00\n",
       "doenca_hematologica          0  0.00\n",
       "doenca_hepatica              0  0.00\n",
       "doenca_neurologica           0  0.00\n",
       "doenca_renal                 0  0.00\n",
       "imunodepressao               0  0.00\n",
       "obesidade                    0  0.00\n",
       "outros_fatores_de_risco      0  0.00\n",
       "pneumopatia                  0  0.00\n",
       "puerpera                     0  0.00\n",
       "sindrome_de_down             0  0.00"
      ]
     },
     "execution_count": 35,
     "metadata": {},
     "output_type": "execute_result"
    }
   ],
   "source": [
    "checa_nulos(df_obitos_clean)"
   ]
  },
  {
   "cell_type": "code",
   "execution_count": 36,
   "id": "e7e0c9f4-decb-4352-aca6-eb411623f66d",
   "metadata": {},
   "outputs": [
    {
     "data": {
      "image/png": "[encoded data removed]",
      "text/plain": [
       "<Figure size 1800x720 with 2 Axes>"
      ]
     },
     "metadata": {
      "needs_background": "light"
     },
     "output_type": "display_data"
    }
   ],
   "source": [
    "%config InlineBackend.figure_format = 'png'\n",
    "msno.matrix(df_obitos_clean)\n",
    "plt.title(label ='Posição dos valores nulos',fontsize=40)\n",
    "plt.show()"
   ]
  },
  {
   "cell_type": "code",
   "execution_count": 37,
   "id": "a74c32bb-8efa-420c-b54c-693500f6b161",
   "metadata": {},
   "outputs": [
    {
     "data": {
      "text/html": [
       "<div>\n",
       "<style scoped>\n",
       "    .dataframe tbody tr th:only-of-type {\n",
       "        vertical-align: middle;\n",
       "    }\n",
       "\n",
       "    .dataframe tbody tr th {\n",
       "        vertical-align: top;\n",
       "    }\n",
       "\n",
       "    .dataframe thead th {\n",
       "        text-align: right;\n",
       "    }\n",
       "</style>\n",
       "<table border=\"1\" class=\"dataframe\">\n",
       "  <thead>\n",
       "    <tr style=\"text-align: right;\">\n",
       "      <th></th>\n",
       "      <th>nulos</th>\n",
       "      <th>%</th>\n",
       "    </tr>\n",
       "  </thead>\n",
       "  <tbody>\n",
       "    <tr>\n",
       "      <th>Territorialidades</th>\n",
       "      <td>0</td>\n",
       "      <td>0.0</td>\n",
       "    </tr>\n",
       "    <tr>\n",
       "      <th>IDHM Renda 2010</th>\n",
       "      <td>0</td>\n",
       "      <td>0.0</td>\n",
       "    </tr>\n",
       "  </tbody>\n",
       "</table>\n",
       "</div>"
      ],
      "text/plain": [
       "                   nulos    %\n",
       "Territorialidades      0  0.0\n",
       "IDHM Renda 2010        0  0.0"
      ]
     },
     "execution_count": 37,
     "metadata": {},
     "output_type": "execute_result"
    }
   ],
   "source": [
    "checa_nulos(df_idh)"
   ]
  },
  {
   "cell_type": "markdown",
   "id": "dad6edbd-b2b7-4ca3-9c60-266953f179fb",
   "metadata": {},
   "source": [
    "Apenas as colunas \"idade\" e \"data_inicio_sintomas\" e 'sexo' da tabela df_obito possuem nulos e removeremos os dados pois queremos saber a idade das pessoas que contrairam covid dentro de um certo periodo para determinar o risco de suas comorbidades"
   ]
  },
  {
   "cell_type": "code",
   "execution_count": 38,
   "id": "124a368b-0603-4ba4-b5ff-00a6d551e47e",
   "metadata": {},
   "outputs": [],
   "source": [
    "df_obitos_clean = df_obitos_clean.dropna(subset = ['idade','data_inicio_sintomas','cs_sexo'])"
   ]
  },
  {
   "cell_type": "code",
   "execution_count": 39,
   "id": "067204ac-177f-4ac6-bc83-86288bee00c7",
   "metadata": {},
   "outputs": [
    {
     "data": {
      "text/html": [
       "<div>\n",
       "<style scoped>\n",
       "    .dataframe tbody tr th:only-of-type {\n",
       "        vertical-align: middle;\n",
       "    }\n",
       "\n",
       "    .dataframe tbody tr th {\n",
       "        vertical-align: top;\n",
       "    }\n",
       "\n",
       "    .dataframe thead th {\n",
       "        text-align: right;\n",
       "    }\n",
       "</style>\n",
       "<table border=\"1\" class=\"dataframe\">\n",
       "  <thead>\n",
       "    <tr style=\"text-align: right;\">\n",
       "      <th></th>\n",
       "      <th>nulos</th>\n",
       "      <th>%</th>\n",
       "    </tr>\n",
       "  </thead>\n",
       "  <tbody>\n",
       "    <tr>\n",
       "      <th>nome_munic</th>\n",
       "      <td>0</td>\n",
       "      <td>0.0</td>\n",
       "    </tr>\n",
       "    <tr>\n",
       "      <th>codigo_ibge</th>\n",
       "      <td>0</td>\n",
       "      <td>0.0</td>\n",
       "    </tr>\n",
       "    <tr>\n",
       "      <th>idade</th>\n",
       "      <td>0</td>\n",
       "      <td>0.0</td>\n",
       "    </tr>\n",
       "    <tr>\n",
       "      <th>cs_sexo</th>\n",
       "      <td>0</td>\n",
       "      <td>0.0</td>\n",
       "    </tr>\n",
       "    <tr>\n",
       "      <th>data_inicio_sintomas</th>\n",
       "      <td>0</td>\n",
       "      <td>0.0</td>\n",
       "    </tr>\n",
       "    <tr>\n",
       "      <th>obito</th>\n",
       "      <td>0</td>\n",
       "      <td>0.0</td>\n",
       "    </tr>\n",
       "    <tr>\n",
       "      <th>asma</th>\n",
       "      <td>0</td>\n",
       "      <td>0.0</td>\n",
       "    </tr>\n",
       "    <tr>\n",
       "      <th>cardiopatia</th>\n",
       "      <td>0</td>\n",
       "      <td>0.0</td>\n",
       "    </tr>\n",
       "    <tr>\n",
       "      <th>diabetes</th>\n",
       "      <td>0</td>\n",
       "      <td>0.0</td>\n",
       "    </tr>\n",
       "    <tr>\n",
       "      <th>doenca_hematologica</th>\n",
       "      <td>0</td>\n",
       "      <td>0.0</td>\n",
       "    </tr>\n",
       "    <tr>\n",
       "      <th>doenca_hepatica</th>\n",
       "      <td>0</td>\n",
       "      <td>0.0</td>\n",
       "    </tr>\n",
       "    <tr>\n",
       "      <th>doenca_neurologica</th>\n",
       "      <td>0</td>\n",
       "      <td>0.0</td>\n",
       "    </tr>\n",
       "    <tr>\n",
       "      <th>doenca_renal</th>\n",
       "      <td>0</td>\n",
       "      <td>0.0</td>\n",
       "    </tr>\n",
       "    <tr>\n",
       "      <th>imunodepressao</th>\n",
       "      <td>0</td>\n",
       "      <td>0.0</td>\n",
       "    </tr>\n",
       "    <tr>\n",
       "      <th>obesidade</th>\n",
       "      <td>0</td>\n",
       "      <td>0.0</td>\n",
       "    </tr>\n",
       "    <tr>\n",
       "      <th>outros_fatores_de_risco</th>\n",
       "      <td>0</td>\n",
       "      <td>0.0</td>\n",
       "    </tr>\n",
       "    <tr>\n",
       "      <th>pneumopatia</th>\n",
       "      <td>0</td>\n",
       "      <td>0.0</td>\n",
       "    </tr>\n",
       "    <tr>\n",
       "      <th>puerpera</th>\n",
       "      <td>0</td>\n",
       "      <td>0.0</td>\n",
       "    </tr>\n",
       "    <tr>\n",
       "      <th>sindrome_de_down</th>\n",
       "      <td>0</td>\n",
       "      <td>0.0</td>\n",
       "    </tr>\n",
       "  </tbody>\n",
       "</table>\n",
       "</div>"
      ],
      "text/plain": [
       "                         nulos    %\n",
       "nome_munic                   0  0.0\n",
       "codigo_ibge                  0  0.0\n",
       "idade                        0  0.0\n",
       "cs_sexo                      0  0.0\n",
       "data_inicio_sintomas         0  0.0\n",
       "obito                        0  0.0\n",
       "asma                         0  0.0\n",
       "cardiopatia                  0  0.0\n",
       "diabetes                     0  0.0\n",
       "doenca_hematologica          0  0.0\n",
       "doenca_hepatica              0  0.0\n",
       "doenca_neurologica           0  0.0\n",
       "doenca_renal                 0  0.0\n",
       "imunodepressao               0  0.0\n",
       "obesidade                    0  0.0\n",
       "outros_fatores_de_risco      0  0.0\n",
       "pneumopatia                  0  0.0\n",
       "puerpera                     0  0.0\n",
       "sindrome_de_down             0  0.0"
      ]
     },
     "execution_count": 39,
     "metadata": {},
     "output_type": "execute_result"
    }
   ],
   "source": [
    "checa_nulos(df_obitos_clean)"
   ]
  },
  {
   "cell_type": "markdown",
   "id": "0ef3dc68-2a57-405f-8882-4e6eb96f7bca",
   "metadata": {},
   "source": [
    "## 3.4 - Analise da Feature Target - obito"
   ]
  },
  {
   "cell_type": "code",
   "execution_count": 40,
   "id": "65420928-c5f3-4d0e-a155-e6fa11d7615e",
   "metadata": {},
   "outputs": [
    {
     "data": {
      "text/plain": [
       "[0, 1]"
      ]
     },
     "execution_count": 40,
     "metadata": {},
     "output_type": "execute_result"
    }
   ],
   "source": [
    "list(df_obitos_clean['obito'].unique())"
   ]
  },
  {
   "cell_type": "code",
   "execution_count": 41,
   "id": "6c6dcd8d-15f5-4f72-afa3-cedc6a1bd33c",
   "metadata": {},
   "outputs": [],
   "source": [
    "freq = df_obitos_clean['obito'].value_counts()\n",
    "perc = 100 *(pd.Series(df_obitos_clean['obito'], name='%').value_counts() / len(df_obitos_clean['obito']))   "
   ]
  },
  {
   "cell_type": "code",
   "execution_count": 42,
   "id": "49426086-b9c4-4f15-9cdb-116e9e877eee",
   "metadata": {},
   "outputs": [
    {
     "data": {
      "text/html": [
       "<div>\n",
       "<style scoped>\n",
       "    .dataframe tbody tr th:only-of-type {\n",
       "        vertical-align: middle;\n",
       "    }\n",
       "\n",
       "    .dataframe tbody tr th {\n",
       "        vertical-align: top;\n",
       "    }\n",
       "\n",
       "    .dataframe thead th {\n",
       "        text-align: right;\n",
       "    }\n",
       "</style>\n",
       "<table border=\"1\" class=\"dataframe\">\n",
       "  <thead>\n",
       "    <tr style=\"text-align: right;\">\n",
       "      <th></th>\n",
       "      <th>obito</th>\n",
       "      <th>%</th>\n",
       "    </tr>\n",
       "  </thead>\n",
       "  <tbody>\n",
       "    <tr>\n",
       "      <th>0</th>\n",
       "      <td>4208562</td>\n",
       "      <td>96.5</td>\n",
       "    </tr>\n",
       "    <tr>\n",
       "      <th>1</th>\n",
       "      <td>152502</td>\n",
       "      <td>3.5</td>\n",
       "    </tr>\n",
       "  </tbody>\n",
       "</table>\n",
       "</div>"
      ],
      "text/plain": [
       "     obito     %\n",
       "0  4208562  96.5\n",
       "1   152502   3.5"
      ]
     },
     "execution_count": 42,
     "metadata": {},
     "output_type": "execute_result"
    }
   ],
   "source": [
    "obito = pd.merge(freq, perc, right_index = True,\n",
    "               left_index = True).round(2)\n",
    "obito"
   ]
  },
  {
   "cell_type": "markdown",
   "id": "293013ca-eb93-4614-ab08-58bb0c9f83a7",
   "metadata": {},
   "source": [
    "O grande Desequilibrio da variavel target pode ser entendido que apesar da alta taxa de contaminacao (10 % de toda a poulacao do estado de São Paulo foi contaminada até a data observada)[1] o virus da SARS-COV19 apresenta uma baixa taxa de letalidade.\n",
    "\n",
    "Do ponto de vista de modelagem esse desequilibrio pode ser prejudicial a modelagem"
   ]
  },
  {
   "cell_type": "markdown",
   "id": "707d815a",
   "metadata": {},
   "source": [
    "# 4 - Removendo acentuação\n",
    "\n",
    "A feature de nome da cidade pode ter acentuação e isso atrapalha nas operações de JOIN, por isso escreveremos os nomes sem acento"
   ]
  },
  {
   "cell_type": "code",
   "execution_count": 43,
   "id": "c4a02da9",
   "metadata": {},
   "outputs": [],
   "source": [
    "df_idh['Territorialidades'] = df_idh['Territorialidades'].apply(corrigir_nomes)"
   ]
  },
  {
   "cell_type": "code",
   "execution_count": 44,
   "id": "0c7191c8",
   "metadata": {},
   "outputs": [],
   "source": [
    "df_obitos_clean['nome_munic'] = df_obitos_clean['nome_munic'].apply(corrigir_nomes)"
   ]
  },
  {
   "cell_type": "markdown",
   "id": "385b3da7",
   "metadata": {},
   "source": [
    "# 5 - Renomeando colunas"
   ]
  },
  {
   "cell_type": "code",
   "execution_count": 45,
   "id": "da22cb5a",
   "metadata": {},
   "outputs": [],
   "source": [
    "df_idh.columns = ['nome_munic','idh']"
   ]
  },
  {
   "cell_type": "markdown",
   "id": "eb18a298-c49f-4dce-a273-0486561c694e",
   "metadata": {},
   "source": [
    "# 6 -  Exportando o dataframe limpo"
   ]
  },
  {
   "cell_type": "code",
   "execution_count": 46,
   "id": "5508e46b-9c29-4a48-afe6-147270f84523",
   "metadata": {},
   "outputs": [],
   "source": [
    "df_obitos_clean.to_pickle('dados/cleaned/df_nonan.pkl')\n",
    "df_idh.to_pickle('dados/cleaned/df_idh.pkl')"
   ]
  },
  {
   "cell_type": "markdown",
   "id": "da236012-bd17-487d-8436-fb277cdc0c29",
   "metadata": {},
   "source": [
    "# 5 - Referencias"
   ]
  },
  {
   "cell_type": "markdown",
   "id": "93d79adf-92e2-46e6-a623-e1760833bb5f",
   "metadata": {},
   "source": [
    "[1] Panorama Populaciona do Etado de São Paulo. IBGE. Disponível em: <https://cidades.ibge.gov.br/brasil/sp/panorama>. Acesso em: 10 de Fev. de 2022"
   ]
  }
 ],
 "metadata": {
  "kernelspec": {
   "display_name": "Python 3",
   "language": "python",
   "name": "python3"
  },
  "language_info": {
   "codemirror_mode": {
    "name": "ipython",
    "version": 3
   },
   "file_extension": ".py",
   "mimetype": "text/x-python",
   "name": "python",
   "nbconvert_exporter": "python",
   "pygments_lexer": "ipython3",
   "version": "3.10.2"
  }
 },
 "nbformat": 4,
 "nbformat_minor": 5
}
