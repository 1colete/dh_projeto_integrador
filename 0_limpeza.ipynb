{
 "cells": [
  {
   "cell_type": "markdown",
   "id": "419d0e1a-7d96-4665-b517-f52adfcbf3bd",
   "metadata": {},
   "source": [
    "# 1. Importar libs e carregar os DataFrames"
   ]
  },
  {
   "cell_type": "code",
   "execution_count": 1,
   "id": "a442a637-5513-421f-aae1-af0a9b8847a0",
   "metadata": {},
   "outputs": [],
   "source": [
    "from bibliotecas.eda import *\n",
    "from bibliotecas.limpeza import *"
   ]
  },
  {
   "cell_type": "code",
   "execution_count": 2,
   "id": "0ec224d3-cbd2-48d3-be7f-4b217debff53",
   "metadata": {},
   "outputs": [],
   "source": [
    "import missingno as msno\n",
    "import seaborn as sns\n",
    "import numpy as np\n",
    "import pandas as pd\n",
    "import matplotlib.pyplot as plt\n",
    "# import geopandas as gpd\n",
    "import time\n",
    "from datetime import datetime\n",
    "from datetime import timedelta\n",
    "%matplotlib inline\n",
    "\n",
    "# machine learning models\n",
    "from sklearn.linear_model import LogisticRegression\n",
    "from sklearn.neighbors import KNeighborsClassifier\n",
    "from sklearn.svm import SVC\n",
    "from sklearn.naive_bayes import GaussianNB\n",
    "from sklearn.tree import DecisionTreeClassifier\n",
    "\n",
    "# preprocessing and pipeline\n",
    "from sklearn.preprocessing import (StandardScaler,  # REESCALANDO FEATURES\n",
    "                                   MinMaxScaler, \n",
    "                                   RobustScaler, \n",
    "                                   LabelEncoder)\n",
    "from sklearn.pipeline import Pipeline # CRIANDO PIPELINES\n",
    "from sklearn import set_config\n",
    "\n",
    "\n",
    "# feature selection\n",
    "from sklearn.feature_selection import SelectKBest, chi2, RFE  # SELEÇÃO DE FEATURES\n",
    "from sklearn.ensemble import RandomForestClassifier\n",
    "\n",
    "# mode selection and metrics\n",
    "from sklearn.model_selection import (train_test_split,  # METRICAS\n",
    "                                     GridSearchCV,\n",
    "                                     KFold,\n",
    "                                     cross_val_score)\n",
    "from sklearn import metrics\n",
    "\n",
    "from sklearn.metrics import (accuracy_score, \n",
    "                             classification_report, \n",
    "                             precision_score, \n",
    "                             recall_score,\n",
    "                             confusion_matrix,\n",
    "                             roc_auc_score,\n",
    "                             roc_curve\n",
    "                            )\n",
    "\n",
    "# warnings option\n",
    "import warnings\n",
    "warnings.filterwarnings('ignore')"
   ]
  },
  {
   "cell_type": "markdown",
   "id": "9510554a-ec89-47d2-b74a-12afa15469a3",
   "metadata": {
    "tags": []
   },
   "source": [
    "# 2 - Lendo Arquivos"
   ]
  },
  {
   "cell_type": "code",
   "execution_count": 3,
   "id": "4befbb0c-8204-47a9-b2c5-42aa2661e1ef",
   "metadata": {},
   "outputs": [],
   "source": [
    "df_obitos = pd.read_csv('dados/casos_obitos_doencas_preexistentes.csv', encoding ='utf8', delimiter=\";\")\n",
    "df_municipios = pd.read_csv('dados/Codigo_Nome_Municipios.txt', encoding ='ANSI', sep=';')\n",
    "df_coordenadas = pd.read_csv('dados/Sedes_Coordenadas_Municipios.csv', encoding ='utf8', delimiter=\";\")"
   ]
  },
  {
   "cell_type": "markdown",
   "id": "460e9a31-9775-4df2-9e0e-5a3a7bb5b081",
   "metadata": {},
   "source": [
    "## 2.1 - Ver os dataframes"
   ]
  },
  {
   "cell_type": "code",
   "execution_count": 4,
   "id": "82ef9c2f-7568-4f22-b1e2-b23c95edbccd",
   "metadata": {},
   "outputs": [
    {
     "data": {
      "text/html": [
       "<div>\n",
       "<style scoped>\n",
       "    .dataframe tbody tr th:only-of-type {\n",
       "        vertical-align: middle;\n",
       "    }\n",
       "\n",
       "    .dataframe tbody tr th {\n",
       "        vertical-align: top;\n",
       "    }\n",
       "\n",
       "    .dataframe thead th {\n",
       "        text-align: right;\n",
       "    }\n",
       "</style>\n",
       "<table border=\"1\" class=\"dataframe\">\n",
       "  <thead>\n",
       "    <tr style=\"text-align: right;\">\n",
       "      <th></th>\n",
       "      <th>nome_munic</th>\n",
       "      <th>codigo_ibge</th>\n",
       "      <th>idade</th>\n",
       "      <th>cs_sexo</th>\n",
       "      <th>diagnostico_covid19</th>\n",
       "      <th>data_inicio_sintomas</th>\n",
       "      <th>obito</th>\n",
       "      <th>asma</th>\n",
       "      <th>cardiopatia</th>\n",
       "      <th>diabetes</th>\n",
       "      <th>doenca_hematologica</th>\n",
       "      <th>doenca_hepatica</th>\n",
       "      <th>doenca_neurologica</th>\n",
       "      <th>doenca_renal</th>\n",
       "      <th>imunodepressao</th>\n",
       "      <th>obesidade</th>\n",
       "      <th>outros_fatores_de_risco</th>\n",
       "      <th>pneumopatia</th>\n",
       "      <th>puerpera</th>\n",
       "      <th>sindrome_de_down</th>\n",
       "    </tr>\n",
       "  </thead>\n",
       "  <tbody>\n",
       "    <tr>\n",
       "      <th>0</th>\n",
       "      <td>São Paulo</td>\n",
       "      <td>3550308</td>\n",
       "      <td>45.0</td>\n",
       "      <td>MASCULINO</td>\n",
       "      <td>CONFIRMADO</td>\n",
       "      <td>2021-03-18T00:00:00Z</td>\n",
       "      <td>0</td>\n",
       "      <td>IGNORADO</td>\n",
       "      <td>IGNORADO</td>\n",
       "      <td>IGNORADO</td>\n",
       "      <td>IGNORADO</td>\n",
       "      <td>IGNORADO</td>\n",
       "      <td>IGNORADO</td>\n",
       "      <td>IGNORADO</td>\n",
       "      <td>IGNORADO</td>\n",
       "      <td>IGNORADO</td>\n",
       "      <td>IGNORADO</td>\n",
       "      <td>IGNORADO</td>\n",
       "      <td>IGNORADO</td>\n",
       "      <td>IGNORADO</td>\n",
       "    </tr>\n",
       "    <tr>\n",
       "      <th>1</th>\n",
       "      <td>São Paulo</td>\n",
       "      <td>3550308</td>\n",
       "      <td>39.0</td>\n",
       "      <td>MASCULINO</td>\n",
       "      <td>CONFIRMADO</td>\n",
       "      <td>2021-07-07T00:00:00Z</td>\n",
       "      <td>0</td>\n",
       "      <td>IGNORADO</td>\n",
       "      <td>IGNORADO</td>\n",
       "      <td>IGNORADO</td>\n",
       "      <td>IGNORADO</td>\n",
       "      <td>IGNORADO</td>\n",
       "      <td>IGNORADO</td>\n",
       "      <td>IGNORADO</td>\n",
       "      <td>IGNORADO</td>\n",
       "      <td>IGNORADO</td>\n",
       "      <td>IGNORADO</td>\n",
       "      <td>IGNORADO</td>\n",
       "      <td>IGNORADO</td>\n",
       "      <td>IGNORADO</td>\n",
       "    </tr>\n",
       "    <tr>\n",
       "      <th>2</th>\n",
       "      <td>São Paulo</td>\n",
       "      <td>3550308</td>\n",
       "      <td>59.0</td>\n",
       "      <td>MASCULINO</td>\n",
       "      <td>CONFIRMADO</td>\n",
       "      <td>2021-01-20T00:00:00Z</td>\n",
       "      <td>0</td>\n",
       "      <td>IGNORADO</td>\n",
       "      <td>IGNORADO</td>\n",
       "      <td>IGNORADO</td>\n",
       "      <td>IGNORADO</td>\n",
       "      <td>IGNORADO</td>\n",
       "      <td>IGNORADO</td>\n",
       "      <td>IGNORADO</td>\n",
       "      <td>IGNORADO</td>\n",
       "      <td>IGNORADO</td>\n",
       "      <td>IGNORADO</td>\n",
       "      <td>IGNORADO</td>\n",
       "      <td>IGNORADO</td>\n",
       "      <td>IGNORADO</td>\n",
       "    </tr>\n",
       "  </tbody>\n",
       "</table>\n",
       "</div>"
      ],
      "text/plain": [
       "  nome_munic  codigo_ibge  idade    cs_sexo diagnostico_covid19  \\\n",
       "0  São Paulo      3550308   45.0  MASCULINO          CONFIRMADO   \n",
       "1  São Paulo      3550308   39.0  MASCULINO          CONFIRMADO   \n",
       "2  São Paulo      3550308   59.0  MASCULINO          CONFIRMADO   \n",
       "\n",
       "   data_inicio_sintomas  obito      asma cardiopatia  diabetes  \\\n",
       "0  2021-03-18T00:00:00Z      0  IGNORADO    IGNORADO  IGNORADO   \n",
       "1  2021-07-07T00:00:00Z      0  IGNORADO    IGNORADO  IGNORADO   \n",
       "2  2021-01-20T00:00:00Z      0  IGNORADO    IGNORADO  IGNORADO   \n",
       "\n",
       "  doenca_hematologica doenca_hepatica doenca_neurologica doenca_renal  \\\n",
       "0            IGNORADO        IGNORADO           IGNORADO     IGNORADO   \n",
       "1            IGNORADO        IGNORADO           IGNORADO     IGNORADO   \n",
       "2            IGNORADO        IGNORADO           IGNORADO     IGNORADO   \n",
       "\n",
       "  imunodepressao obesidade outros_fatores_de_risco pneumopatia  puerpera  \\\n",
       "0       IGNORADO  IGNORADO                IGNORADO    IGNORADO  IGNORADO   \n",
       "1       IGNORADO  IGNORADO                IGNORADO    IGNORADO  IGNORADO   \n",
       "2       IGNORADO  IGNORADO                IGNORADO    IGNORADO  IGNORADO   \n",
       "\n",
       "  sindrome_de_down  \n",
       "0         IGNORADO  \n",
       "1         IGNORADO  \n",
       "2         IGNORADO  "
      ]
     },
     "execution_count": 4,
     "metadata": {},
     "output_type": "execute_result"
    }
   ],
   "source": [
    "df_obitos.head(3)"
   ]
  },
  {
   "cell_type": "code",
   "execution_count": 5,
   "id": "21237102-3912-45d5-bf09-d0ec87d0857e",
   "metadata": {},
   "outputs": [
    {
     "data": {
      "text/html": [
       "<div>\n",
       "<style scoped>\n",
       "    .dataframe tbody tr th:only-of-type {\n",
       "        vertical-align: middle;\n",
       "    }\n",
       "\n",
       "    .dataframe tbody tr th {\n",
       "        vertical-align: top;\n",
       "    }\n",
       "\n",
       "    .dataframe thead th {\n",
       "        text-align: right;\n",
       "    }\n",
       "</style>\n",
       "<table border=\"1\" class=\"dataframe\">\n",
       "  <thead>\n",
       "    <tr style=\"text-align: right;\">\n",
       "      <th></th>\n",
       "      <th>CODIGO MUNICIPIO</th>\n",
       "      <th>UF</th>\n",
       "      <th>NOME MUNICIPIO</th>\n",
       "    </tr>\n",
       "  </thead>\n",
       "  <tbody>\n",
       "    <tr>\n",
       "      <th>0</th>\n",
       "      <td>110001</td>\n",
       "      <td>RO</td>\n",
       "      <td>Alta Floresta d`Oeste</td>\n",
       "    </tr>\n",
       "    <tr>\n",
       "      <th>1</th>\n",
       "      <td>110002</td>\n",
       "      <td>RO</td>\n",
       "      <td>Ariquemes</td>\n",
       "    </tr>\n",
       "    <tr>\n",
       "      <th>2</th>\n",
       "      <td>110003</td>\n",
       "      <td>RO</td>\n",
       "      <td>Cabixi</td>\n",
       "    </tr>\n",
       "  </tbody>\n",
       "</table>\n",
       "</div>"
      ],
      "text/plain": [
       "   CODIGO MUNICIPIO  UF         NOME MUNICIPIO\n",
       "0            110001  RO  Alta Floresta d`Oeste\n",
       "1            110002  RO              Ariquemes\n",
       "2            110003  RO                 Cabixi"
      ]
     },
     "execution_count": 5,
     "metadata": {},
     "output_type": "execute_result"
    }
   ],
   "source": [
    "df_municipios.head(3)"
   ]
  },
  {
   "cell_type": "code",
   "execution_count": 6,
   "id": "f2fade33-b2a4-475e-b4fb-7a3bb5329f82",
   "metadata": {},
   "outputs": [
    {
     "data": {
      "text/html": [
       "<div>\n",
       "<style scoped>\n",
       "    .dataframe tbody tr th:only-of-type {\n",
       "        vertical-align: middle;\n",
       "    }\n",
       "\n",
       "    .dataframe tbody tr th {\n",
       "        vertical-align: top;\n",
       "    }\n",
       "\n",
       "    .dataframe thead th {\n",
       "        text-align: right;\n",
       "    }\n",
       "</style>\n",
       "<table border=\"1\" class=\"dataframe\">\n",
       "  <thead>\n",
       "    <tr style=\"text-align: right;\">\n",
       "      <th></th>\n",
       "      <th>CODIGO MUNICIPIO</th>\n",
       "      <th>LATITUDE</th>\n",
       "      <th>LONGITUDE</th>\n",
       "    </tr>\n",
       "  </thead>\n",
       "  <tbody>\n",
       "    <tr>\n",
       "      <th>0</th>\n",
       "      <td>520005</td>\n",
       "      <td>-16.75</td>\n",
       "      <td>-49.43</td>\n",
       "    </tr>\n",
       "    <tr>\n",
       "      <th>1</th>\n",
       "      <td>310010</td>\n",
       "      <td>-18.48</td>\n",
       "      <td>-47.40</td>\n",
       "    </tr>\n",
       "    <tr>\n",
       "      <th>2</th>\n",
       "      <td>520010</td>\n",
       "      <td>-16.20</td>\n",
       "      <td>-48.70</td>\n",
       "    </tr>\n",
       "  </tbody>\n",
       "</table>\n",
       "</div>"
      ],
      "text/plain": [
       "   CODIGO MUNICIPIO  LATITUDE  LONGITUDE\n",
       "0            520005    -16.75     -49.43\n",
       "1            310010    -18.48     -47.40\n",
       "2            520010    -16.20     -48.70"
      ]
     },
     "execution_count": 6,
     "metadata": {},
     "output_type": "execute_result"
    }
   ],
   "source": [
    "df_coordenadas.head(3)"
   ]
  },
  {
   "cell_type": "markdown",
   "id": "f71e73c2-7afc-4446-86c9-37420807df90",
   "metadata": {},
   "source": [
    "# 3. Limpeza de dados "
   ]
  },
  {
   "cell_type": "code",
   "execution_count": 7,
   "id": "b803a743-50de-4d43-be8e-5809b43c4e1b",
   "metadata": {},
   "outputs": [
    {
     "data": {
      "text/html": [
       "<div>\n",
       "<style scoped>\n",
       "    .dataframe tbody tr th:only-of-type {\n",
       "        vertical-align: middle;\n",
       "    }\n",
       "\n",
       "    .dataframe tbody tr th {\n",
       "        vertical-align: top;\n",
       "    }\n",
       "\n",
       "    .dataframe thead th {\n",
       "        text-align: right;\n",
       "    }\n",
       "</style>\n",
       "<table border=\"1\" class=\"dataframe\">\n",
       "  <thead>\n",
       "    <tr style=\"text-align: right;\">\n",
       "      <th></th>\n",
       "      <th>count</th>\n",
       "      <th>mean</th>\n",
       "      <th>std</th>\n",
       "      <th>min</th>\n",
       "      <th>25%</th>\n",
       "      <th>50%</th>\n",
       "      <th>75%</th>\n",
       "      <th>max</th>\n",
       "    </tr>\n",
       "  </thead>\n",
       "  <tbody>\n",
       "    <tr>\n",
       "      <th>codigo_ibge</th>\n",
       "      <td>4412182.0</td>\n",
       "      <td>3.534491e+06</td>\n",
       "      <td>17281.778729</td>\n",
       "      <td>3500105.0</td>\n",
       "      <td>3518800.0</td>\n",
       "      <td>3540804.0</td>\n",
       "      <td>3550308.0</td>\n",
       "      <td>3599999.0</td>\n",
       "    </tr>\n",
       "    <tr>\n",
       "      <th>idade</th>\n",
       "      <td>4391965.0</td>\n",
       "      <td>4.093999e+01</td>\n",
       "      <td>17.637483</td>\n",
       "      <td>0.0</td>\n",
       "      <td>28.0</td>\n",
       "      <td>40.0</td>\n",
       "      <td>53.0</td>\n",
       "      <td>136.0</td>\n",
       "    </tr>\n",
       "    <tr>\n",
       "      <th>obito</th>\n",
       "      <td>4412182.0</td>\n",
       "      <td>3.456702e-02</td>\n",
       "      <td>0.182680</td>\n",
       "      <td>0.0</td>\n",
       "      <td>0.0</td>\n",
       "      <td>0.0</td>\n",
       "      <td>0.0</td>\n",
       "      <td>1.0</td>\n",
       "    </tr>\n",
       "  </tbody>\n",
       "</table>\n",
       "</div>"
      ],
      "text/plain": [
       "                 count          mean           std        min        25%  \\\n",
       "codigo_ibge  4412182.0  3.534491e+06  17281.778729  3500105.0  3518800.0   \n",
       "idade        4391965.0  4.093999e+01     17.637483        0.0       28.0   \n",
       "obito        4412182.0  3.456702e-02      0.182680        0.0        0.0   \n",
       "\n",
       "                   50%        75%        max  \n",
       "codigo_ibge  3540804.0  3550308.0  3599999.0  \n",
       "idade             40.0       53.0      136.0  \n",
       "obito              0.0        0.0        1.0  "
      ]
     },
     "execution_count": 7,
     "metadata": {},
     "output_type": "execute_result"
    }
   ],
   "source": [
    "df_obitos.describe().T"
   ]
  },
  {
   "cell_type": "markdown",
   "id": "4dc19c0a-e1be-452b-bb9d-6a77e2776872",
   "metadata": {
    "id": "THTqWdQt8sKT"
   },
   "source": [
    "Analizando as tabelas acima não parece haver nenhuma incosistência significativa no DataFrame. \n",
    "\n",
    "A unica variável que não está totalmente preenchida é a variavel \"Income\"\n",
    "As colunas 'Z_CostContact', 'Z_Revenue' são constantes "
   ]
  },
  {
   "cell_type": "markdown",
   "id": "430b831b-9f9c-4331-a99b-55b91d8448c3",
   "metadata": {
    "id": "5UWBNg0Y8sKT"
   },
   "source": [
    "## 3.1 - Linhas duplicada, colunas duplicadas e colunas constantes"
   ]
  },
  {
   "cell_type": "code",
   "execution_count": 8,
   "id": "fcc7aeff-be47-44df-a533-dd55885394a4",
   "metadata": {
    "id": "K-Dd0AZQ8sKT",
    "outputId": "d164d796-910f-47b4-f8ff-a39771f6f76e"
   },
   "outputs": [
    {
     "name": "stdout",
     "output_type": "stream",
     "text": [
      "Existem 1404170 linhas duplicadas\n"
     ]
    }
   ],
   "source": [
    "linhas_duplicadas(df_obitos)"
   ]
  },
  {
   "cell_type": "markdown",
   "id": "399de9e6-1a30-479d-a9cd-19560b0fbc1f",
   "metadata": {},
   "source": [
    "Como não existe idenficação de pacientes, é esperado que o número de duplicados seja alto"
   ]
  },
  {
   "cell_type": "code",
   "execution_count": 9,
   "id": "86e232ae-230d-4069-b27e-d8cc5341a71a",
   "metadata": {},
   "outputs": [
    {
     "name": "stdout",
     "output_type": "stream",
     "text": [
      "Não há linhas duplicadas no conjunto de dados.\n"
     ]
    }
   ],
   "source": [
    "linhas_duplicadas(df_coordenadas)"
   ]
  },
  {
   "cell_type": "code",
   "execution_count": 10,
   "id": "59bcbd6a-9d2b-4ddb-ab37-548b03eb47dc",
   "metadata": {},
   "outputs": [
    {
     "name": "stdout",
     "output_type": "stream",
     "text": [
      "Não há linhas duplicadas no conjunto de dados.\n"
     ]
    }
   ],
   "source": [
    "linhas_duplicadas(df_municipios)"
   ]
  },
  {
   "cell_type": "code",
   "execution_count": null,
   "id": "50d8e8e4-ab6f-4b22-b6e7-4afafdb425b7",
   "metadata": {},
   "outputs": [],
   "source": []
  },
  {
   "cell_type": "code",
   "execution_count": null,
   "id": "fc944b37-7e94-4070-bbbb-db6ce0c15ddb",
   "metadata": {},
   "outputs": [],
   "source": [
    "colunas_duplicadas(df_obitos)"
   ]
  },
  {
   "cell_type": "code",
   "execution_count": null,
   "id": "c9c10837-1ad5-4f99-a79b-0d1bbc979be9",
   "metadata": {},
   "outputs": [],
   "source": [
    "colunas_duplicadas(df_municipios)"
   ]
  },
  {
   "cell_type": "code",
   "execution_count": null,
   "id": "15c54ac4-d4e2-4f38-9617-d2864699642d",
   "metadata": {},
   "outputs": [],
   "source": [
    "colunas_duplicadas(df_coordenadas)"
   ]
  },
  {
   "cell_type": "code",
   "execution_count": null,
   "id": "614c3e6c-aa3d-4f8a-a5fc-8f8a83dc7978",
   "metadata": {},
   "outputs": [],
   "source": []
  },
  {
   "cell_type": "code",
   "execution_count": null,
   "id": "784d00ac-6d6f-4cb6-ae0a-fa045eb675b2",
   "metadata": {
    "id": "qcdDXnz38sKV"
   },
   "outputs": [],
   "source": [
    "colunas_constantes(df_obitos)"
   ]
  },
  {
   "cell_type": "code",
   "execution_count": null,
   "id": "2c4cefbb-b4a6-4f4a-ad2b-a0ed9bd98f5f",
   "metadata": {},
   "outputs": [],
   "source": [
    "colunas_constantes(df_municipios)"
   ]
  },
  {
   "cell_type": "code",
   "execution_count": null,
   "id": "99be99a8-aba4-49b7-aeaf-4cf3195c375c",
   "metadata": {},
   "outputs": [],
   "source": [
    "colunas_constantes(df_coordenadas)"
   ]
  },
  {
   "cell_type": "code",
   "execution_count": null,
   "id": "dc311f36-0c90-4646-9073-a937dc097a0f",
   "metadata": {},
   "outputs": [],
   "source": []
  },
  {
   "cell_type": "code",
   "execution_count": 12,
   "id": "e3e0138b-14d8-4ea2-aabc-ed12b44a8dc4",
   "metadata": {},
   "outputs": [],
   "source": [
    "def identify_cols_low_variance(df, low_variance_threshold):\n",
    "    '''\n",
    "    recebe um df\n",
    "    retorna uma lista de colunas com baixa variancia\n",
    "    -\n",
    "    df - > dataframe a ser analisado\n",
    "    low_variance_threshold -> 0.001 (indicado)\n",
    "    '''\n",
    "    # Inicializa scaler\n",
    "    scaler = MinMaxScaler()\n",
    "    # Seleciona apenas variáveis numéricas\n",
    "    df_numericas = df.select_dtypes(exclude=['object'])\n",
    "    # Faz scaling das variáveis\n",
    "    df_scaled = pd.DataFrame(\n",
    "        scaler.fit_transform(df_numericas),\n",
    "        columns=df_numericas.columns\n",
    "    )\n",
    "    \n",
    "    colunas_baixa_variancia = []\n",
    "    for col in df_scaled.columns:\n",
    "        if df_scaled[col].var() < low_variance_threshold:\n",
    "            colunas_baixa_variancia.append(col)\n",
    "            \n",
    "    return colunas_baixa_variancia"
   ]
  },
  {
   "cell_type": "code",
   "execution_count": 13,
   "id": "939cab23-a13a-4f57-83ae-60fb5b9ed8f9",
   "metadata": {
    "id": "z-39OH0e8sKW",
    "outputId": "3f9fa5a2-d300-4d9f-d603-1655396ab084"
   },
   "outputs": [
    {
     "name": "stdout",
     "output_type": "stream",
     "text": [
      "Não há colunas com baixa variância no conjunto de dados.\n"
     ]
    }
   ],
   "source": [
    "colunas_baixa_variancia = identify_cols_low_variance(df_obitos, low_variance_threshold=0.001)\n",
    "\n",
    "if len(colunas_baixa_variancia) > 0:\n",
    "    print('Colunas com baixa variância:', colunas_baixa_variancia)\n",
    "    df_train.drop(colunas_baixa_variancia, axis=1, inplace=True)\n",
    "    \n",
    "else:\n",
    "    print('Não há colunas com baixa variância no conjunto de dados.')"
   ]
  },
  {
   "cell_type": "markdown",
   "id": "73e01144-70fb-45d9-a0a4-d1646894471c",
   "metadata": {},
   "source": [
    "### tratamento de nulos"
   ]
  },
  {
   "cell_type": "code",
   "execution_count": 14,
   "id": "88ebf390-5c8a-4cd5-bddb-9d904f5fb3e1",
   "metadata": {},
   "outputs": [],
   "source": [
    "def checa_nulos(df):\n",
    "    # Checando colunas com nulos\n",
    "    coluna_nulos = pd.Series(df.isnull().sum(), name='nulos')\n",
    "\n",
    "    coluna_nulosperc = pd.Series(100 * (df.isnull().sum()/ df.shape[0]), name='%')\n",
    "\n",
    "    df_nulos = pd.merge(coluna_nulos, coluna_nulosperc, right_index = True,\n",
    "                   left_index = True).round(2)\n",
    "    return df_nulos"
   ]
  },
  {
   "cell_type": "code",
   "execution_count": 16,
   "id": "067204ac-177f-4ac6-bc83-86288bee00c7",
   "metadata": {},
   "outputs": [
    {
     "data": {
      "text/html": [
       "<div>\n",
       "<style scoped>\n",
       "    .dataframe tbody tr th:only-of-type {\n",
       "        vertical-align: middle;\n",
       "    }\n",
       "\n",
       "    .dataframe tbody tr th {\n",
       "        vertical-align: top;\n",
       "    }\n",
       "\n",
       "    .dataframe thead th {\n",
       "        text-align: right;\n",
       "    }\n",
       "</style>\n",
       "<table border=\"1\" class=\"dataframe\">\n",
       "  <thead>\n",
       "    <tr style=\"text-align: right;\">\n",
       "      <th></th>\n",
       "      <th>nulos</th>\n",
       "      <th>%</th>\n",
       "    </tr>\n",
       "  </thead>\n",
       "  <tbody>\n",
       "    <tr>\n",
       "      <th>nome_munic</th>\n",
       "      <td>0</td>\n",
       "      <td>0.00</td>\n",
       "    </tr>\n",
       "    <tr>\n",
       "      <th>codigo_ibge</th>\n",
       "      <td>0</td>\n",
       "      <td>0.00</td>\n",
       "    </tr>\n",
       "    <tr>\n",
       "      <th>idade</th>\n",
       "      <td>20217</td>\n",
       "      <td>0.46</td>\n",
       "    </tr>\n",
       "    <tr>\n",
       "      <th>cs_sexo</th>\n",
       "      <td>1</td>\n",
       "      <td>0.00</td>\n",
       "    </tr>\n",
       "    <tr>\n",
       "      <th>diagnostico_covid19</th>\n",
       "      <td>0</td>\n",
       "      <td>0.00</td>\n",
       "    </tr>\n",
       "    <tr>\n",
       "      <th>data_inicio_sintomas</th>\n",
       "      <td>44985</td>\n",
       "      <td>1.02</td>\n",
       "    </tr>\n",
       "    <tr>\n",
       "      <th>obito</th>\n",
       "      <td>0</td>\n",
       "      <td>0.00</td>\n",
       "    </tr>\n",
       "    <tr>\n",
       "      <th>asma</th>\n",
       "      <td>0</td>\n",
       "      <td>0.00</td>\n",
       "    </tr>\n",
       "    <tr>\n",
       "      <th>cardiopatia</th>\n",
       "      <td>0</td>\n",
       "      <td>0.00</td>\n",
       "    </tr>\n",
       "    <tr>\n",
       "      <th>diabetes</th>\n",
       "      <td>0</td>\n",
       "      <td>0.00</td>\n",
       "    </tr>\n",
       "    <tr>\n",
       "      <th>doenca_hematologica</th>\n",
       "      <td>0</td>\n",
       "      <td>0.00</td>\n",
       "    </tr>\n",
       "    <tr>\n",
       "      <th>doenca_hepatica</th>\n",
       "      <td>0</td>\n",
       "      <td>0.00</td>\n",
       "    </tr>\n",
       "    <tr>\n",
       "      <th>doenca_neurologica</th>\n",
       "      <td>0</td>\n",
       "      <td>0.00</td>\n",
       "    </tr>\n",
       "    <tr>\n",
       "      <th>doenca_renal</th>\n",
       "      <td>0</td>\n",
       "      <td>0.00</td>\n",
       "    </tr>\n",
       "    <tr>\n",
       "      <th>imunodepressao</th>\n",
       "      <td>0</td>\n",
       "      <td>0.00</td>\n",
       "    </tr>\n",
       "    <tr>\n",
       "      <th>obesidade</th>\n",
       "      <td>0</td>\n",
       "      <td>0.00</td>\n",
       "    </tr>\n",
       "    <tr>\n",
       "      <th>outros_fatores_de_risco</th>\n",
       "      <td>0</td>\n",
       "      <td>0.00</td>\n",
       "    </tr>\n",
       "    <tr>\n",
       "      <th>pneumopatia</th>\n",
       "      <td>0</td>\n",
       "      <td>0.00</td>\n",
       "    </tr>\n",
       "    <tr>\n",
       "      <th>puerpera</th>\n",
       "      <td>0</td>\n",
       "      <td>0.00</td>\n",
       "    </tr>\n",
       "    <tr>\n",
       "      <th>sindrome_de_down</th>\n",
       "      <td>0</td>\n",
       "      <td>0.00</td>\n",
       "    </tr>\n",
       "  </tbody>\n",
       "</table>\n",
       "</div>"
      ],
      "text/plain": [
       "                         nulos     %\n",
       "nome_munic                   0  0.00\n",
       "codigo_ibge                  0  0.00\n",
       "idade                    20217  0.46\n",
       "cs_sexo                      1  0.00\n",
       "diagnostico_covid19          0  0.00\n",
       "data_inicio_sintomas     44985  1.02\n",
       "obito                        0  0.00\n",
       "asma                         0  0.00\n",
       "cardiopatia                  0  0.00\n",
       "diabetes                     0  0.00\n",
       "doenca_hematologica          0  0.00\n",
       "doenca_hepatica              0  0.00\n",
       "doenca_neurologica           0  0.00\n",
       "doenca_renal                 0  0.00\n",
       "imunodepressao               0  0.00\n",
       "obesidade                    0  0.00\n",
       "outros_fatores_de_risco      0  0.00\n",
       "pneumopatia                  0  0.00\n",
       "puerpera                     0  0.00\n",
       "sindrome_de_down             0  0.00"
      ]
     },
     "execution_count": 16,
     "metadata": {},
     "output_type": "execute_result"
    }
   ],
   "source": [
    "checa_nulos(df_obitos)"
   ]
  },
  {
   "cell_type": "code",
   "execution_count": 17,
   "id": "e7e0c9f4-decb-4352-aca6-eb411623f66d",
   "metadata": {},
   "outputs": [
    {
     "data": {
      "image/png": "[encoded data removed]",
      "text/plain": [
       "<Figure size 1800x720 with 2 Axes>"
      ]
     },
     "metadata": {
      "needs_background": "light"
     },
     "output_type": "display_data"
    }
   ],
   "source": [
    "%config InlineBackend.figure_format = 'png'\n",
    "msno.matrix(df_obitos)\n",
    "plt.title(label ='Posição dos valores nulos',fontsize=40)\n",
    "plt.show()"
   ]
  },
  {
   "cell_type": "code",
   "execution_count": 18,
   "id": "670d2785-566d-4906-af42-4d81c6a26e35",
   "metadata": {},
   "outputs": [
    {
     "data": {
      "text/html": [
       "<div>\n",
       "<style scoped>\n",
       "    .dataframe tbody tr th:only-of-type {\n",
       "        vertical-align: middle;\n",
       "    }\n",
       "\n",
       "    .dataframe tbody tr th {\n",
       "        vertical-align: top;\n",
       "    }\n",
       "\n",
       "    .dataframe thead th {\n",
       "        text-align: right;\n",
       "    }\n",
       "</style>\n",
       "<table border=\"1\" class=\"dataframe\">\n",
       "  <thead>\n",
       "    <tr style=\"text-align: right;\">\n",
       "      <th></th>\n",
       "      <th>nulos</th>\n",
       "      <th>%</th>\n",
       "    </tr>\n",
       "  </thead>\n",
       "  <tbody>\n",
       "    <tr>\n",
       "      <th>CODIGO MUNICIPIO</th>\n",
       "      <td>0</td>\n",
       "      <td>0.0</td>\n",
       "    </tr>\n",
       "    <tr>\n",
       "      <th>UF</th>\n",
       "      <td>0</td>\n",
       "      <td>0.0</td>\n",
       "    </tr>\n",
       "    <tr>\n",
       "      <th>NOME MUNICIPIO</th>\n",
       "      <td>0</td>\n",
       "      <td>0.0</td>\n",
       "    </tr>\n",
       "  </tbody>\n",
       "</table>\n",
       "</div>"
      ],
      "text/plain": [
       "                  nulos    %\n",
       "CODIGO MUNICIPIO      0  0.0\n",
       "UF                    0  0.0\n",
       "NOME MUNICIPIO        0  0.0"
      ]
     },
     "execution_count": 18,
     "metadata": {},
     "output_type": "execute_result"
    }
   ],
   "source": [
    "checa_nulos(df_municipios)"
   ]
  },
  {
   "cell_type": "code",
   "execution_count": 19,
   "id": "a74c32bb-8efa-420c-b54c-693500f6b161",
   "metadata": {},
   "outputs": [
    {
     "data": {
      "text/html": [
       "<div>\n",
       "<style scoped>\n",
       "    .dataframe tbody tr th:only-of-type {\n",
       "        vertical-align: middle;\n",
       "    }\n",
       "\n",
       "    .dataframe tbody tr th {\n",
       "        vertical-align: top;\n",
       "    }\n",
       "\n",
       "    .dataframe thead th {\n",
       "        text-align: right;\n",
       "    }\n",
       "</style>\n",
       "<table border=\"1\" class=\"dataframe\">\n",
       "  <thead>\n",
       "    <tr style=\"text-align: right;\">\n",
       "      <th></th>\n",
       "      <th>nulos</th>\n",
       "      <th>%</th>\n",
       "    </tr>\n",
       "  </thead>\n",
       "  <tbody>\n",
       "    <tr>\n",
       "      <th>CODIGO MUNICIPIO</th>\n",
       "      <td>0</td>\n",
       "      <td>0.0</td>\n",
       "    </tr>\n",
       "    <tr>\n",
       "      <th>LATITUDE</th>\n",
       "      <td>0</td>\n",
       "      <td>0.0</td>\n",
       "    </tr>\n",
       "    <tr>\n",
       "      <th>LONGITUDE</th>\n",
       "      <td>0</td>\n",
       "      <td>0.0</td>\n",
       "    </tr>\n",
       "  </tbody>\n",
       "</table>\n",
       "</div>"
      ],
      "text/plain": [
       "                  nulos    %\n",
       "CODIGO MUNICIPIO      0  0.0\n",
       "LATITUDE              0  0.0\n",
       "LONGITUDE             0  0.0"
      ]
     },
     "execution_count": 19,
     "metadata": {},
     "output_type": "execute_result"
    }
   ],
   "source": [
    "checa_nulos(df_coordenadas)"
   ]
  },
  {
   "cell_type": "markdown",
   "id": "dad6edbd-b2b7-4ca3-9c60-266953f179fb",
   "metadata": {},
   "source": [
    "Apenas as colunas \"idade\" e \"data_inicio_sintomas\" e 'sexo' da tabela df_obito possuem nulos e removeremos os dados pois queremos saber a idade das pessoas que contrairam covid dentro de um certo periodo para determinar o risco de suas comorbidades"
   ]
  },
  {
   "cell_type": "code",
   "execution_count": 20,
   "id": "124a368b-0603-4ba4-b5ff-00a6d551e47e",
   "metadata": {},
   "outputs": [],
   "source": [
    "df_nonan = df_obitos.dropna(subset = ['idade','data_inicio_sintomas','cs_sexo'])"
   ]
  },
  {
   "cell_type": "markdown",
   "id": "e655e1ee-8a0d-448e-8e69-08fb4fd0b6b2",
   "metadata": {},
   "source": [
    "## 3.2 - Outliers"
   ]
  },
  {
   "cell_type": "markdown",
   "id": "16f71403-de5f-4c19-9087-7e3085584397",
   "metadata": {},
   "source": [
    "### 3.2.1 - Feature Idade \n",
    "\n",
    "Identificado outliers / erros de digitacao - 95 observacoes com idade acima de 110 anos."
   ]
  },
  {
   "cell_type": "code",
   "execution_count": 22,
   "id": "2181a447-685d-41aa-aec3-a64c7e4053b6",
   "metadata": {},
   "outputs": [
    {
     "data": {
      "image/png": "[encoded data removed]",
      "text/plain": [
       "<Figure size 1080x432 with 2 Axes>"
      ]
     },
     "metadata": {
      "needs_background": "light"
     },
     "output_type": "display_data"
    }
   ],
   "source": [
    "fig, ax = plt.subplots (1,2, figsize = (15,6))\n",
    "ax[0].set_title(f'Distribuicao de dados')\n",
    "ax[1].set_title(f'Distribuicao de dados')\n",
    "\n",
    "fig.suptitle (f'Casos confirmados por Idade', fontsize = 20, fontweight = 'bold', y =1)\n",
    "sns.histplot(data = df_nonan.idade,bins = 50, ax=ax[0])\n",
    "ax[0].grid(axis = 'y')\n",
    "\n",
    "\n",
    "ax = sns.boxplot(x=df_nonan[\"idade\"], ax=ax[1])\n",
    "# ax[1].set_title(f'Distribuicao de dados')\n",
    "plt.show()"
   ]
  },
  {
   "cell_type": "code",
   "execution_count": 23,
   "id": "8c8d4a4c-e348-4f19-bb97-838b11526063",
   "metadata": {},
   "outputs": [],
   "source": [
    "X_maior_100=pd.DataFrame(df_nonan.query('idade > 110'))"
   ]
  },
  {
   "cell_type": "code",
   "execution_count": 24,
   "id": "f85bcf81-dbf4-4e92-83fb-55126f037e2c",
   "metadata": {},
   "outputs": [
    {
     "data": {
      "image/png": "[encoded data removed]",
      "text/plain": [
       "<Figure size 432x288 with 1 Axes>"
      ]
     },
     "metadata": {
      "needs_background": "light"
     },
     "output_type": "display_data"
    }
   ],
   "source": [
    "fig, ax = plt.subplots ()\n",
    "sns.histplot(data = X_maior_100.idade,bins = 50)\n",
    "ax.grid(axis = 'y')\n",
    "\n",
    "# formatando a imagem\n",
    "ax.set_title('Casos Confirmados por Idade')\n",
    "ax.set_xlabel('Idades')\n",
    "ax.set_ylabel('Quantidade')\n",
    "plt.show()"
   ]
  },
  {
   "cell_type": "code",
   "execution_count": 25,
   "id": "2282b6c6-b488-4c74-82dc-6eca8e38a0b9",
   "metadata": {},
   "outputs": [
    {
     "name": "stdout",
     "output_type": "stream",
     "text": [
      "Temos ao todo,  93 observações com idade registradas acima de 110 anos\n"
     ]
    }
   ],
   "source": [
    "print('Temos ao todo, ', X_maior_100.shape[0],'observações com idade registradas acima de 110 anos')"
   ]
  },
  {
   "cell_type": "markdown",
   "id": "f21e89cc-992d-4a5c-94f8-6ae5e8551e7a",
   "metadata": {},
   "source": [
    "Tomada de decisão para para analise do DataSet foi de retirar as observações e considerar os registros como erros."
   ]
  },
  {
   "cell_type": "code",
   "execution_count": 26,
   "id": "e836412b-274c-46c0-9733-f3f4fa0f89fd",
   "metadata": {},
   "outputs": [],
   "source": [
    "# removendo entradas de pessoas com mais de 110 anos \n",
    "remove = df_nonan.loc[(df_nonan['idade'] > 110)]\n",
    "df_nonan = df_nonan.drop(remove.index)"
   ]
  },
  {
   "cell_type": "markdown",
   "id": "b92a0ef4-031f-465b-a5ce-6f91c87d34f7",
   "metadata": {
    "tags": []
   },
   "source": [
    "### 3.2.2 - Feature cs_sexo "
   ]
  },
  {
   "cell_type": "code",
   "execution_count": 27,
   "id": "79dcf3f5-5bb1-415f-b527-28d8858bab41",
   "metadata": {},
   "outputs": [
    {
     "data": {
      "text/plain": [
       "['MASCULINO', 'FEMININO', 'INDEFINIDO', 'IGNORADO']"
      ]
     },
     "execution_count": 27,
     "metadata": {},
     "output_type": "execute_result"
    }
   ],
   "source": [
    "list(df_nonan['cs_sexo'].unique())"
   ]
  },
  {
   "cell_type": "code",
   "execution_count": 28,
   "id": "b70f95d7-85fc-4586-8cf1-f322ede0392e",
   "metadata": {},
   "outputs": [
    {
     "name": "stdout",
     "output_type": "stream",
     "text": [
      "Temos 864 linhas com cs_sexo INDEFINIDO ou IGNORADO\n"
     ]
    }
   ],
   "source": [
    "df_sexo = df_nonan.query('cs_sexo == \"INDEFINIDO\" or cs_sexo == \"IGNORADO\"')\n",
    "print(f'Temos {df_sexo.shape[0]} linhas com cs_sexo INDEFINIDO ou IGNORADO')"
   ]
  },
  {
   "cell_type": "raw",
   "id": "6f1626c4-3a61-4ccd-a189-5a0f3ec91d20",
   "metadata": {},
   "source": [
    "Analisando se temos alguma Puerpera com sexo \"INDEFINIDO\" ou \"IGNORADO\", poderiamos atribuir essas linhas com sexo  FEMININO"
   ]
  },
  {
   "cell_type": "code",
   "execution_count": 29,
   "id": "ae9821fb-1712-4dfe-ae13-966a3e74728e",
   "metadata": {},
   "outputs": [
    {
     "name": "stdout",
     "output_type": "stream",
     "text": [
      "Puerperas classificads como \"INDEFINIDO\" ou \"IGNORADO\": 0\n"
     ]
    }
   ],
   "source": [
    "df_Puerpera = df_obitos.loc[(df_obitos['puerpera'] == \"SIM\") & (df_obitos['cs_sexo'] == \"INDEFINIDO\") & (df_obitos['cs_sexo'] == \"IGNORADO\")]\n",
    "print(f'Puerperas classificads como \"INDEFINIDO\" ou \"IGNORADO\": {df_Puerpera.shape[0]}')"
   ]
  },
  {
   "cell_type": "markdown",
   "id": "51ef33ae-dc19-4df4-ad4c-93e5747427b4",
   "metadata": {},
   "source": [
    "Por conta da pequena quantidade de cs_sexo COMO \"INDEFINIDO\" ou \"IGNORADO\" decidimos remover essas linhas"
   ]
  },
  {
   "cell_type": "code",
   "execution_count": 30,
   "id": "ad54093f-038a-4aa1-a7a6-eee2a1b1d446",
   "metadata": {},
   "outputs": [],
   "source": [
    "df_nonan = df_nonan.drop(df_nonan[\n",
    "    (df_nonan.cs_sexo == \"INDEFINIDO\") | \n",
    "    (df_nonan.cs_sexo == \"IGNORADO\") ].index)"
   ]
  },
  {
   "cell_type": "code",
   "execution_count": 41,
   "id": "376ff407-87ae-497d-96aa-e3e45ec2e1a5",
   "metadata": {},
   "outputs": [
    {
     "name": "stdout",
     "output_type": "stream",
     "text": [
      "FEMININO     53.137789\n",
      "MASCULINO    46.862211\n",
      "Name: cs_sexo, dtype: float64\n"
     ]
    }
   ],
   "source": [
    "perc = pd.Series(df_nonan['cs_sexo']).value_counts()       \n",
    "print(( perc / len(df_nonan['cs_sexo']))*100) "
   ]
  },
  {
   "cell_type": "markdown",
   "id": "54e1c144-3f06-4757-94ea-4ce51da621db",
   "metadata": {},
   "source": [
    "A variavél sexo está equilibrada em relacao a populacao global que apresenta uma maior quantidade de mulheres em relacao a homens\n"
   ]
  },
  {
   "cell_type": "markdown",
   "id": "0ef3dc68-2a57-405f-8882-4e6eb96f7bca",
   "metadata": {},
   "source": [
    "## Analise da Feature Target - obito"
   ]
  },
  {
   "cell_type": "code",
   "execution_count": 33,
   "id": "65420928-c5f3-4d0e-a155-e6fa11d7615e",
   "metadata": {},
   "outputs": [
    {
     "data": {
      "text/plain": [
       "[0, 1]"
      ]
     },
     "execution_count": 33,
     "metadata": {},
     "output_type": "execute_result"
    }
   ],
   "source": [
    "list(df_nonan['obito'].unique())"
   ]
  },
  {
   "cell_type": "code",
   "execution_count": 45,
   "id": "6c6dcd8d-15f5-4f72-afa3-cedc6a1bd33c",
   "metadata": {},
   "outputs": [],
   "source": [
    "freq = df_nonan['obito'].value_counts()\n",
    "perc = 100 *(pd.Series(df_nonan['obito'], name='%').value_counts() / len(df_nonan['obito']))   "
   ]
  },
  {
   "cell_type": "code",
   "execution_count": 46,
   "id": "49426086-b9c4-4f15-9cdb-116e9e877eee",
   "metadata": {},
   "outputs": [
    {
     "data": {
      "text/html": [
       "<div>\n",
       "<style scoped>\n",
       "    .dataframe tbody tr th:only-of-type {\n",
       "        vertical-align: middle;\n",
       "    }\n",
       "\n",
       "    .dataframe tbody tr th {\n",
       "        vertical-align: top;\n",
       "    }\n",
       "\n",
       "    .dataframe thead th {\n",
       "        text-align: right;\n",
       "    }\n",
       "</style>\n",
       "<table border=\"1\" class=\"dataframe\">\n",
       "  <thead>\n",
       "    <tr style=\"text-align: right;\">\n",
       "      <th></th>\n",
       "      <th>obito</th>\n",
       "      <th>%</th>\n",
       "    </tr>\n",
       "  </thead>\n",
       "  <tbody>\n",
       "    <tr>\n",
       "      <th>0</th>\n",
       "      <td>4208562</td>\n",
       "      <td>96.5</td>\n",
       "    </tr>\n",
       "    <tr>\n",
       "      <th>1</th>\n",
       "      <td>152502</td>\n",
       "      <td>3.5</td>\n",
       "    </tr>\n",
       "  </tbody>\n",
       "</table>\n",
       "</div>"
      ],
      "text/plain": [
       "     obito     %\n",
       "0  4208562  96.5\n",
       "1   152502   3.5"
      ]
     },
     "execution_count": 46,
     "metadata": {},
     "output_type": "execute_result"
    }
   ],
   "source": [
    "obito = pd.merge(freq, perc, right_index = True,\n",
    "               left_index = True).round(2)\n",
    "obito"
   ]
  },
  {
   "cell_type": "code",
   "execution_count": 49,
   "id": "f6a6b841-5ec9-497c-b75e-45b3b8127764",
   "metadata": {},
   "outputs": [
    {
     "data": {
      "text/plain": [
       "9.458229576490298"
      ]
     },
     "execution_count": 49,
     "metadata": {},
     "output_type": "execute_result"
    }
   ],
   "source": [
    "100 *(df_obitos.shape[0]/46649132)"
   ]
  },
  {
   "cell_type": "markdown",
   "id": "293013ca-eb93-4614-ab08-58bb0c9f83a7",
   "metadata": {},
   "source": [
    "O grande Desequilibrio da variavel target pode ser entendido que apesar da alta taxa de contaminacao (10 % de toda a poulacao do estado de São Paulo foi contaminada até a data observada)[1] o virus da SARS-COV19 apresenta uma baixa taxa de letalidade.\n",
    "\n",
    "Do ponto de vista de modelagem esse desequilibrio pode ser prejudicial a modelagem"
   ]
  },
  {
   "cell_type": "markdown",
   "id": "eb18a298-c49f-4dce-a273-0486561c694e",
   "metadata": {},
   "source": [
    "# Exportando o dataframe limpo"
   ]
  },
  {
   "cell_type": "code",
   "execution_count": 52,
   "id": "5508e46b-9c29-4a48-afe6-147270f84523",
   "metadata": {},
   "outputs": [],
   "source": [
    "df_nonan.to_pickle('dados/df_nonan.pkl')"
   ]
  },
  {
   "cell_type": "markdown",
   "id": "da236012-bd17-487d-8436-fb277cdc0c29",
   "metadata": {},
   "source": [
    "# Referencias"
   ]
  },
  {
   "cell_type": "markdown",
   "id": "93d79adf-92e2-46e6-a623-e1760833bb5f",
   "metadata": {},
   "source": [
    "[1] Panorama Populaciona do Etado de São Paulo. IBGE. Disponível em: <https://cidades.ibge.gov.br/brasil/sp/panorama>. Acesso em: 10 de Fev. de 2022"
   ]
  },
  {
   "cell_type": "code",
   "execution_count": null,
   "id": "43a39ddf-1581-4d90-b406-55506bc46578",
   "metadata": {},
   "outputs": [],
   "source": []
  }
 ],
 "metadata": {
  "kernelspec": {
   "display_name": "Python 3",
   "language": "python",
   "name": "python3"
  },
  "language_info": {
   "codemirror_mode": {
    "name": "ipython",
    "version": 3
   },
   "file_extension": ".py",
   "mimetype": "text/x-python",
   "name": "python",
   "nbconvert_exporter": "python",
   "pygments_lexer": "ipython3",
   "version": "3.8.8"
  }
 },
 "nbformat": 4,
 "nbformat_minor": 5
}
