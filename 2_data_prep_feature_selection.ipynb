{
 "cells": [
  {
   "cell_type": "markdown",
   "id": "419d0e1a-7d96-4665-b517-f52adfcbf3bd",
   "metadata": {},
   "source": [
    "# 1 - Importar libs e carregar os DataFrames"
   ]
  },
  {
   "cell_type": "code",
   "execution_count": 1,
   "id": "a442a637-5513-421f-aae1-af0a9b8847a0",
   "metadata": {},
   "outputs": [],
   "source": [
    "from bibliotecas.data_prep import *"
   ]
  },
  {
   "cell_type": "code",
   "execution_count": 2,
   "id": "0ec224d3-cbd2-48d3-be7f-4b217debff53",
   "metadata": {},
   "outputs": [],
   "source": [
    "import seaborn as sns\n",
    "import numpy as np\n",
    "import pandas as pd\n",
    "import matplotlib.pyplot as plt\n",
    "\n",
    "%matplotlib inline\n",
    "\n",
    "# machine learning models\n",
    "from sklearn.linear_model import LogisticRegression\n",
    "from sklearn.neighbors import KNeighborsClassifier\n",
    "from sklearn.svm import SVC\n",
    "from sklearn.naive_bayes import GaussianNB\n",
    "from sklearn.tree import DecisionTreeClassifier\n",
    "\n",
    "# preprocessing and pipeline\n",
    "from sklearn.preprocessing import (StandardScaler,  # REESCALANDO FEATURES\n",
    "                                   MinMaxScaler,\n",
    "                                    OneHotEncoder,\n",
    "                                    OrdinalEncoder,  \n",
    "                                   RobustScaler, \n",
    "                                   LabelEncoder)\n",
    "from sklearn.pipeline import Pipeline # CRIANDO PIPELINES\n",
    "from sklearn import set_config\n",
    "\n",
    "import category_encoders as ce\n",
    "\n",
    "# feature selection\n",
    "from sklearn.feature_selection import SelectKBest, f_classif, chi2, RFE  # SELEÇÃO DE FEATURES\n",
    "from sklearn.ensemble import RandomForestClassifier\n",
    "\n",
    "# mode selection and metrics\n",
    "from sklearn.model_selection import (train_test_split,  # METRICAS\n",
    "                                     GridSearchCV,\n",
    "                                     KFold,\n",
    "                                     cross_val_score)\n",
    "from feature_engine.encoding import CountFrequencyEncoder\n",
    "from sklearn import metrics\n",
    "\n",
    "from sklearn.metrics import (accuracy_score, \n",
    "                             classification_report, \n",
    "                             precision_score, \n",
    "                             recall_score,\n",
    "                             confusion_matrix,\n",
    "                             roc_auc_score,\n",
    "                             roc_curve\n",
    "                            )\n",
    "\n",
    "from boruta import BorutaPy \n",
    "\n",
    "# warnings option\n",
    "import warnings\n",
    "warnings.filterwarnings('ignore')"
   ]
  },
  {
   "cell_type": "markdown",
   "id": "9510554a-ec89-47d2-b74a-12afa15469a3",
   "metadata": {
    "tags": []
   },
   "source": [
    "# 2 - Lendo Arquivos"
   ]
  },
  {
   "cell_type": "code",
   "execution_count": 3,
   "id": "4befbb0c-8204-47a9-b2c5-42aa2661e1ef",
   "metadata": {},
   "outputs": [],
   "source": [
    "df = pd.read_pickle('dados/cleaned/df_nonan.pkl')\n",
    "df_idh = pd.read_pickle('dados/cleaned/df_idh.pkl')\n",
    "df_populacao = pd.read_excel('dados/cleaned/pop_saopaulo.xlsx')"
   ]
  },
  {
   "cell_type": "markdown",
   "id": "96bb8c3b",
   "metadata": {},
   "source": [
    "# 3 - Associacao de Variaveis"
   ]
  },
  {
   "cell_type": "code",
   "execution_count": 4,
   "id": "0dda479d",
   "metadata": {},
   "outputs": [],
   "source": [
    "target = ['obito']\n",
    "cat_cols = ['cs_sexo','asma','cardiopatia','diabetes','doenca_hematologica','doenca_hepatica','doenca_neurologica','doenca_renal','imunodepressao','obesidade','outros_fatores_de_risco','pneumopatia','puerpera','sindrome_de_down']\n",
    "num_cols = ['idade']"
   ]
  },
  {
   "cell_type": "markdown",
   "id": "ca8c2a9f",
   "metadata": {},
   "source": [
    "## 3.1 - Variaveis numéricas"
   ]
  },
  {
   "cell_type": "code",
   "execution_count": 5,
   "id": "327635f7",
   "metadata": {},
   "outputs": [
    {
     "data": {
      "text/plain": [
       "idade    0.266945\n",
       "obito    1.000000\n",
       "Name: obito, dtype: float64"
      ]
     },
     "execution_count": 5,
     "metadata": {},
     "output_type": "execute_result"
    }
   ],
   "source": [
    "df[num_cols+target].corr()['obito']"
   ]
  },
  {
   "cell_type": "markdown",
   "id": "2d2c679c",
   "metadata": {},
   "source": [
    "## 3.2 - Variaveis Cetegoricas"
   ]
  },
  {
   "cell_type": "code",
   "execution_count": 6,
   "id": "5c231e8f",
   "metadata": {},
   "outputs": [
    {
     "data": {
      "text/plain": [
       "cs_sexo                    0.037105\n",
       "asma                       0.382664\n",
       "cardiopatia                0.331630\n",
       "diabetes                   0.354265\n",
       "doenca_hematologica        0.383208\n",
       "doenca_hepatica            0.383688\n",
       "doenca_neurologica         0.395646\n",
       "doenca_renal               0.382196\n",
       "imunodepressao             0.375315\n",
       "obesidade                  0.391230\n",
       "outros_fatores_de_risco    0.421101\n",
       "pneumopatia                0.392001\n",
       "puerpera                   0.381258\n",
       "sindrome_de_down           0.382270\n",
       "obito                      0.999997\n",
       "Name: obito, dtype: float64"
      ]
     },
     "execution_count": 6,
     "metadata": {},
     "output_type": "execute_result"
    }
   ],
   "source": [
    "# V de Cramer\n",
    "cramer_v(df, cat_cols+target)['obito']"
   ]
  },
  {
   "cell_type": "code",
   "execution_count": 7,
   "id": "cd09c37c",
   "metadata": {},
   "outputs": [
    {
     "data": {
      "text/plain": [
       "cs_sexo                    0.037105\n",
       "asma                       0.066116\n",
       "cardiopatia                0.233758\n",
       "diabetes                   0.210347\n",
       "doenca_hematologica        0.058346\n",
       "doenca_hepatica            0.072518\n",
       "doenca_neurologica         0.163480\n",
       "doenca_renal               0.123321\n",
       "imunodepressao             0.059066\n",
       "obesidade                  0.176974\n",
       "outros_fatores_de_risco    0.310317\n",
       "pneumopatia                0.141470\n",
       "puerpera                   0.014077\n",
       "sindrome_de_down           0.029828\n",
       "obito                      0.999997\n",
       "Name: obito, dtype: float64"
      ]
     },
     "execution_count": 7,
     "metadata": {},
     "output_type": "execute_result"
    }
   ],
   "source": [
    "# substituindo valores ignoradoe e aplicando o V de Cramer\n",
    "df1 = df.replace(['IGNORADO'],['NÃO'])\n",
    "cramer_v(df1, cat_cols+target)['obito']"
   ]
  },
  {
   "cell_type": "markdown",
   "id": "3dbee31d",
   "metadata": {},
   "source": [
    "# 4 - Feature Engineering"
   ]
  },
  {
   "cell_type": "markdown",
   "id": "a7278f48",
   "metadata": {},
   "source": [
    "Como vimos que diferentes faixas de idade possuem mais ou menos chance de sobreviver, vamos criar uma variável categórica com a faixa de idade do paciente"
   ]
  },
  {
   "cell_type": "code",
   "execution_count": 8,
   "id": "d90258b3",
   "metadata": {},
   "outputs": [],
   "source": [
    "# df['faixa_etaria'] , age_bins = pd.cut(df['idade'], 5, retbins=True)\n",
    "\n",
    "\n",
    "# Alterando os limites das bandas para começar em 0 e terminar em 110\n",
    "# age_bins[0] = 0\n",
    "# age_bins[-1] = 110"
   ]
  },
  {
   "cell_type": "markdown",
   "id": "d7d9af4a",
   "metadata": {},
   "source": [
    "Criaremos dummys para facilitar a análise"
   ]
  },
  {
   "cell_type": "code",
   "execution_count": 9,
   "id": "0ebe93ab",
   "metadata": {},
   "outputs": [
    {
     "data": {
      "text/html": [
       "<div>\n",
       "<style scoped>\n",
       "    .dataframe tbody tr th:only-of-type {\n",
       "        vertical-align: middle;\n",
       "    }\n",
       "\n",
       "    .dataframe tbody tr th {\n",
       "        vertical-align: top;\n",
       "    }\n",
       "\n",
       "    .dataframe thead th {\n",
       "        text-align: right;\n",
       "    }\n",
       "</style>\n",
       "<table border=\"1\" class=\"dataframe\">\n",
       "  <thead>\n",
       "    <tr style=\"text-align: right;\">\n",
       "      <th></th>\n",
       "      <th>nome_munic</th>\n",
       "      <th>codigo_ibge</th>\n",
       "      <th>idade</th>\n",
       "      <th>cs_sexo</th>\n",
       "      <th>data_inicio_sintomas</th>\n",
       "      <th>obito</th>\n",
       "      <th>asma</th>\n",
       "      <th>cardiopatia</th>\n",
       "      <th>diabetes</th>\n",
       "      <th>doenca_hematologica</th>\n",
       "      <th>doenca_hepatica</th>\n",
       "      <th>doenca_neurologica</th>\n",
       "      <th>doenca_renal</th>\n",
       "      <th>imunodepressao</th>\n",
       "      <th>obesidade</th>\n",
       "      <th>outros_fatores_de_risco</th>\n",
       "      <th>pneumopatia</th>\n",
       "      <th>puerpera</th>\n",
       "      <th>sindrome_de_down</th>\n",
       "    </tr>\n",
       "  </thead>\n",
       "  <tbody>\n",
       "    <tr>\n",
       "      <th>0</th>\n",
       "      <td>sao paulo</td>\n",
       "      <td>3550308</td>\n",
       "      <td>45.0</td>\n",
       "      <td>0</td>\n",
       "      <td>2021-03-18T00:00:00Z</td>\n",
       "      <td>0</td>\n",
       "      <td>0</td>\n",
       "      <td>0</td>\n",
       "      <td>0</td>\n",
       "      <td>0</td>\n",
       "      <td>0</td>\n",
       "      <td>0</td>\n",
       "      <td>0</td>\n",
       "      <td>0</td>\n",
       "      <td>0</td>\n",
       "      <td>0</td>\n",
       "      <td>0</td>\n",
       "      <td>0</td>\n",
       "      <td>0</td>\n",
       "    </tr>\n",
       "    <tr>\n",
       "      <th>1</th>\n",
       "      <td>sao paulo</td>\n",
       "      <td>3550308</td>\n",
       "      <td>39.0</td>\n",
       "      <td>0</td>\n",
       "      <td>2021-07-07T00:00:00Z</td>\n",
       "      <td>0</td>\n",
       "      <td>0</td>\n",
       "      <td>0</td>\n",
       "      <td>0</td>\n",
       "      <td>0</td>\n",
       "      <td>0</td>\n",
       "      <td>0</td>\n",
       "      <td>0</td>\n",
       "      <td>0</td>\n",
       "      <td>0</td>\n",
       "      <td>0</td>\n",
       "      <td>0</td>\n",
       "      <td>0</td>\n",
       "      <td>0</td>\n",
       "    </tr>\n",
       "    <tr>\n",
       "      <th>2</th>\n",
       "      <td>sao paulo</td>\n",
       "      <td>3550308</td>\n",
       "      <td>59.0</td>\n",
       "      <td>0</td>\n",
       "      <td>2021-01-20T00:00:00Z</td>\n",
       "      <td>0</td>\n",
       "      <td>0</td>\n",
       "      <td>0</td>\n",
       "      <td>0</td>\n",
       "      <td>0</td>\n",
       "      <td>0</td>\n",
       "      <td>0</td>\n",
       "      <td>0</td>\n",
       "      <td>0</td>\n",
       "      <td>0</td>\n",
       "      <td>0</td>\n",
       "      <td>0</td>\n",
       "      <td>0</td>\n",
       "      <td>0</td>\n",
       "    </tr>\n",
       "    <tr>\n",
       "      <th>3</th>\n",
       "      <td>maua</td>\n",
       "      <td>3529401</td>\n",
       "      <td>27.0</td>\n",
       "      <td>0</td>\n",
       "      <td>2021-02-20T00:00:00Z</td>\n",
       "      <td>0</td>\n",
       "      <td>0</td>\n",
       "      <td>0</td>\n",
       "      <td>0</td>\n",
       "      <td>0</td>\n",
       "      <td>0</td>\n",
       "      <td>0</td>\n",
       "      <td>0</td>\n",
       "      <td>0</td>\n",
       "      <td>0</td>\n",
       "      <td>0</td>\n",
       "      <td>0</td>\n",
       "      <td>0</td>\n",
       "      <td>0</td>\n",
       "    </tr>\n",
       "  </tbody>\n",
       "</table>\n",
       "</div>"
      ],
      "text/plain": [
       "  nome_munic  codigo_ibge  idade  cs_sexo  data_inicio_sintomas  obito  asma  \\\n",
       "0  sao paulo      3550308   45.0        0  2021-03-18T00:00:00Z      0     0   \n",
       "1  sao paulo      3550308   39.0        0  2021-07-07T00:00:00Z      0     0   \n",
       "2  sao paulo      3550308   59.0        0  2021-01-20T00:00:00Z      0     0   \n",
       "3       maua      3529401   27.0        0  2021-02-20T00:00:00Z      0     0   \n",
       "\n",
       "   cardiopatia  diabetes  doenca_hematologica  doenca_hepatica  \\\n",
       "0            0         0                    0                0   \n",
       "1            0         0                    0                0   \n",
       "2            0         0                    0                0   \n",
       "3            0         0                    0                0   \n",
       "\n",
       "   doenca_neurologica  doenca_renal  imunodepressao  obesidade  \\\n",
       "0                   0             0               0          0   \n",
       "1                   0             0               0          0   \n",
       "2                   0             0               0          0   \n",
       "3                   0             0               0          0   \n",
       "\n",
       "   outros_fatores_de_risco  pneumopatia  puerpera  sindrome_de_down  \n",
       "0                        0            0         0                 0  \n",
       "1                        0            0         0                 0  \n",
       "2                        0            0         0                 0  \n",
       "3                        0            0         0                 0  "
      ]
     },
     "execution_count": 9,
     "metadata": {},
     "output_type": "execute_result"
    }
   ],
   "source": [
    "# Convertendo todas as colunas categoricas para dummy's\n",
    "resposta = {'NÃO':0,'SIM':1,'MASCULINO':0,'FEMININO':1}\n",
    "df1 = df1.replace(resposta)\n",
    "df1.head(4)"
   ]
  },
  {
   "cell_type": "markdown",
   "id": "03baa083",
   "metadata": {},
   "source": [
    "# 5 - Feature Selection\n",
    "\n",
    "De todas as Features que temos, vamos identificar quais, de fato, são relevates para o nosso problema. Faremos isso em duas etapas."
   ]
  },
  {
   "cell_type": "markdown",
   "id": "01de6921",
   "metadata": {},
   "source": [
    "\n",
    "## 5.1 - Filter Method\n",
    "\n",
    "Nesta etapa verificamos se as relações observadas entre as variáveis e o target são estatisticamente significativas. Para isso, utilizamos testes de hipótese como ANOVA e chi2. Analisando os p-valores, identificamos variáveis que não são estatisticamente significativas e as removemos do conjunto."
   ]
  },
  {
   "cell_type": "code",
   "execution_count": 10,
   "id": "5a6348ef",
   "metadata": {},
   "outputs": [],
   "source": [
    "colunms_drop = ['data_inicio_sintomas','nome_munic','codigo_ibge','obito']"
   ]
  },
  {
   "cell_type": "code",
   "execution_count": 11,
   "id": "eeec9b56",
   "metadata": {},
   "outputs": [],
   "source": [
    "# variaveis explicativas\n",
    "X = df1.drop(columns=colunms_drop)\n",
    "# variável target\n",
    "y = df1['obito']"
   ]
  },
  {
   "cell_type": "code",
   "execution_count": 12,
   "id": "588a5089",
   "metadata": {},
   "outputs": [],
   "source": [
    "seed = 10\n",
    "X_train, X_test, y_train, y_test = train_test_split(X, y,test_size = 0.3,random_state = seed)"
   ]
  },
  {
   "cell_type": "markdown",
   "id": "ed63ec7d",
   "metadata": {},
   "source": [
    "#### Variaveis Numéricas"
   ]
  },
  {
   "cell_type": "code",
   "execution_count": 13,
   "id": "67360da0",
   "metadata": {},
   "outputs": [],
   "source": [
    "# Seleciona apenas colunas numericas do treino\n",
    "X_train_num = X_train[num_cols]"
   ]
  },
  {
   "cell_type": "code",
   "execution_count": 14,
   "id": "aea48440",
   "metadata": {},
   "outputs": [],
   "source": [
    "# Faz o teste de hipotese utilizando ANOVA\n",
    "anova_result = f_classif(X_train_num, y_train)"
   ]
  },
  {
   "cell_type": "code",
   "execution_count": 15,
   "id": "1602db43",
   "metadata": {},
   "outputs": [],
   "source": [
    "# Organiza os p-valores em uma série\n",
    "p_values_num_features = pd.Series(anova_result[1])\n",
    "p_values_num_features.index = num_cols"
   ]
  },
  {
   "cell_type": "code",
   "execution_count": 16,
   "id": "f2c72f72",
   "metadata": {},
   "outputs": [
    {
     "data": {
      "text/plain": [
       "['idade']"
      ]
     },
     "execution_count": 16,
     "metadata": {},
     "output_type": "execute_result"
    }
   ],
   "source": [
    "# Filtra apenas colunas que tiveram um p-valor inferior a 0.05\n",
    "filter_num_features = p_values_num_features[p_values_num_features < 0.05].index.tolist()\n",
    "filter_num_features"
   ]
  },
  {
   "cell_type": "markdown",
   "id": "1265794a",
   "metadata": {},
   "source": [
    "#### Variáveis Categóricas\n",
    "\n",
    "Para não precisar fazer o encoding das variáveis categóricas agora, vamos utilizar o teste de chi2 do scipy"
   ]
  },
  {
   "cell_type": "code",
   "execution_count": 17,
   "id": "2a0633a0",
   "metadata": {},
   "outputs": [],
   "source": [
    "# Faz o teste chi2 para cada uma das variáveis\n",
    "p_values_cat_features = {}\n",
    "for col in cat_cols:\n",
    "    # Cria tabela de contingencia\n",
    "    df_cross = pd.crosstab(df1[col], df1['obito'])\n",
    "    # Aplica o teste e extrai o p-valor\n",
    "    p_value = stats.chi2_contingency(df_cross)[1]\n",
    "    # Armazena coluna e p-valor em um dict\n",
    "    p_values_cat_features[col] = p_value"
   ]
  },
  {
   "cell_type": "code",
   "execution_count": 18,
   "id": "1609585c",
   "metadata": {},
   "outputs": [],
   "source": [
    "# Organiza p-valores e colunas em uma série\n",
    "p_values_cat_features = pd.Series(p_values_cat_features)"
   ]
  },
  {
   "cell_type": "code",
   "execution_count": 19,
   "id": "0c6da371",
   "metadata": {},
   "outputs": [
    {
     "data": {
      "text/plain": [
       "['cs_sexo',\n",
       " 'asma',\n",
       " 'cardiopatia',\n",
       " 'diabetes',\n",
       " 'doenca_hematologica',\n",
       " 'doenca_hepatica',\n",
       " 'doenca_neurologica',\n",
       " 'doenca_renal',\n",
       " 'imunodepressao',\n",
       " 'obesidade',\n",
       " 'outros_fatores_de_risco',\n",
       " 'pneumopatia',\n",
       " 'puerpera',\n",
       " 'sindrome_de_down']"
      ]
     },
     "execution_count": 19,
     "metadata": {},
     "output_type": "execute_result"
    }
   ],
   "source": [
    "# Filtra colunas com p-valor inferior a 0.05\n",
    "filter_cat_features = p_values_cat_features[p_values_cat_features < 0.05].index.tolist()\n",
    "filter_cat_features"
   ]
  },
  {
   "cell_type": "markdown",
   "id": "27e8062e",
   "metadata": {},
   "source": [
    "## 5.2 - Wrapper Method\n",
    "\n",
    "Aqui utilizamos alguns algoritmos como Boruta ou RFE, cuja ideia é identificar quais as variáveis que, de fato contribuem para o modelo. Tais algoritmos fazem isso, por exemplo, testando a feature contra uma versão randomizada de si mesma ou avaliando se um modelo com a feature performa signficativamente melhor do que o mesmo modelo sem a feature em questão."
   ]
  },
  {
   "cell_type": "markdown",
   "id": "cbca2e9a",
   "metadata": {},
   "source": [
    "\n",
    "### 5.2.1 - Frequency Encoder\n",
    "\n",
    "Para utilizar os Wrapper Methods precisamos fazer encoding das variáveis categóricas. Para isso, vamos utilizar o Frequency Encoder"
   ]
  },
  {
   "cell_type": "code",
   "execution_count": 20,
   "id": "d02fb6a8",
   "metadata": {},
   "outputs": [],
   "source": [
    "# Primeiro precisamos passar todas as variáveis categóricas para object\n",
    "for col in cat_cols:\n",
    "    X_train[col] = X_train[col].astype('object')"
   ]
  },
  {
   "cell_type": "code",
   "execution_count": 21,
   "id": "24610bd0",
   "metadata": {},
   "outputs": [],
   "source": [
    "# Inicializa o encoder\n",
    "fenc = CountFrequencyEncoder(encoding_method='frequency', variables=cat_cols)\n",
    "# Aplica a transformacao em X_train\n",
    "X_train_encoded = fenc.fit_transform(X_train)"
   ]
  },
  {
   "cell_type": "code",
   "execution_count": 22,
   "id": "f99fe4ee",
   "metadata": {},
   "outputs": [],
   "source": [
    "# Iniacializa algoritmo Random Forest para utilizacao no Boruta\n",
    "forest = RandomForestClassifier(n_jobs=-1, max_depth=5)\n",
    "# Inicializa o Boruta\n",
    "boruta_selector = BorutaPy(forest, n_estimators=50, max_iter=100, random_state=42)"
   ]
  },
  {
   "cell_type": "code",
   "execution_count": 23,
   "id": "e8008519",
   "metadata": {},
   "outputs": [
    {
     "data": {
      "text/plain": [
       "BorutaPy(estimator=RandomForestClassifier(max_depth=5, n_estimators=50,\n",
       "                                          n_jobs=-1,\n",
       "                                          random_state=RandomState(MT19937) at 0x16BC425CF40),\n",
       "         n_estimators=50, random_state=RandomState(MT19937) at 0x16BC425CF40)"
      ]
     },
     "execution_count": 23,
     "metadata": {},
     "output_type": "execute_result"
    }
   ],
   "source": [
    "# Ajusta o Boruta sobre os dados de treino\n",
    "boruta_selector.fit(np.array(X_train_encoded), y_train)"
   ]
  },
  {
   "cell_type": "code",
   "execution_count": 24,
   "id": "3e5d0887",
   "metadata": {},
   "outputs": [
    {
     "data": {
      "text/plain": [
       "array([ True,  True,  True,  True,  True,  True,  True,  True,  True,\n",
       "        True,  True,  True,  True, False,  True])"
      ]
     },
     "execution_count": 24,
     "metadata": {},
     "output_type": "execute_result"
    }
   ],
   "source": [
    "# Visualiza variáveis significativas\n",
    "boruta_selector.support_"
   ]
  },
  {
   "cell_type": "code",
   "execution_count": 25,
   "id": "7a1d77c7",
   "metadata": {},
   "outputs": [
    {
     "data": {
      "text/plain": [
       "array([False, False, False, False, False, False, False, False, False,\n",
       "       False, False, False, False, False, False])"
      ]
     },
     "execution_count": 25,
     "metadata": {},
     "output_type": "execute_result"
    }
   ],
   "source": [
    "# Visualiza variáveis com significancia duvidosa\n",
    "boruta_selector.support_weak_"
   ]
  },
  {
   "cell_type": "code",
   "execution_count": 26,
   "id": "32bdd8a4",
   "metadata": {},
   "outputs": [],
   "source": [
    "# Coleta nome das variáveis consideradas significativas pelo Boruta\n",
    "features_boruta = X_train_encoded.loc[:, boruta_selector.support_].columns.tolist()"
   ]
  },
  {
   "cell_type": "code",
   "execution_count": 27,
   "id": "67631216",
   "metadata": {},
   "outputs": [],
   "source": [
    "# Juntando variáveis selecionadas pelo filtro\n",
    "features_filter = filter_num_features + filter_cat_features"
   ]
  },
  {
   "cell_type": "markdown",
   "id": "43af783b",
   "metadata": {},
   "source": [
    "### 5.2.1 - RFE"
   ]
  },
  {
   "cell_type": "code",
   "execution_count": 28,
   "id": "0b32ef5a",
   "metadata": {},
   "outputs": [],
   "source": [
    "#Aplicando o RFE\n",
    "model_logistic = LogisticRegression()\n",
    "#quero que selecione as 5 features mais importantes\n",
    "rfe = RFE(model_logistic, n_features_to_select = 5, step = 1) \n",
    "# modelo utilizado de regressão logistica /  n_features_to_select =quantidade de features a permanecer / step = de quanto em quantas colunas eu removo \n",
    "fit = rfe.fit(X, y)"
   ]
  },
  {
   "cell_type": "code",
   "execution_count": 29,
   "id": "58eb12b5",
   "metadata": {},
   "outputs": [],
   "source": [
    "# visualizando os índices das colunas selecionadas\n",
    "cols = fit.get_support(indices=True)\n",
    "\n",
    "# Filtrando o dataset com apenas as colunas selecionadas\n",
    "features_rfe = X.iloc[:,cols].columns.tolist()"
   ]
  },
  {
   "cell_type": "markdown",
   "id": "f3ef8556",
   "metadata": {},
   "source": [
    "## 5.3 - Resultados"
   ]
  },
  {
   "cell_type": "code",
   "execution_count": 30,
   "id": "ecf134bf",
   "metadata": {},
   "outputs": [],
   "source": [
    "# Define variáveis selecionadas como variáveis em comum entre boruta e filtro\n",
    "selected_features = list(set(features_boruta).intersection(set(features_filter)).intersection(set(features_rfe)))"
   ]
  },
  {
   "cell_type": "code",
   "execution_count": 31,
   "id": "bec86bfa",
   "metadata": {},
   "outputs": [],
   "source": [
    "# Adiciona às variáveis selecionadas a Faixa de Idade, o tamanho da família e o local de embarque\n",
    "selected_features.extend(['idade', 'cs_sexo'])"
   ]
  },
  {
   "cell_type": "code",
   "execution_count": 32,
   "id": "91452d57",
   "metadata": {},
   "outputs": [
    {
     "data": {
      "text/plain": [
       "['outros_fatores_de_risco',\n",
       " 'doenca_neurologica',\n",
       " 'cardiopatia',\n",
       " 'pneumopatia',\n",
       " 'doenca_hepatica',\n",
       " 'idade',\n",
       " 'cs_sexo']"
      ]
     },
     "execution_count": 32,
     "metadata": {},
     "output_type": "execute_result"
    }
   ],
   "source": [
    "selected_features"
   ]
  },
  {
   "cell_type": "code",
   "execution_count": 33,
   "id": "5772a84e",
   "metadata": {},
   "outputs": [],
   "source": [
    "# Filtra X_train para variáveis selecionadas\n",
    "X_train = X_train[selected_features]"
   ]
  },
  {
   "cell_type": "code",
   "execution_count": 34,
   "id": "65f3aa04",
   "metadata": {},
   "outputs": [
    {
     "data": {
      "text/html": [
       "<div>\n",
       "<style scoped>\n",
       "    .dataframe tbody tr th:only-of-type {\n",
       "        vertical-align: middle;\n",
       "    }\n",
       "\n",
       "    .dataframe tbody tr th {\n",
       "        vertical-align: top;\n",
       "    }\n",
       "\n",
       "    .dataframe thead th {\n",
       "        text-align: right;\n",
       "    }\n",
       "</style>\n",
       "<table border=\"1\" class=\"dataframe\">\n",
       "  <thead>\n",
       "    <tr style=\"text-align: right;\">\n",
       "      <th></th>\n",
       "      <th>outros_fatores_de_risco</th>\n",
       "      <th>doenca_neurologica</th>\n",
       "      <th>cardiopatia</th>\n",
       "      <th>pneumopatia</th>\n",
       "      <th>doenca_hepatica</th>\n",
       "      <th>idade</th>\n",
       "      <th>cs_sexo</th>\n",
       "    </tr>\n",
       "  </thead>\n",
       "  <tbody>\n",
       "    <tr>\n",
       "      <th>3819896</th>\n",
       "      <td>0</td>\n",
       "      <td>0</td>\n",
       "      <td>1</td>\n",
       "      <td>0</td>\n",
       "      <td>0</td>\n",
       "      <td>73.0</td>\n",
       "      <td>0</td>\n",
       "    </tr>\n",
       "    <tr>\n",
       "      <th>1705389</th>\n",
       "      <td>0</td>\n",
       "      <td>0</td>\n",
       "      <td>0</td>\n",
       "      <td>0</td>\n",
       "      <td>0</td>\n",
       "      <td>61.0</td>\n",
       "      <td>0</td>\n",
       "    </tr>\n",
       "    <tr>\n",
       "      <th>1378857</th>\n",
       "      <td>0</td>\n",
       "      <td>0</td>\n",
       "      <td>0</td>\n",
       "      <td>0</td>\n",
       "      <td>0</td>\n",
       "      <td>64.0</td>\n",
       "      <td>0</td>\n",
       "    </tr>\n",
       "    <tr>\n",
       "      <th>2872153</th>\n",
       "      <td>1</td>\n",
       "      <td>0</td>\n",
       "      <td>1</td>\n",
       "      <td>0</td>\n",
       "      <td>0</td>\n",
       "      <td>68.0</td>\n",
       "      <td>1</td>\n",
       "    </tr>\n",
       "  </tbody>\n",
       "</table>\n",
       "</div>"
      ],
      "text/plain": [
       "        outros_fatores_de_risco doenca_neurologica cardiopatia pneumopatia  \\\n",
       "3819896                       0                  0           1           0   \n",
       "1705389                       0                  0           0           0   \n",
       "1378857                       0                  0           0           0   \n",
       "2872153                       1                  0           1           0   \n",
       "\n",
       "        doenca_hepatica  idade cs_sexo  \n",
       "3819896               0   73.0       0  \n",
       "1705389               0   61.0       0  \n",
       "1378857               0   64.0       0  \n",
       "2872153               0   68.0       1  "
      ]
     },
     "execution_count": 34,
     "metadata": {},
     "output_type": "execute_result"
    }
   ],
   "source": [
    "X_train.head(4)"
   ]
  },
  {
   "cell_type": "code",
   "execution_count": 35,
   "id": "efada0ca",
   "metadata": {},
   "outputs": [],
   "source": [
    "# Atualiza variáveis categóricas e numéricas\n",
    "cat_cols_updated = ['cardiopatia','diabetes', 'doenca_neurologica', 'obesidade', 'outros_fatores_de_risco','cs_sexo']\n",
    "num_cols_updated = ['idade']"
   ]
  },
  {
   "cell_type": "code",
   "execution_count": 36,
   "id": "1c5a8d33",
   "metadata": {},
   "outputs": [],
   "source": [
    "new_selected_features = cat_cols_updated + num_cols_updated"
   ]
  },
  {
   "cell_type": "markdown",
   "id": "93422bad",
   "metadata": {},
   "source": [
    "# 6 - Exportando o dataframe apenas com as variaveis selecionadas"
   ]
  },
  {
   "cell_type": "code",
   "execution_count": 37,
   "id": "033a224f",
   "metadata": {},
   "outputs": [],
   "source": [
    "df1[new_selected_features + target + ['data_inicio_sintomas']].to_pickle('dados\\cleaned\\df_preped.pkl')"
   ]
  }
 ],
 "metadata": {
  "kernelspec": {
   "display_name": "Python 3",
   "language": "python",
   "name": "python3"
  },
  "language_info": {
   "codemirror_mode": {
    "name": "ipython",
    "version": 3
   },
   "file_extension": ".py",
   "mimetype": "text/x-python",
   "name": "python",
   "nbconvert_exporter": "python",
   "pygments_lexer": "ipython3",
   "version": "3.10.2"
  }
 },
 "nbformat": 4,
 "nbformat_minor": 5
}
