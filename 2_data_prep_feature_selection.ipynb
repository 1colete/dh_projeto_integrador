{
 "cells": [
  {
   "cell_type": "markdown",
   "id": "419d0e1a-7d96-4665-b517-f52adfcbf3bd",
   "metadata": {},
   "source": [
    "# 1. Importar libs e carregar os DataFrames"
   ]
  },
  {
   "cell_type": "code",
   "execution_count": 1,
   "id": "a442a637-5513-421f-aae1-af0a9b8847a0",
   "metadata": {},
   "outputs": [],
   "source": [
    "from bibliotecas.data_prep import *"
   ]
  },
  {
   "cell_type": "code",
   "execution_count": 2,
   "id": "0ec224d3-cbd2-48d3-be7f-4b217debff53",
   "metadata": {},
   "outputs": [],
   "source": [
    "import missingno as msno\n",
    "import seaborn as sns\n",
    "import numpy as np\n",
    "import pandas as pd\n",
    "import matplotlib.pyplot as plt\n",
    "\n",
    "import time\n",
    "from datetime import datetime\n",
    "from datetime import timedelta\n",
    "%matplotlib inline\n",
    "\n",
    "# machine learning models\n",
    "from sklearn.linear_model import LogisticRegression\n",
    "from sklearn.neighbors import KNeighborsClassifier\n",
    "from sklearn.svm import SVC\n",
    "from sklearn.naive_bayes import GaussianNB\n",
    "from sklearn.tree import DecisionTreeClassifier\n",
    "\n",
    "# preprocessing and pipeline\n",
    "from sklearn.preprocessing import (StandardScaler,  # REESCALANDO FEATURES\n",
    "                                   MinMaxScaler,\n",
    "                                    OneHotEncoder,\n",
    "                                    OrdinalEncoder,  \n",
    "                                   RobustScaler, \n",
    "                                   LabelEncoder)\n",
    "from sklearn.pipeline import Pipeline # CRIANDO PIPELINES\n",
    "from sklearn import set_config\n",
    "\n",
    "import category_encoders as ce\n",
    "\n",
    "# feature selection\n",
    "from sklearn.feature_selection import SelectKBest, f_classif, chi2, RFE  # SELEÇÃO DE FEATURES\n",
    "from sklearn.ensemble import RandomForestClassifier\n",
    "\n",
    "# mode selection and metrics\n",
    "from sklearn.model_selection import (train_test_split,  # METRICAS\n",
    "                                     GridSearchCV,\n",
    "                                     KFold,\n",
    "                                     cross_val_score)\n",
    "from feature_engine.encoding import CountFrequencyEncoder\n",
    "from sklearn import metrics\n",
    "\n",
    "from sklearn.metrics import (accuracy_score, \n",
    "                             classification_report, \n",
    "                             precision_score, \n",
    "                             recall_score,\n",
    "                             confusion_matrix,\n",
    "                             roc_auc_score,\n",
    "                             roc_curve\n",
    "                            )\n",
    "\n",
    "from boruta import BorutaPy \n",
    "\n",
    "# warnings option\n",
    "import warnings\n",
    "warnings.filterwarnings('ignore')"
   ]
  },
  {
   "cell_type": "markdown",
   "id": "9510554a-ec89-47d2-b74a-12afa15469a3",
   "metadata": {
    "tags": []
   },
   "source": [
    "# 2 - Lendo Arquivos"
   ]
  },
  {
   "cell_type": "code",
   "execution_count": 3,
   "id": "4befbb0c-8204-47a9-b2c5-42aa2661e1ef",
   "metadata": {},
   "outputs": [],
   "source": [
    "df_covid = pd.read_pickle('dados/cleaned/df_nonan.pkl')\n",
    "df_idh = pd.read_pickle('dados/cleaned/df_idh.pkl')\n",
    "df_populacao = pd.read_excel('dados/cleaned/pop_saopaulo.xlsx')"
   ]
  },
  {
   "cell_type": "markdown",
   "id": "96bb8c3b",
   "metadata": {},
   "source": [
    "# 3 - Associacao de Variaveis"
   ]
  },
  {
   "cell_type": "code",
   "execution_count": 4,
   "id": "0dda479d",
   "metadata": {},
   "outputs": [],
   "source": [
    "target = ['obito']\n",
    "cat_cols = ['cs_sexo','asma','cardiopatia','diabetes','doenca_hematologica','doenca_hepatica','doenca_neurologica','doenca_renal','imunodepressao','obesidade','outros_fatores_de_risco','pneumopatia','puerpera','sindrome_de_down']\n",
    "num_cols = ['idade']"
   ]
  },
  {
   "cell_type": "markdown",
   "id": "ca8c2a9f",
   "metadata": {},
   "source": [
    "## 3.1 - Variaveis numéricas"
   ]
  },
  {
   "cell_type": "code",
   "execution_count": 5,
   "id": "327635f7",
   "metadata": {},
   "outputs": [
    {
     "data": {
      "text/plain": [
       "idade    0.266945\n",
       "obito    1.000000\n",
       "Name: obito, dtype: float64"
      ]
     },
     "execution_count": 5,
     "metadata": {},
     "output_type": "execute_result"
    }
   ],
   "source": [
    "df_covid[num_cols+target].corr()['obito']"
   ]
  },
  {
   "cell_type": "markdown",
   "id": "2d2c679c",
   "metadata": {},
   "source": [
    "## 3.2 - Variaveis Cetegoricas"
   ]
  },
  {
   "cell_type": "code",
   "execution_count": 6,
   "id": "5c231e8f",
   "metadata": {},
   "outputs": [
    {
     "data": {
      "text/plain": [
       "cs_sexo                    0.037105\n",
       "asma                       0.382664\n",
       "cardiopatia                0.331630\n",
       "diabetes                   0.354265\n",
       "doenca_hematologica        0.383208\n",
       "doenca_hepatica            0.383688\n",
       "doenca_neurologica         0.395646\n",
       "doenca_renal               0.382196\n",
       "imunodepressao             0.375315\n",
       "obesidade                  0.391230\n",
       "outros_fatores_de_risco    0.421101\n",
       "pneumopatia                0.392001\n",
       "puerpera                   0.381258\n",
       "sindrome_de_down           0.382270\n",
       "obito                      0.999997\n",
       "Name: obito, dtype: float64"
      ]
     },
     "execution_count": 6,
     "metadata": {},
     "output_type": "execute_result"
    }
   ],
   "source": [
    "# V de Cramer\n",
    "cramer_v(df_covid, cat_cols+target)['obito']"
   ]
  },
  {
   "cell_type": "code",
   "execution_count": 7,
   "id": "cd09c37c",
   "metadata": {},
   "outputs": [
    {
     "data": {
      "text/plain": [
       "cs_sexo                    0.037105\n",
       "asma                       0.066116\n",
       "cardiopatia                0.233758\n",
       "diabetes                   0.210347\n",
       "doenca_hematologica        0.058346\n",
       "doenca_hepatica            0.072518\n",
       "doenca_neurologica         0.163480\n",
       "doenca_renal               0.123321\n",
       "imunodepressao             0.059066\n",
       "obesidade                  0.176974\n",
       "outros_fatores_de_risco    0.310317\n",
       "pneumopatia                0.141470\n",
       "puerpera                   0.014077\n",
       "sindrome_de_down           0.029828\n",
       "obito                      0.999997\n",
       "Name: obito, dtype: float64"
      ]
     },
     "execution_count": 7,
     "metadata": {},
     "output_type": "execute_result"
    }
   ],
   "source": [
    "# substituindo valores ignoradoe e aplicando o V de Cramer\n",
    "cramer_v(df_covid.replace(['IGNORADO'],['NÃO']), cat_cols+target)['obito']"
   ]
  },
  {
   "cell_type": "markdown",
   "id": "3dbee31d",
   "metadata": {},
   "source": [
    "# 4 - Feature Engineering"
   ]
  },
  {
   "cell_type": "markdown",
   "id": "a7278f48",
   "metadata": {},
   "source": [
    "Como vimos que diferentes faixas de idade possuem mais ou menos chance de sobreviver, vamos criar uma variável categórica com a faixa de idade do paciente"
   ]
  },
  {
   "cell_type": "code",
   "execution_count": 8,
   "id": "d90258b3",
   "metadata": {},
   "outputs": [],
   "source": [
    "df_covid['faixa_etaria'] , age_bins = pd.cut(df_covid['idade'], 5, retbins=True)\n",
    "\n",
    "\n",
    "# Alterando os limites das bandas para começar em 0 e terminar em 110\n",
    "age_bins[0] = 0\n",
    "age_bins[-1] = 110"
   ]
  },
  {
   "cell_type": "markdown",
   "id": "03baa083",
   "metadata": {},
   "source": [
    "# 5. Feature Selection\n",
    "\n",
    "De todas as Features que temos, vamos identificar quais, de fato, são relevates para o nosso problema. Faremos isso em duas etapas.\n",
    "\n",
    "## 5.1 Filter Method\n",
    "\n",
    "Nesta etapa verificamos se as relações observadas entre as variáveis e o target são estatisticamente significativas. Para isso, utilizamos testes de hipótese como ANOVA e chi2. Analisando os p-valores, identificamos variáveis que não são estatisticamente significativas e as removemos do conjunto.\n",
    "\n",
    "### 5.2 Wrapper Method\n",
    "\n",
    "Aqui utilizamos alguns algoritmos como Boruta ou RFE, cuja ideia é identificar quais as variáveis que, de fato contribuem para o modelo. Tais algoritmos fazem isso, por exemplo, testando a feature contra uma versão randomizada de si mesma ou avaliando se um modelo com a feature performa signficativamente melhor do que o mesmo modelo sem a feature em questão."
   ]
  },
  {
   "cell_type": "code",
   "execution_count": 9,
   "id": "9281f2ea",
   "metadata": {},
   "outputs": [],
   "source": [
    "# Separa DataFrame de treino em X_train e y_train\n",
    "X_train = df_covid.drop(target, axis=1)\n",
    "y_train = df_covid['obito']"
   ]
  },
  {
   "cell_type": "markdown",
   "id": "ed63ec7d",
   "metadata": {},
   "source": [
    "#### Variaveis Numéricas"
   ]
  },
  {
   "cell_type": "code",
   "execution_count": 12,
   "id": "67360da0",
   "metadata": {},
   "outputs": [],
   "source": [
    "# Seleciona apenas colunas numericas do treino\n",
    "X_train_num = X_train[num_cols]"
   ]
  },
  {
   "cell_type": "code",
   "execution_count": 13,
   "id": "aea48440",
   "metadata": {},
   "outputs": [],
   "source": [
    "# Faz o teste de hipotese utilizando ANOVA\n",
    "anova_result = f_classif(X_train_num, y_train)"
   ]
  },
  {
   "cell_type": "code",
   "execution_count": 14,
   "id": "1602db43",
   "metadata": {},
   "outputs": [],
   "source": [
    "# Organiza os p-valores em uma série\n",
    "p_values_num_features = pd.Series(anova_result[1])\n",
    "p_values_num_features.index = num_cols"
   ]
  },
  {
   "cell_type": "code",
   "execution_count": 15,
   "id": "f2c72f72",
   "metadata": {},
   "outputs": [
    {
     "data": {
      "text/plain": [
       "['idade']"
      ]
     },
     "execution_count": 15,
     "metadata": {},
     "output_type": "execute_result"
    }
   ],
   "source": [
    "# Filtra apenas colunas que tiveram um p-valor inferior a 0.05\n",
    "filter_num_features = p_values_num_features[p_values_num_features < 0.05].index.tolist()\n",
    "filter_num_features"
   ]
  },
  {
   "cell_type": "markdown",
   "id": "1265794a",
   "metadata": {},
   "source": [
    "#### Variáveis Categóricas\n",
    "\n",
    "Para não precisar fazer o encoding das variáveis categóricas agora, vamos utilizar o teste de chi2 do scipy"
   ]
  },
  {
   "cell_type": "code",
   "execution_count": 18,
   "id": "2a0633a0",
   "metadata": {},
   "outputs": [],
   "source": [
    "# Faz o teste chi2 para cada uma das variáveis\n",
    "p_values_cat_features = {}\n",
    "for col in cat_cols:\n",
    "    # Cria tabela de contingencia\n",
    "    df_cross = pd.crosstab(df_covid[col], df_covid['obito'])\n",
    "    # Aplica o teste e extrai o p-valor\n",
    "    p_value = stats.chi2_contingency(df_cross)[1]\n",
    "    # Armazena coluna e p-valor em um dict\n",
    "    p_values_cat_features[col] = p_value"
   ]
  },
  {
   "cell_type": "code",
   "execution_count": 19,
   "id": "1609585c",
   "metadata": {},
   "outputs": [],
   "source": [
    "# Organiza p-valores e colunas em uma série\n",
    "p_values_cat_features = pd.Series(p_values_cat_features)"
   ]
  },
  {
   "cell_type": "code",
   "execution_count": 20,
   "id": "0c6da371",
   "metadata": {},
   "outputs": [
    {
     "data": {
      "text/plain": [
       "['cs_sexo',\n",
       " 'asma',\n",
       " 'cardiopatia',\n",
       " 'diabetes',\n",
       " 'doenca_hematologica',\n",
       " 'doenca_hepatica',\n",
       " 'doenca_neurologica',\n",
       " 'doenca_renal',\n",
       " 'imunodepressao',\n",
       " 'obesidade',\n",
       " 'outros_fatores_de_risco',\n",
       " 'pneumopatia',\n",
       " 'puerpera',\n",
       " 'sindrome_de_down']"
      ]
     },
     "execution_count": 20,
     "metadata": {},
     "output_type": "execute_result"
    }
   ],
   "source": [
    "# Filtra colunas com p-valor inferior a 0.05\n",
    "filter_cat_features = p_values_cat_features[p_values_cat_features < 0.05].index.tolist()\n",
    "filter_cat_features"
   ]
  },
  {
   "cell_type": "markdown",
   "id": "cbca2e9a",
   "metadata": {},
   "source": [
    "#### Wrapper Method\n",
    "\n",
    "Para utilizar os Wrapper Methods precisamos fazer encoding das variáveis categóricas. Para isso, vamos utilizar o Frequency Encoder"
   ]
  },
  {
   "cell_type": "code",
   "execution_count": 21,
   "id": "d02fb6a8",
   "metadata": {},
   "outputs": [],
   "source": [
    "# Primeiro precisamos passar todas as variáveis categóricas para object\n",
    "for col in cat_cols:\n",
    "    X_train[col] = X_train[col].astype('object')"
   ]
  },
  {
   "cell_type": "code",
   "execution_count": 22,
   "id": "24610bd0",
   "metadata": {},
   "outputs": [],
   "source": [
    "# Inicializa o encoder\n",
    "fenc = CountFrequencyEncoder(encoding_method='frequency', variables=cat_cols)\n",
    "# Aplica a transformacao em X_train\n",
    "X_train_encoded = fenc.fit_transform(X_train)"
   ]
  },
  {
   "cell_type": "code",
   "execution_count": 23,
   "id": "f99fe4ee",
   "metadata": {},
   "outputs": [],
   "source": [
    "# Iniacializa algoritmo Random Forest para utilizacao no Boruta\n",
    "forest = RandomForestClassifier(n_jobs=-1, max_depth=5)\n",
    "# Inicializa o Boruta\n",
    "boruta_selector = BorutaPy(forest, n_estimators=50, max_iter=100, random_state=42)"
   ]
  },
  {
   "cell_type": "code",
   "execution_count": 24,
   "id": "e8008519",
   "metadata": {},
   "outputs": [
    {
     "ename": "ValueError",
     "evalue": "could not convert string to float: 'sao paulo'",
     "output_type": "error",
     "traceback": [
      "\u001b[1;31m---------------------------------------------------------------------------\u001b[0m",
      "\u001b[1;31mValueError\u001b[0m                                Traceback (most recent call last)",
      "\u001b[1;32mc:\\workspace\\dh_projeto_integrador\\2_data_prep_feature_selection.ipynb Cell 31'\u001b[0m in \u001b[0;36m<module>\u001b[1;34m\u001b[0m\n\u001b[0;32m      <a href='vscode-notebook-cell:/c%3A/workspace/dh_projeto_integrador/2_data_prep_feature_selection.ipynb#ch0000032?line=0'>1</a>\u001b[0m \u001b[39m# Ajusta o Boruta sobre os dados de treino\u001b[39;00m\n\u001b[1;32m----> <a href='vscode-notebook-cell:/c%3A/workspace/dh_projeto_integrador/2_data_prep_feature_selection.ipynb#ch0000032?line=1'>2</a>\u001b[0m boruta_selector\u001b[39m.\u001b[39;49mfit(np\u001b[39m.\u001b[39;49marray(X_train_encoded), y_train)\n",
      "File \u001b[1;32m~\\anaconda3\\envs\\geo_env\\lib\\site-packages\\boruta\\boruta_py.py:201\u001b[0m, in \u001b[0;36mBorutaPy.fit\u001b[1;34m(self, X, y)\u001b[0m\n\u001b[0;32m    <a href='file:///~/anaconda3/envs/geo_env/lib/site-packages/boruta/boruta_py.py?line=187'>188</a>\u001b[0m \u001b[39mdef\u001b[39;00m \u001b[39mfit\u001b[39m(\u001b[39mself\u001b[39m, X, y):\n\u001b[0;32m    <a href='file:///~/anaconda3/envs/geo_env/lib/site-packages/boruta/boruta_py.py?line=188'>189</a>\u001b[0m     \u001b[39m\"\"\"\u001b[39;00m\n\u001b[0;32m    <a href='file:///~/anaconda3/envs/geo_env/lib/site-packages/boruta/boruta_py.py?line=189'>190</a>\u001b[0m \u001b[39m    Fits the Boruta feature selection with the provided estimator.\u001b[39;00m\n\u001b[0;32m    <a href='file:///~/anaconda3/envs/geo_env/lib/site-packages/boruta/boruta_py.py?line=190'>191</a>\u001b[0m \n\u001b[1;32m   (...)\u001b[0m\n\u001b[0;32m    <a href='file:///~/anaconda3/envs/geo_env/lib/site-packages/boruta/boruta_py.py?line=197'>198</a>\u001b[0m \u001b[39m        The target values.\u001b[39;00m\n\u001b[0;32m    <a href='file:///~/anaconda3/envs/geo_env/lib/site-packages/boruta/boruta_py.py?line=198'>199</a>\u001b[0m \u001b[39m    \"\"\"\u001b[39;00m\n\u001b[1;32m--> <a href='file:///~/anaconda3/envs/geo_env/lib/site-packages/boruta/boruta_py.py?line=200'>201</a>\u001b[0m     \u001b[39mreturn\u001b[39;00m \u001b[39mself\u001b[39;49m\u001b[39m.\u001b[39;49m_fit(X, y)\n",
      "File \u001b[1;32m~\\anaconda3\\envs\\geo_env\\lib\\site-packages\\boruta\\boruta_py.py:251\u001b[0m, in \u001b[0;36mBorutaPy._fit\u001b[1;34m(self, X, y)\u001b[0m\n\u001b[0;32m    <a href='file:///~/anaconda3/envs/geo_env/lib/site-packages/boruta/boruta_py.py?line=248'>249</a>\u001b[0m \u001b[39mdef\u001b[39;00m \u001b[39m_fit\u001b[39m(\u001b[39mself\u001b[39m, X, y):\n\u001b[0;32m    <a href='file:///~/anaconda3/envs/geo_env/lib/site-packages/boruta/boruta_py.py?line=249'>250</a>\u001b[0m     \u001b[39m# check input params\u001b[39;00m\n\u001b[1;32m--> <a href='file:///~/anaconda3/envs/geo_env/lib/site-packages/boruta/boruta_py.py?line=250'>251</a>\u001b[0m     \u001b[39mself\u001b[39;49m\u001b[39m.\u001b[39;49m_check_params(X, y)\n\u001b[0;32m    <a href='file:///~/anaconda3/envs/geo_env/lib/site-packages/boruta/boruta_py.py?line=251'>252</a>\u001b[0m     \u001b[39mself\u001b[39m\u001b[39m.\u001b[39mrandom_state \u001b[39m=\u001b[39m check_random_state(\u001b[39mself\u001b[39m\u001b[39m.\u001b[39mrandom_state)\n\u001b[0;32m    <a href='file:///~/anaconda3/envs/geo_env/lib/site-packages/boruta/boruta_py.py?line=252'>253</a>\u001b[0m     \u001b[39m# setup variables for Boruta\u001b[39;00m\n",
      "File \u001b[1;32m~\\anaconda3\\envs\\geo_env\\lib\\site-packages\\boruta\\boruta_py.py:517\u001b[0m, in \u001b[0;36mBorutaPy._check_params\u001b[1;34m(self, X, y)\u001b[0m\n\u001b[0;32m    <a href='file:///~/anaconda3/envs/geo_env/lib/site-packages/boruta/boruta_py.py?line=512'>513</a>\u001b[0m \u001b[39m\"\"\"\u001b[39;00m\n\u001b[0;32m    <a href='file:///~/anaconda3/envs/geo_env/lib/site-packages/boruta/boruta_py.py?line=513'>514</a>\u001b[0m \u001b[39mCheck hyperparameters as well as X and y before proceeding with fit.\u001b[39;00m\n\u001b[0;32m    <a href='file:///~/anaconda3/envs/geo_env/lib/site-packages/boruta/boruta_py.py?line=514'>515</a>\u001b[0m \u001b[39m\"\"\"\u001b[39;00m\n\u001b[0;32m    <a href='file:///~/anaconda3/envs/geo_env/lib/site-packages/boruta/boruta_py.py?line=515'>516</a>\u001b[0m \u001b[39m# check X and y are consistent len, X is Array and y is column\u001b[39;00m\n\u001b[1;32m--> <a href='file:///~/anaconda3/envs/geo_env/lib/site-packages/boruta/boruta_py.py?line=516'>517</a>\u001b[0m X, y \u001b[39m=\u001b[39m check_X_y(X, y)\n\u001b[0;32m    <a href='file:///~/anaconda3/envs/geo_env/lib/site-packages/boruta/boruta_py.py?line=517'>518</a>\u001b[0m \u001b[39mif\u001b[39;00m \u001b[39mself\u001b[39m\u001b[39m.\u001b[39mperc \u001b[39m<\u001b[39m\u001b[39m=\u001b[39m \u001b[39m0\u001b[39m \u001b[39mor\u001b[39;00m \u001b[39mself\u001b[39m\u001b[39m.\u001b[39mperc \u001b[39m>\u001b[39m \u001b[39m100\u001b[39m:\n\u001b[0;32m    <a href='file:///~/anaconda3/envs/geo_env/lib/site-packages/boruta/boruta_py.py?line=518'>519</a>\u001b[0m     \u001b[39mraise\u001b[39;00m \u001b[39mValueError\u001b[39;00m(\u001b[39m'\u001b[39m\u001b[39mThe percentile should be between 0 and 100.\u001b[39m\u001b[39m'\u001b[39m)\n",
      "File \u001b[1;32m~\\anaconda3\\envs\\geo_env\\lib\\site-packages\\sklearn\\utils\\validation.py:964\u001b[0m, in \u001b[0;36mcheck_X_y\u001b[1;34m(X, y, accept_sparse, accept_large_sparse, dtype, order, copy, force_all_finite, ensure_2d, allow_nd, multi_output, ensure_min_samples, ensure_min_features, y_numeric, estimator)\u001b[0m\n\u001b[0;32m    <a href='file:///~/anaconda3/envs/geo_env/lib/site-packages/sklearn/utils/validation.py?line=960'>961</a>\u001b[0m \u001b[39mif\u001b[39;00m y \u001b[39mis\u001b[39;00m \u001b[39mNone\u001b[39;00m:\n\u001b[0;32m    <a href='file:///~/anaconda3/envs/geo_env/lib/site-packages/sklearn/utils/validation.py?line=961'>962</a>\u001b[0m     \u001b[39mraise\u001b[39;00m \u001b[39mValueError\u001b[39;00m(\u001b[39m\"\u001b[39m\u001b[39my cannot be None\u001b[39m\u001b[39m\"\u001b[39m)\n\u001b[1;32m--> <a href='file:///~/anaconda3/envs/geo_env/lib/site-packages/sklearn/utils/validation.py?line=963'>964</a>\u001b[0m X \u001b[39m=\u001b[39m check_array(\n\u001b[0;32m    <a href='file:///~/anaconda3/envs/geo_env/lib/site-packages/sklearn/utils/validation.py?line=964'>965</a>\u001b[0m     X,\n\u001b[0;32m    <a href='file:///~/anaconda3/envs/geo_env/lib/site-packages/sklearn/utils/validation.py?line=965'>966</a>\u001b[0m     accept_sparse\u001b[39m=\u001b[39;49maccept_sparse,\n\u001b[0;32m    <a href='file:///~/anaconda3/envs/geo_env/lib/site-packages/sklearn/utils/validation.py?line=966'>967</a>\u001b[0m     accept_large_sparse\u001b[39m=\u001b[39;49maccept_large_sparse,\n\u001b[0;32m    <a href='file:///~/anaconda3/envs/geo_env/lib/site-packages/sklearn/utils/validation.py?line=967'>968</a>\u001b[0m     dtype\u001b[39m=\u001b[39;49mdtype,\n\u001b[0;32m    <a href='file:///~/anaconda3/envs/geo_env/lib/site-packages/sklearn/utils/validation.py?line=968'>969</a>\u001b[0m     order\u001b[39m=\u001b[39;49morder,\n\u001b[0;32m    <a href='file:///~/anaconda3/envs/geo_env/lib/site-packages/sklearn/utils/validation.py?line=969'>970</a>\u001b[0m     copy\u001b[39m=\u001b[39;49mcopy,\n\u001b[0;32m    <a href='file:///~/anaconda3/envs/geo_env/lib/site-packages/sklearn/utils/validation.py?line=970'>971</a>\u001b[0m     force_all_finite\u001b[39m=\u001b[39;49mforce_all_finite,\n\u001b[0;32m    <a href='file:///~/anaconda3/envs/geo_env/lib/site-packages/sklearn/utils/validation.py?line=971'>972</a>\u001b[0m     ensure_2d\u001b[39m=\u001b[39;49mensure_2d,\n\u001b[0;32m    <a href='file:///~/anaconda3/envs/geo_env/lib/site-packages/sklearn/utils/validation.py?line=972'>973</a>\u001b[0m     allow_nd\u001b[39m=\u001b[39;49mallow_nd,\n\u001b[0;32m    <a href='file:///~/anaconda3/envs/geo_env/lib/site-packages/sklearn/utils/validation.py?line=973'>974</a>\u001b[0m     ensure_min_samples\u001b[39m=\u001b[39;49mensure_min_samples,\n\u001b[0;32m    <a href='file:///~/anaconda3/envs/geo_env/lib/site-packages/sklearn/utils/validation.py?line=974'>975</a>\u001b[0m     ensure_min_features\u001b[39m=\u001b[39;49mensure_min_features,\n\u001b[0;32m    <a href='file:///~/anaconda3/envs/geo_env/lib/site-packages/sklearn/utils/validation.py?line=975'>976</a>\u001b[0m     estimator\u001b[39m=\u001b[39;49mestimator,\n\u001b[0;32m    <a href='file:///~/anaconda3/envs/geo_env/lib/site-packages/sklearn/utils/validation.py?line=976'>977</a>\u001b[0m )\n\u001b[0;32m    <a href='file:///~/anaconda3/envs/geo_env/lib/site-packages/sklearn/utils/validation.py?line=978'>979</a>\u001b[0m y \u001b[39m=\u001b[39m _check_y(y, multi_output\u001b[39m=\u001b[39mmulti_output, y_numeric\u001b[39m=\u001b[39my_numeric)\n\u001b[0;32m    <a href='file:///~/anaconda3/envs/geo_env/lib/site-packages/sklearn/utils/validation.py?line=980'>981</a>\u001b[0m check_consistent_length(X, y)\n",
      "File \u001b[1;32m~\\anaconda3\\envs\\geo_env\\lib\\site-packages\\sklearn\\utils\\validation.py:746\u001b[0m, in \u001b[0;36mcheck_array\u001b[1;34m(array, accept_sparse, accept_large_sparse, dtype, order, copy, force_all_finite, ensure_2d, allow_nd, ensure_min_samples, ensure_min_features, estimator)\u001b[0m\n\u001b[0;32m    <a href='file:///~/anaconda3/envs/geo_env/lib/site-packages/sklearn/utils/validation.py?line=743'>744</a>\u001b[0m         array \u001b[39m=\u001b[39m array\u001b[39m.\u001b[39mastype(dtype, casting\u001b[39m=\u001b[39m\u001b[39m\"\u001b[39m\u001b[39munsafe\u001b[39m\u001b[39m\"\u001b[39m, copy\u001b[39m=\u001b[39m\u001b[39mFalse\u001b[39;00m)\n\u001b[0;32m    <a href='file:///~/anaconda3/envs/geo_env/lib/site-packages/sklearn/utils/validation.py?line=744'>745</a>\u001b[0m     \u001b[39melse\u001b[39;00m:\n\u001b[1;32m--> <a href='file:///~/anaconda3/envs/geo_env/lib/site-packages/sklearn/utils/validation.py?line=745'>746</a>\u001b[0m         array \u001b[39m=\u001b[39m np\u001b[39m.\u001b[39;49masarray(array, order\u001b[39m=\u001b[39;49morder, dtype\u001b[39m=\u001b[39;49mdtype)\n\u001b[0;32m    <a href='file:///~/anaconda3/envs/geo_env/lib/site-packages/sklearn/utils/validation.py?line=746'>747</a>\u001b[0m \u001b[39mexcept\u001b[39;00m ComplexWarning \u001b[39mas\u001b[39;00m complex_warning:\n\u001b[0;32m    <a href='file:///~/anaconda3/envs/geo_env/lib/site-packages/sklearn/utils/validation.py?line=747'>748</a>\u001b[0m     \u001b[39mraise\u001b[39;00m \u001b[39mValueError\u001b[39;00m(\n\u001b[0;32m    <a href='file:///~/anaconda3/envs/geo_env/lib/site-packages/sklearn/utils/validation.py?line=748'>749</a>\u001b[0m         \u001b[39m\"\u001b[39m\u001b[39mComplex data not supported\u001b[39m\u001b[39m\\n\u001b[39;00m\u001b[39m{}\u001b[39;00m\u001b[39m\\n\u001b[39;00m\u001b[39m\"\u001b[39m\u001b[39m.\u001b[39mformat(array)\n\u001b[0;32m    <a href='file:///~/anaconda3/envs/geo_env/lib/site-packages/sklearn/utils/validation.py?line=749'>750</a>\u001b[0m     ) \u001b[39mfrom\u001b[39;00m \u001b[39mcomplex_warning\u001b[39;00m\n",
      "\u001b[1;31mValueError\u001b[0m: could not convert string to float: 'sao paulo'"
     ]
    }
   ],
   "source": [
    "# Ajusta o Boruta sobre os dados de treino\n",
    "boruta_selector.fit(np.array(X_train_encoded), y_train)"
   ]
  },
  {
   "cell_type": "code",
   "execution_count": null,
   "id": "3e5d0887",
   "metadata": {},
   "outputs": [],
   "source": [
    "# Visualiza variáveis significativas\n",
    "boruta_selector.support_"
   ]
  },
  {
   "cell_type": "code",
   "execution_count": null,
   "id": "7a1d77c7",
   "metadata": {},
   "outputs": [],
   "source": [
    "# Visualiza variáveis com significancia duvidosa\n",
    "boruta_selector.support_weak_"
   ]
  },
  {
   "cell_type": "code",
   "execution_count": null,
   "id": "32bdd8a4",
   "metadata": {},
   "outputs": [],
   "source": [
    "# Coleta nome das variáveis consideradas significativas pelo Boruta\n",
    "features_boruta = X_train_encoded.loc[:, boruta_selector.support_].columns.tolist()"
   ]
  },
  {
   "cell_type": "code",
   "execution_count": null,
   "id": "67631216",
   "metadata": {},
   "outputs": [],
   "source": [
    "# Juntando variáveis selecionadas pelo filtro\n",
    "features_filter = filter_num_features + filter_cat_features"
   ]
  },
  {
   "cell_type": "markdown",
   "id": "f3ef8556",
   "metadata": {},
   "source": [
    "Resultados"
   ]
  },
  {
   "cell_type": "code",
   "execution_count": null,
   "id": "ecf134bf",
   "metadata": {},
   "outputs": [],
   "source": [
    "# Define variáveis selecionadas como variáveis em comum entre boruta e filtro\n",
    "selected_features = list(set(features_boruta).intersection(set(features_filter)))"
   ]
  },
  {
   "cell_type": "code",
   "execution_count": null,
   "id": "bec86bfa",
   "metadata": {},
   "outputs": [],
   "source": [
    "# Adiciona às variáveis selecionadas a Faixa de Idade, o tamanho da família e o local de embarque\n",
    "selected_features.extend(['Age_Band', 'Family_Size', 'Embarked'])"
   ]
  },
  {
   "cell_type": "code",
   "execution_count": null,
   "id": "5772a84e",
   "metadata": {},
   "outputs": [],
   "source": [
    "# Filtra X_train para variáveis selecionadas\n",
    "X_train = X_train[selected_features]"
   ]
  },
  {
   "cell_type": "code",
   "execution_count": null,
   "id": "efada0ca",
   "metadata": {},
   "outputs": [],
   "source": [
    "# Atualiza variáveis categóricas e numéricas\n",
    "cat_cols_updated = ['Title', 'Has_Cabin', 'Pclass', 'Sex', 'Age_Band', 'Embarked']\n",
    "num_cols_updated = ['Fare', 'Family_Size']"
   ]
  },
  {
   "cell_type": "code",
   "execution_count": null,
   "id": "63e08446",
   "metadata": {},
   "outputs": [],
   "source": []
  }
 ],
 "metadata": {
  "kernelspec": {
   "display_name": "Python 3",
   "language": "python",
   "name": "python3"
  },
  "language_info": {
   "codemirror_mode": {
    "name": "ipython",
    "version": 3
   },
   "file_extension": ".py",
   "mimetype": "text/x-python",
   "name": "python",
   "nbconvert_exporter": "python",
   "pygments_lexer": "ipython3",
   "version": "3.10.2"
  }
 },
 "nbformat": 4,
 "nbformat_minor": 5
}
